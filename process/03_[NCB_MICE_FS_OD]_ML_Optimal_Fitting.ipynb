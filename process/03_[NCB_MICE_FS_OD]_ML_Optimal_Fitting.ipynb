{
  "nbformat": 4,
  "nbformat_minor": 0,
  "metadata": {
    "colab": {
      "provenance": [],
      "collapsed_sections": [
        "GJEh5wesbACT",
        "aaiUCeJgh7bs",
        "EwG3D79-RBeK",
        "Lm7iHl-y_ZBO",
        "OikQZ6eQwYOE",
        "rx_wGobNrSWK",
        "sByUD-3EmtNj",
        "zpkuBTAOAy9H",
        "QcA8zrvR_KFO"
      ]
    },
    "kernelspec": {
      "name": "python3",
      "display_name": "Python 3"
    },
    "language_info": {
      "name": "python"
    }
  },
  "cells": [
    {
      "cell_type": "markdown",
      "metadata": {
        "id": "2WduN3gt6d4C"
      },
      "source": [
        "> 은행과 같은 금융기관의 리테일 금융소비자(개인 고객)에 대하여 가계신용대출(Home Credit Loan)을 할 경우 **고객이 대출금을 상환할지 Target 변수 분류 및 대출금액 예측** 프로젝트"
      ]
    },
    {
      "cell_type": "markdown",
      "metadata": {
        "id": "zkEmcrHMP9n8"
      },
      "source": [
        "### 신용대출상환 여부 TARGET 분류를 위한 베이스라인 모델 구축"
      ]
    },
    {
      "cell_type": "code",
      "execution_count": null,
      "metadata": {
        "colab": {
          "base_uri": "https://localhost:8080/"
        },
        "id": "43wjzlfq6lWd",
        "outputId": "39fccc81-1924-4aae-e9f3-94c33c98b426"
      },
      "outputs": [
        {
          "output_type": "stream",
          "name": "stdout",
          "text": [
            "Mounted at /content/drive\n"
          ]
        }
      ],
      "source": [
        "import pandas as pd\n",
        "import numpy as np\n",
        "from collections import Counter\n",
        "import missingno as msno\n",
        "from typing import *\n",
        "  # [데이터프레임 핸들링, 선형대수, 결측값 처리 목적 라이브러리 모듈]\n",
        "\n",
        "from google.colab import drive\n",
        "drive.mount(\"/content/drive\")\n",
        "  # [코랩에 구글 드라이브 마운트]\n",
        "\n",
        "from sklearn.preprocessing import *\n",
        "  # [연속형 변수 스케일링 및 범주형 변수 인코딩 목적 모든 라이브러리 모듈]\n",
        "from sklearn.model_selection import train_test_split\n",
        "  # [훈련용 및 검증용 데이터 셋 분할 목적 라이브러리 모듈]\n",
        "from sklearn.model_selection import KFold\n",
        "from sklearn.model_selection import StratifiedKFold\n",
        "from sklearn.model_selection import GridSearchCV\n",
        "  # [K-폴드 교차검증(랜덤 또는 타겟하는 클래스 변수 비율 층화) 및 그리드 서치 목적 라이브러리 모듈]\n",
        "\n",
        "import matplotlib.pyplot as plt\n",
        "import seaborn as sns\n",
        "from sklearn.tree import export_graphviz\n",
        "  # [데이터 시각화 모듈]\n",
        "\n",
        "from sklearn.tree import DecisionTreeClassifier\n",
        "import graphviz\n",
        "from sklearn.tree import export_graphviz\n",
        "from sklearn.tree import plot_tree\n",
        "from sklearn.tree import export_text\n",
        "from sklearn.ensemble import RandomForestClassifier\n",
        "from lightgbm import LGBMClassifier\n",
        "from lightgbm import plot_importance\n",
        "from sklearn.naive_bayes import BernoulliNB\n",
        "from sklearn.naive_bayes import CategoricalNB\n",
        "import sklearn.svm as svm\n",
        "  # [분류 모델 모듈]\n",
        "\n",
        "from sklearn.metrics import confusion_matrix\n",
        "from sklearn.metrics import accuracy_score, precision_score, recall_score\n",
        "from sklearn.metrics import f1_score, roc_auc_score\n",
        "  # [성능 평가 지표 모듈]\n",
        "\n",
        "from imblearn.over_sampling import ADASYN\n",
        "from imblearn.over_sampling import SMOTE\n",
        "  # [클래스 불균형 모듈]\n",
        "\n",
        "from sklearn.decomposition import PCA\n",
        "  # [클래스 불균형 확인 시각화 모듈]\n",
        "\n",
        "from sklearn.metrics import fbeta_score, make_scorer\n",
        "  # [f-beta score 모듈]"
      ]
    },
    {
      "cell_type": "code",
      "execution_count": null,
      "metadata": {
        "colab": {
          "base_uri": "https://localhost:8080/"
        },
        "id": "RJjgxjRP6Rk6",
        "outputId": "f4c9a386-3d56-42d8-af6e-823e588b1047"
      },
      "outputs": [
        {
          "output_type": "execute_result",
          "data": {
            "text/plain": [
              "(313519, 129)"
            ]
          },
          "metadata": {},
          "execution_count": 3
        }
      ],
      "source": [
        "NCB_MICE_FS_OD = pd.read_csv(\"/content/drive/MyDrive/NCB_MICE_FS.csv\", index_col = False)\n",
        "NCB_MICE_FS_OD.shape\n",
        "  # [New Credit Bureau _ Impute NA with MICE _ Feature Selection with PCA, Filtering _ Outlier Detection with Isolation Forest]"
      ]
    },
    {
      "cell_type": "code",
      "execution_count": null,
      "metadata": {
        "id": "jN8sUD7kOlUb"
      },
      "outputs": [],
      "source": [
        "NCB_MICE_FS_OD.iloc[:, 6:124] = NCB_MICE_FS_OD.iloc[:, 6:124].astype(\"uint8\")"
      ]
    },
    {
      "cell_type": "code",
      "execution_count": null,
      "metadata": {
        "id": "OCeaRy2u9Np1"
      },
      "outputs": [],
      "source": [
        "# TARGET 변수 카테고리화 하기\n",
        "\n",
        "NCB_MICE_FS_OD[\"TARGET\"] = NCB_MICE_FS_OD[\"TARGET\"].astype(\"category\")"
      ]
    },
    {
      "cell_type": "code",
      "execution_count": null,
      "metadata": {
        "colab": {
          "base_uri": "https://localhost:8080/"
        },
        "id": "BJQo1rs0On11",
        "outputId": "bf453631-90ec-416b-aa2e-79898433ef32"
      },
      "outputs": [
        {
          "output_type": "stream",
          "name": "stdout",
          "text": [
            "<class 'pandas.core.frame.DataFrame'>\n",
            "RangeIndex: 313519 entries, 0 to 313518\n",
            "Columns: 129 entries, DAYS_EMPLOYED to duplicate\n",
            "dtypes: category(1), float64(7), int64(4), uint8(117)\n",
            "memory usage: 61.6 MB\n"
          ]
        }
      ],
      "source": [
        "NCB_MICE_FS_OD.info()"
      ]
    },
    {
      "cell_type": "code",
      "execution_count": null,
      "metadata": {
        "id": "qoRNT_r9OUV1"
      },
      "outputs": [],
      "source": [
        "# dt_eval()\n",
        "# 혼동행렬, 정확도, 민감도, 재현율, f1스코어를 한번에 출력하는 함수\n",
        "\n",
        "def dt_eval(y_test, pred = None) :\n",
        "  confusion = confusion_matrix(y_test, pred, labels = [1,0])\n",
        "      # [1(양성)이 먼저 오는 혼동행렬 그리기]\n",
        "  accuracy = accuracy_score(y_test, pred)\n",
        "  precision = precision_score(y_test, pred)\n",
        "  recall = recall_score(y_test, pred)\n",
        "  f1 = f1_score(y_test, pred)\n",
        "  print(\"혼동 행렬\")\n",
        "  print(confusion)\n",
        "\n",
        "  print(f\"정확도: {accuracy}\")\n",
        "  print(f\"정밀도: {precision}\")\n",
        "  print(f\"재현율: {recall}\")\n",
        "  print(f\"F1: {f1}\")\n",
        "  print(f\"F-0.75: {((1+0.75**2) * precision * recall) / ((0.75**2)*precision + recall)}\")\n",
        "  # print('정확도: {0:.4f}, 정밀도: {1:.4f}, 재현율: {2:.4f}, F1: {3:.4f}'.format(accuracy, precision, recall, f1))"
      ]
    },
    {
      "cell_type": "markdown",
      "metadata": {
        "id": "GJEh5wesbACT"
      },
      "source": [
        "#### 1) 결정 트리 분류 모델\n",
        "- 디폴트 상태에서 성능 평가를 통한 클래스 불균형, 과대 적합 확인\n",
        "- split_ratio에 따른 성능 평가 지표 확인\n",
        "- 지니 불순도, 엔트로피 불순도에 따른 변화 확인\n"
      ]
    },
    {
      "cell_type": "code",
      "execution_count": null,
      "metadata": {
        "id": "olJWygfu4ufq",
        "colab": {
          "base_uri": "https://localhost:8080/",
          "height": 317
        },
        "outputId": "c076455e-da48-45cb-a932-8925ef2b9ef4"
      },
      "outputs": [
        {
          "output_type": "execute_result",
          "data": {
            "text/plain": [
              "   DAYS_EMPLOYED  AMT_ANNUITY_y  AMT_ANNUITY_x  AMT_APPLICATION  \\\n",
              "0            637       9251.775        24700.5         179055.0   \n",
              "1           1188      64567.665        35698.5         337500.0   \n",
              "2           1588      17885.835        27517.5         162598.5   \n",
              "3           3130       8996.760        41301.0          98239.5   \n",
              "4            449      27463.410        42075.0         247212.0   \n",
              "\n",
              "   AMT_GOODS_PRICE_x  CODE_GENDER_M  CODE_GENDER_F  \\\n",
              "0           351000.0              1              0   \n",
              "1          1129500.0              0              1   \n",
              "2           454500.0              1              0   \n",
              "3          1395000.0              0              1   \n",
              "4          1530000.0              1              0   \n",
              "\n",
              "   NAME_EDUCATION_TYPE_Higher education  \\\n",
              "0                                     0   \n",
              "1                                     1   \n",
              "2                                     0   \n",
              "3                                     1   \n",
              "4                                     1   \n",
              "\n",
              "   NAME_EDUCATION_TYPE_Secondary / secondary special  \\\n",
              "0                                                  1   \n",
              "1                                                  0   \n",
              "2                                                  1   \n",
              "3                                                  0   \n",
              "4                                                  0   \n",
              "\n",
              "   NAME_CONTRACT_STATUS_Approved  ...  \\\n",
              "0                              1  ...   \n",
              "1                              1  ...   \n",
              "2                              1  ...   \n",
              "3                              1  ...   \n",
              "4                              1  ...   \n",
              "\n",
              "   NAME_GOODS_CATEGORY_Photo / Cinema Equipment  \\\n",
              "0                                             0   \n",
              "1                                             0   \n",
              "2                                             0   \n",
              "3                                             0   \n",
              "4                                             0   \n",
              "\n",
              "   NAME_GOODS_CATEGORY_Sport and Leisure  NAME_GOODS_CATEGORY_Tourism  \\\n",
              "0                                      0                            0   \n",
              "1                                      0                            0   \n",
              "2                                      0                            0   \n",
              "3                                      0                            0   \n",
              "4                                      0                            0   \n",
              "\n",
              "   NAME_GOODS_CATEGORY_Vehicles  NAME_GOODS_CATEGORY_Weapon  \\\n",
              "0                             1                           0   \n",
              "1                             0                           0   \n",
              "2                             0                           0   \n",
              "3                             0                           0   \n",
              "4                             0                           0   \n",
              "\n",
              "   NAME_GOODS_CATEGORY_XNA  AMT_CREDIT_x  AMT_CREDIT_y  duplicate  GENERATION  \n",
              "0                        0      406597.5      179055.0          0          26  \n",
              "1                        0     1293502.5      348637.5          0          46  \n",
              "2                        0      490495.5      162598.5          0          46  \n",
              "3                        0     1560726.0       98239.5          0          38  \n",
              "4                        0     1530000.0      260811.0          0          52  \n",
              "\n",
              "[5 rows x 126 columns]"
            ],
            "text/html": [
              "\n",
              "  <div id=\"df-d4611013-9c2b-45ce-a0f2-3fd6a312f65c\">\n",
              "    <div class=\"colab-df-container\">\n",
              "      <div>\n",
              "<style scoped>\n",
              "    .dataframe tbody tr th:only-of-type {\n",
              "        vertical-align: middle;\n",
              "    }\n",
              "\n",
              "    .dataframe tbody tr th {\n",
              "        vertical-align: top;\n",
              "    }\n",
              "\n",
              "    .dataframe thead th {\n",
              "        text-align: right;\n",
              "    }\n",
              "</style>\n",
              "<table border=\"1\" class=\"dataframe\">\n",
              "  <thead>\n",
              "    <tr style=\"text-align: right;\">\n",
              "      <th></th>\n",
              "      <th>DAYS_EMPLOYED</th>\n",
              "      <th>AMT_ANNUITY_y</th>\n",
              "      <th>AMT_ANNUITY_x</th>\n",
              "      <th>AMT_APPLICATION</th>\n",
              "      <th>AMT_GOODS_PRICE_x</th>\n",
              "      <th>CODE_GENDER_M</th>\n",
              "      <th>CODE_GENDER_F</th>\n",
              "      <th>NAME_EDUCATION_TYPE_Higher education</th>\n",
              "      <th>NAME_EDUCATION_TYPE_Secondary / secondary special</th>\n",
              "      <th>NAME_CONTRACT_STATUS_Approved</th>\n",
              "      <th>...</th>\n",
              "      <th>NAME_GOODS_CATEGORY_Photo / Cinema Equipment</th>\n",
              "      <th>NAME_GOODS_CATEGORY_Sport and Leisure</th>\n",
              "      <th>NAME_GOODS_CATEGORY_Tourism</th>\n",
              "      <th>NAME_GOODS_CATEGORY_Vehicles</th>\n",
              "      <th>NAME_GOODS_CATEGORY_Weapon</th>\n",
              "      <th>NAME_GOODS_CATEGORY_XNA</th>\n",
              "      <th>AMT_CREDIT_x</th>\n",
              "      <th>AMT_CREDIT_y</th>\n",
              "      <th>duplicate</th>\n",
              "      <th>GENERATION</th>\n",
              "    </tr>\n",
              "  </thead>\n",
              "  <tbody>\n",
              "    <tr>\n",
              "      <th>0</th>\n",
              "      <td>637</td>\n",
              "      <td>9251.775</td>\n",
              "      <td>24700.5</td>\n",
              "      <td>179055.0</td>\n",
              "      <td>351000.0</td>\n",
              "      <td>1</td>\n",
              "      <td>0</td>\n",
              "      <td>0</td>\n",
              "      <td>1</td>\n",
              "      <td>1</td>\n",
              "      <td>...</td>\n",
              "      <td>0</td>\n",
              "      <td>0</td>\n",
              "      <td>0</td>\n",
              "      <td>1</td>\n",
              "      <td>0</td>\n",
              "      <td>0</td>\n",
              "      <td>406597.5</td>\n",
              "      <td>179055.0</td>\n",
              "      <td>0</td>\n",
              "      <td>26</td>\n",
              "    </tr>\n",
              "    <tr>\n",
              "      <th>1</th>\n",
              "      <td>1188</td>\n",
              "      <td>64567.665</td>\n",
              "      <td>35698.5</td>\n",
              "      <td>337500.0</td>\n",
              "      <td>1129500.0</td>\n",
              "      <td>0</td>\n",
              "      <td>1</td>\n",
              "      <td>1</td>\n",
              "      <td>0</td>\n",
              "      <td>1</td>\n",
              "      <td>...</td>\n",
              "      <td>0</td>\n",
              "      <td>0</td>\n",
              "      <td>0</td>\n",
              "      <td>0</td>\n",
              "      <td>0</td>\n",
              "      <td>0</td>\n",
              "      <td>1293502.5</td>\n",
              "      <td>348637.5</td>\n",
              "      <td>0</td>\n",
              "      <td>46</td>\n",
              "    </tr>\n",
              "    <tr>\n",
              "      <th>2</th>\n",
              "      <td>1588</td>\n",
              "      <td>17885.835</td>\n",
              "      <td>27517.5</td>\n",
              "      <td>162598.5</td>\n",
              "      <td>454500.0</td>\n",
              "      <td>1</td>\n",
              "      <td>0</td>\n",
              "      <td>0</td>\n",
              "      <td>1</td>\n",
              "      <td>1</td>\n",
              "      <td>...</td>\n",
              "      <td>0</td>\n",
              "      <td>0</td>\n",
              "      <td>0</td>\n",
              "      <td>0</td>\n",
              "      <td>0</td>\n",
              "      <td>0</td>\n",
              "      <td>490495.5</td>\n",
              "      <td>162598.5</td>\n",
              "      <td>0</td>\n",
              "      <td>46</td>\n",
              "    </tr>\n",
              "    <tr>\n",
              "      <th>3</th>\n",
              "      <td>3130</td>\n",
              "      <td>8996.760</td>\n",
              "      <td>41301.0</td>\n",
              "      <td>98239.5</td>\n",
              "      <td>1395000.0</td>\n",
              "      <td>0</td>\n",
              "      <td>1</td>\n",
              "      <td>1</td>\n",
              "      <td>0</td>\n",
              "      <td>1</td>\n",
              "      <td>...</td>\n",
              "      <td>0</td>\n",
              "      <td>0</td>\n",
              "      <td>0</td>\n",
              "      <td>0</td>\n",
              "      <td>0</td>\n",
              "      <td>0</td>\n",
              "      <td>1560726.0</td>\n",
              "      <td>98239.5</td>\n",
              "      <td>0</td>\n",
              "      <td>38</td>\n",
              "    </tr>\n",
              "    <tr>\n",
              "      <th>4</th>\n",
              "      <td>449</td>\n",
              "      <td>27463.410</td>\n",
              "      <td>42075.0</td>\n",
              "      <td>247212.0</td>\n",
              "      <td>1530000.0</td>\n",
              "      <td>1</td>\n",
              "      <td>0</td>\n",
              "      <td>1</td>\n",
              "      <td>0</td>\n",
              "      <td>1</td>\n",
              "      <td>...</td>\n",
              "      <td>0</td>\n",
              "      <td>0</td>\n",
              "      <td>0</td>\n",
              "      <td>0</td>\n",
              "      <td>0</td>\n",
              "      <td>0</td>\n",
              "      <td>1530000.0</td>\n",
              "      <td>260811.0</td>\n",
              "      <td>0</td>\n",
              "      <td>52</td>\n",
              "    </tr>\n",
              "  </tbody>\n",
              "</table>\n",
              "<p>5 rows × 126 columns</p>\n",
              "</div>\n",
              "      <button class=\"colab-df-convert\" onclick=\"convertToInteractive('df-d4611013-9c2b-45ce-a0f2-3fd6a312f65c')\"\n",
              "              title=\"Convert this dataframe to an interactive table.\"\n",
              "              style=\"display:none;\">\n",
              "        \n",
              "  <svg xmlns=\"http://www.w3.org/2000/svg\" height=\"24px\"viewBox=\"0 0 24 24\"\n",
              "       width=\"24px\">\n",
              "    <path d=\"M0 0h24v24H0V0z\" fill=\"none\"/>\n",
              "    <path d=\"M18.56 5.44l.94 2.06.94-2.06 2.06-.94-2.06-.94-.94-2.06-.94 2.06-2.06.94zm-11 1L8.5 8.5l.94-2.06 2.06-.94-2.06-.94L8.5 2.5l-.94 2.06-2.06.94zm10 10l.94 2.06.94-2.06 2.06-.94-2.06-.94-.94-2.06-.94 2.06-2.06.94z\"/><path d=\"M17.41 7.96l-1.37-1.37c-.4-.4-.92-.59-1.43-.59-.52 0-1.04.2-1.43.59L10.3 9.45l-7.72 7.72c-.78.78-.78 2.05 0 2.83L4 21.41c.39.39.9.59 1.41.59.51 0 1.02-.2 1.41-.59l7.78-7.78 2.81-2.81c.8-.78.8-2.07 0-2.86zM5.41 20L4 18.59l7.72-7.72 1.47 1.35L5.41 20z\"/>\n",
              "  </svg>\n",
              "      </button>\n",
              "      \n",
              "  <style>\n",
              "    .colab-df-container {\n",
              "      display:flex;\n",
              "      flex-wrap:wrap;\n",
              "      gap: 12px;\n",
              "    }\n",
              "\n",
              "    .colab-df-convert {\n",
              "      background-color: #E8F0FE;\n",
              "      border: none;\n",
              "      border-radius: 50%;\n",
              "      cursor: pointer;\n",
              "      display: none;\n",
              "      fill: #1967D2;\n",
              "      height: 32px;\n",
              "      padding: 0 0 0 0;\n",
              "      width: 32px;\n",
              "    }\n",
              "\n",
              "    .colab-df-convert:hover {\n",
              "      background-color: #E2EBFA;\n",
              "      box-shadow: 0px 1px 2px rgba(60, 64, 67, 0.3), 0px 1px 3px 1px rgba(60, 64, 67, 0.15);\n",
              "      fill: #174EA6;\n",
              "    }\n",
              "\n",
              "    [theme=dark] .colab-df-convert {\n",
              "      background-color: #3B4455;\n",
              "      fill: #D2E3FC;\n",
              "    }\n",
              "\n",
              "    [theme=dark] .colab-df-convert:hover {\n",
              "      background-color: #434B5C;\n",
              "      box-shadow: 0px 1px 3px 1px rgba(0, 0, 0, 0.15);\n",
              "      filter: drop-shadow(0px 1px 2px rgba(0, 0, 0, 0.3));\n",
              "      fill: #FFFFFF;\n",
              "    }\n",
              "  </style>\n",
              "\n",
              "      <script>\n",
              "        const buttonEl =\n",
              "          document.querySelector('#df-d4611013-9c2b-45ce-a0f2-3fd6a312f65c button.colab-df-convert');\n",
              "        buttonEl.style.display =\n",
              "          google.colab.kernel.accessAllowed ? 'block' : 'none';\n",
              "\n",
              "        async function convertToInteractive(key) {\n",
              "          const element = document.querySelector('#df-d4611013-9c2b-45ce-a0f2-3fd6a312f65c');\n",
              "          const dataTable =\n",
              "            await google.colab.kernel.invokeFunction('convertToInteractive',\n",
              "                                                     [key], {});\n",
              "          if (!dataTable) return;\n",
              "\n",
              "          const docLinkHtml = 'Like what you see? Visit the ' +\n",
              "            '<a target=\"_blank\" href=https://colab.research.google.com/notebooks/data_table.ipynb>data table notebook</a>'\n",
              "            + ' to learn more about interactive tables.';\n",
              "          element.innerHTML = '';\n",
              "          dataTable['output_type'] = 'display_data';\n",
              "          await google.colab.output.renderOutput(dataTable, element);\n",
              "          const docLink = document.createElement('div');\n",
              "          docLink.innerHTML = docLinkHtml;\n",
              "          element.appendChild(docLink);\n",
              "        }\n",
              "      </script>\n",
              "    </div>\n",
              "  </div>\n",
              "  "
            ]
          },
          "metadata": {},
          "execution_count": 63
        }
      ],
      "source": [
        "NCB_data = NCB_MICE_FS_OD.drop([\"TARGET\", \"SK_ID_CURR\", \"SK_ID_PREV\", \"DAYS_BIRTH\"], axis=1)\n",
        "NCB_TARGET = NCB_MICE_FS_OD[\"TARGET\"]\n",
        "NCB_data.head()\n",
        "\n",
        "# NCB_MICE_FS_OD.columns.get_loc(\"TARGET\")\n",
        "    # [\"TARGET\" 칼럼의 위치 : 123]"
      ]
    },
    {
      "cell_type": "code",
      "execution_count": null,
      "metadata": {
        "id": "GMqDCiIGnJVz"
      },
      "outputs": [],
      "source": [
        "np.random.seed(2040)"
      ]
    },
    {
      "cell_type": "code",
      "execution_count": null,
      "metadata": {
        "id": "vH_-0tS3Evug",
        "colab": {
          "base_uri": "https://localhost:8080/"
        },
        "outputId": "23a90fca-6631-4715-ab95-6893cd58ecfb"
      },
      "outputs": [
        {
          "output_type": "stream",
          "name": "stdout",
          "text": [
            "(282167, 126) (31352, 126)\n",
            "(250815, 126) (62704, 126)\n",
            "(219463, 126) (94056, 126)\n",
            "(188111, 126) (125408, 126)\n",
            "(156759, 126) (156760, 126)\n"
          ]
        }
      ],
      "source": [
        "# train_test_split : [0.5, 0.4, 0.3, 0.2, 0.1]에 따른 성능 지표 확인\n",
        "# split 확인\n",
        "\n",
        "split = []\n",
        "split = [1,2,3,4,5]\n",
        "\n",
        "i = 0\n",
        "i = []\n",
        "\n",
        "for i in split :\n",
        "  globals()[\"X_train_{}\".format(i)], globals()[\"X_test_{}\".format(i)], globals()[\"y_train_{}\".format(i)], globals()[\"y_test_{}\".format(i)] = train_test_split(NCB_data, NCB_TARGET,\n",
        "                                                                                                                                                              test_size = i/10,\n",
        "                                                                                                                                                              stratify = NCB_TARGET,\n",
        "                                                                                                                                                              random_state = 2022)\n",
        "  print( globals()[\"X_train_{}\".format(i)].shape, globals()[\"X_test_{}\".format(i)].shape)"
      ]
    },
    {
      "cell_type": "code",
      "execution_count": null,
      "metadata": {
        "id": "9Xg0-KOdE0kh"
      },
      "outputs": [],
      "source": [
        "# (1) 지니 불순도 사용\n",
        "\n",
        "dt = DecisionTreeClassifier()\n",
        "  # [모든 파라미터 default]"
      ]
    },
    {
      "cell_type": "code",
      "execution_count": null,
      "metadata": {
        "id": "YSus33hj5cL0",
        "colab": {
          "base_uri": "https://localhost:8080/"
        },
        "outputId": "5a58f42f-594a-4ace-c2c5-e86244cb8332"
      },
      "outputs": [
        {
          "output_type": "stream",
          "name": "stdout",
          "text": [
            "혼동 행렬\n",
            "[[ 1088  1486]\n",
            " [ 1719 27059]]\n",
            "정확도: 0.8977736667517224\n",
            "정밀도: 0.3876024225151407\n",
            "재현율: 0.4226884226884227\n",
            "F1: 0.40438580189555845\n",
            "split: 0.1\n",
            "None\n",
            "혼동 행렬\n",
            "[[ 2048  3099]\n",
            " [ 3475 54082]]\n",
            "정확도: 0.8951582036233733\n",
            "정밀도: 0.3708129639688575\n",
            "재현율: 0.3979016903050321\n",
            "F1: 0.38388003748828486\n",
            "split: 0.2\n",
            "None\n",
            "혼동 행렬\n",
            "[[ 2795  4926]\n",
            " [ 5715 80620]]\n",
            "정확도: 0.8868652717529982\n",
            "정밀도: 0.3284371327849589\n",
            "재현율: 0.3619997409661961\n",
            "F1: 0.34440268621773146\n",
            "split: 0.3\n",
            "None\n",
            "혼동 행렬\n",
            "[[  3416   6878]\n",
            " [  7856 107258]]\n",
            "정확도: 0.8825114825210513\n",
            "정밀도: 0.3030518097941803\n",
            "재현율: 0.33184379250048573\n",
            "F1: 0.31679495502179356\n",
            "split: 0.4\n",
            "None\n",
            "혼동 행렬\n",
            "[[  3916   8952]\n",
            " [ 10113 133779]]\n",
            "정확도: 0.8783809645317683\n",
            "정밀도: 0.2791360752726495\n",
            "재현율: 0.3043207957724588\n",
            "F1: 0.2911848905082351\n",
            "split: 0.5\n",
            "None\n"
          ]
        }
      ],
      "source": [
        "# train_test_split : [0.5, 0.4, 0.3, 0.2, 0.1]에 따른 성능 지표 확인\n",
        "\n",
        "g = 0\n",
        "g = []\n",
        "\n",
        "for g in split :\n",
        "  globals()[\"dt_{}\".format(g)] = dt.fit(globals()[\"X_train_{}\".format(g)], globals()[\"y_train_{}\".format(g)])\n",
        "  globals()[\"evaluations_{}\".format(g)] = dt_eval(globals()[\"y_test_{}\".format(g)], globals()[\"dt_{}\".format(g)].predict(globals()[\"X_test_{}\".format(g)]))\n",
        "  print(f\"split: {g/10}\")\n",
        "  print(globals()[\"evaluations_{}\".format(g)])\n",
        "\n",
        "    # [정확도는 높으나 정밀도와 재현율이 상대적으로 매우 낮음을 확인, 클래스 불균형 예상]"
      ]
    },
    {
      "cell_type": "code",
      "execution_count": null,
      "metadata": {
        "id": "fHZSV6kNo4Zn"
      },
      "outputs": [],
      "source": [
        "# (2) 엔트로피 사용\n",
        "\n",
        "dt_entropy = DecisionTreeClassifier(criterion = \"entropy\")\n",
        "  # [불순도를 엔트로피로 설정하고 나머지 파라미터는 디폴트로 설정]"
      ]
    },
    {
      "cell_type": "code",
      "source": [
        "# train_test_split : [0.5, 0.4, 0.3, 0.2, 0.1]에 따른 성능 지표 확인\n",
        "\n",
        "f = 0\n",
        "f = []\n",
        "\n",
        "for f in split :\n",
        "  globals()[\"dt_ent_{}\".format(f)] = dt_entropy.fit(globals()[\"X_train_{}\".format(f)], globals()[\"y_train_{}\".format(f)])\n",
        "  globals()[\"evaluation_ent_{}\".format(f)] = dt_eval(globals()[\"y_test_{}\".format(f)], globals()[\"dt_ent_{}\".format(f)].predict(globals()[\"X_test_{}\".format(f)]))\n",
        "  print(f\"split: {f/10}\")\n",
        "  print(globals()[\"evaluation_ent_{}\".format(f)])\n",
        "\n",
        "    # [엔트로피를 사용한 모델도 정확도는 높지만 정밀도와 재현율이 상대적으로 매우 낮은 것을 보아 클래스 불균형을 확인할 수 있음]\n",
        "    # [정확도만 봤을 때, 지니 불순도와 엔트로피 사이에 확연한 차이는 없음, 따라서 속도가 상대적으로 빠른 지니 불순도 이용]"
      ],
      "metadata": {
        "colab": {
          "base_uri": "https://localhost:8080/"
        },
        "id": "ClEOHmV00clc",
        "outputId": "8767baac-4af0-46cd-9439-ba3cc354be11"
      },
      "execution_count": null,
      "outputs": [
        {
          "output_type": "stream",
          "name": "stdout",
          "text": [
            "혼동 행렬\n",
            "[[ 1127  1447]\n",
            " [ 1575 27203]]\n",
            "정확도: 0.903610614952794\n",
            "정밀도: 0.4170984455958549\n",
            "재현율: 0.43783993783993785\n",
            "F1: 0.4272175890826384\n",
            "split: 0.1\n",
            "None\n",
            "혼동 행렬\n",
            "[[ 1989  3158]\n",
            " [ 3327 54230]]\n",
            "정확도: 0.8965775708088798\n",
            "정밀도: 0.3741534988713318\n",
            "재현율: 0.3864387021565961\n",
            "F1: 0.38019688425881676\n",
            "split: 0.2\n",
            "None\n",
            "혼동 행렬\n",
            "[[ 2875  4846]\n",
            " [ 5123 81212]]\n",
            "정확도: 0.8940099515182445\n",
            "정밀도: 0.35946486621655416\n",
            "재현율: 0.37236109312265253\n",
            "F1: 0.3657993511037598\n",
            "split: 0.3\n",
            "None\n",
            "혼동 행렬\n",
            "[[  3601   6693]\n",
            " [  7260 107854]]\n",
            "정확도: 0.8887391553967849\n",
            "정밀도: 0.33155326397200996\n",
            "재현율: 0.3498154264620167\n",
            "F1: 0.34043961238477904\n",
            "split: 0.4\n",
            "None\n",
            "혼동 행렬\n",
            "[[  4034   8834]\n",
            " [  9583 134309]]\n",
            "정확도: 0.8825146721102322\n",
            "정밀도: 0.29624733788646546\n",
            "재현율: 0.3134908299658066\n",
            "F1: 0.3046252595808948\n",
            "split: 0.5\n",
            "None\n"
          ]
        }
      ]
    },
    {
      "cell_type": "markdown",
      "metadata": {
        "id": "nYSwTNg-QU41"
      },
      "source": [
        "과대적합 확인하기\n",
        "\n",
        "```\n",
        "dt = DecisionTreeClassifier()\n",
        "dt.fit(X_train, y_train)\n",
        "confusion_matrix(y_test, dt.pred(X_test))\n",
        "\t\t# 1 [y_test, X_test 에 대한 모델링 성능 평가]\n",
        "confusion_matirx(y_trian, dt.pred(X_train))\n",
        "\t\t# 2 [y_train, X_train에 대한 모델링 성능 평가]\n",
        "```\n",
        "\n",
        "[시각화] https://nicola-ml.tistory.com/93"
      ]
    },
    {
      "cell_type": "code",
      "source": [
        "# 과대적합 확인 (y_train, X_train에 대한 모델링 성능 평가) ??\n",
        "\n",
        "g = 0\n",
        "g = []\n",
        "\n",
        "for g in split :\n",
        "  globals()[\"dt_{}\".format(g)] = dt.fit(globals()[\"X_train_{}\".format(g)], globals()[\"y_train_{}\".format(g)])\n",
        "  globals()[\"evaluations_train_{}\".format(g)] = dt_eval(globals()[\"y_train_{}\".format(g)], globals()[\"dt_{}\".format(g)].predict(globals()[\"X_train_{}\".format(g)]))\n",
        "  print(f\"split: {g/10}\")\n",
        "  print(globals()[\"evaluations_train_{}\".format(g)])\n",
        "\n",
        "    # [모든 경우에서 정확도, 정밀도, 재현율, F1-score 가 1이 나옴 : 트리가 데이터를 정확히 학습한 꼴]\n",
        "    # [아마도 파이썬은 중간에 노드를 제한하는 기능이 없어서 끝까지 내려가기 때문에 이런 현상이 발생했다고 예상]"
      ],
      "metadata": {
        "colab": {
          "base_uri": "https://localhost:8080/"
        },
        "id": "zT5GgrOb3JzM",
        "outputId": "3ac393ac-fdac-402e-c69b-9c61c990f0dc"
      },
      "execution_count": null,
      "outputs": [
        {
          "output_type": "stream",
          "name": "stdout",
          "text": [
            "혼동 행렬\n",
            "[[ 23162      0]\n",
            " [     0 259005]]\n",
            "정확도: 1.0\n",
            "정밀도: 1.0\n",
            "재현율: 1.0\n",
            "F1: 1.0\n",
            "split: 0.1\n",
            "None\n",
            "혼동 행렬\n",
            "[[ 20589      0]\n",
            " [     0 230226]]\n",
            "정확도: 1.0\n",
            "정밀도: 1.0\n",
            "재현율: 1.0\n",
            "F1: 1.0\n",
            "split: 0.2\n",
            "None\n",
            "혼동 행렬\n",
            "[[ 18015      0]\n",
            " [     0 201448]]\n",
            "정확도: 1.0\n",
            "정밀도: 1.0\n",
            "재현율: 1.0\n",
            "F1: 1.0\n",
            "split: 0.3\n",
            "None\n",
            "혼동 행렬\n",
            "[[ 15442      0]\n",
            " [     0 172669]]\n",
            "정확도: 1.0\n",
            "정밀도: 1.0\n",
            "재현율: 1.0\n",
            "F1: 1.0\n",
            "split: 0.4\n",
            "None\n",
            "혼동 행렬\n",
            "[[ 12868      0]\n",
            " [     0 143891]]\n",
            "정확도: 1.0\n",
            "정밀도: 1.0\n",
            "재현율: 1.0\n",
            "F1: 1.0\n",
            "split: 0.5\n",
            "None\n"
          ]
        }
      ]
    },
    {
      "cell_type": "markdown",
      "metadata": {
        "id": "gtFMnDxL7S36"
      },
      "source": [
        "#### 2) 클래스 불균형 조정\n",
        "* ADASYN, SMOTE\n",
        "* 가중치 설정 : 아래 정의한 함수 내에서 가중치 설정과 하이퍼파라미터 조정을 동시에 진행함.\n",
        "  > DecisionTreeClassWeight( ) : 최적의 가중치 탐색\n",
        "  >\n",
        "  > MaxDepth(  ), MaxDepth_2(  ) : 최적의 max_depth 탐색\n",
        "  >\n",
        "  > DecisionTreeCostComplexity(  ) : 최적의 ccp_alpha 탐색\n",
        "  >\n",
        "  > DT ( ) : 하이퍼파라미터 설정 후 모델의 성능 평가 지표\n",
        "  >\n",
        "  > DecisionTreeCustom( ) : 최종 모델 성능 평가 및 feature importance 추출"
      ]
    },
    {
      "cell_type": "code",
      "source": [
        "X = NCB_MICE_FS_OD.drop([\"TARGET\", \"SK_ID_CURR\", \"SK_ID_PREV\", \"DAYS_BIRTH\"], axis = 1)\n",
        "y = NCB_MICE_FS_OD[\"TARGET\"]\n",
        "\n",
        "'''\n",
        "# [DecisionTreeClassWeight()에 있던 코드]\n",
        "# [표준화 할지 결정하기]\n",
        "\n",
        "X = NCB_MICE_FS_OD.drop([\"TARGET\", \"SK_ID_CURR\", \"SK_ID_PREV\"], axis = 1)\n",
        "scaler = StandardScaler()\n",
        "  # [표준화가 모델 성능에 미치는 영향은 없음]\n",
        "X_num_list = X.select_dtypes(include = [\"integer\", \"float\"]).columns.tolist()\n",
        "X.loc[:, X_num_list] = scaler.fit_transform(X.loc[:, X_num_list])\n",
        "y = NCB_MICE_FS_OD[\"TARGET\"]\n",
        "'''"
      ],
      "metadata": {
        "colab": {
          "base_uri": "https://localhost:8080/",
          "height": 92
        },
        "id": "J867N5XUw21y",
        "outputId": "8ca66b2d-d376-4d41-c0fe-c4579e21eff9"
      },
      "execution_count": null,
      "outputs": [
        {
          "output_type": "execute_result",
          "data": {
            "text/plain": [
              "'\\n# [DecisionTreeClassWeight()에 있던 코드]\\n# [표준화 할지 결정하기]\\n\\nX = NCB_MICE_FS_OD.drop([\"TARGET\", \"SK_ID_CURR\", \"SK_ID_PREV\"], axis = 1)\\nscaler = StandardScaler()\\n  # [표준화가 모델 성능에 미치는 영향은 없음]\\nX_num_list = X.select_dtypes(include = [\"integer\", \"float\"]).columns.tolist()\\nX.loc[:, X_num_list] = scaler.fit_transform(X.loc[:, X_num_list])\\ny = NCB_MICE_FS_OD[\"TARGET\"]\\n'"
            ],
            "application/vnd.google.colaboratory.intrinsic+json": {
              "type": "string"
            }
          },
          "metadata": {},
          "execution_count": 8
        }
      ]
    },
    {
      "cell_type": "markdown",
      "source": [
        "##### \"세대\" 변수 만들기\n",
        "* DAYS_BIRTH / 365"
      ],
      "metadata": {
        "id": "fJqz-dNaznF9"
      }
    },
    {
      "cell_type": "code",
      "source": [
        "# 세대 변수 만들기\n",
        "NCB_MICE_FS_OD[\"GENERATION\"] = round(NCB_MICE_FS_OD[\"DAYS_BIRTH\"]/365, 0)"
      ],
      "metadata": {
        "id": "13uBqWVnzjJV"
      },
      "execution_count": null,
      "outputs": []
    },
    {
      "cell_type": "markdown",
      "source": [
        "```\n",
        "for index in range(len(NCB_MICE_FS_OD.index)) :\n",
        "  if NCB_MICE_FS_OD.loc[index, \"GENERATION\"] < 20:\n",
        "    NCB_MICE_FS_OD.loc[index, \"GENERATION\"] = 10\n",
        "  elif NCB_MICE_FS_OD.loc[index, \"GENERATION\"] < 30:\n",
        "    NCB_MICE_FS_OD.loc[index, \"GENERATION\"] = 20\n",
        "  elif NCB_MICE_FS_OD.loc[index, \"GENERATION\"] < 40:\n",
        "    NCB_MICE_FS_OD.loc[index, \"GENERATION\"] = 30\n",
        "  elif NCB_MICE_FS_OD.loc[index, \"GENERATION\"] < 50:\n",
        "    NCB_MICE_FS_OD.loc[index, \"GENERATION\"] = 40\n",
        "  elif NCB_MICE_FS_OD.loc[index, \"GENERATION\"] < 60:\n",
        "    NCB_MICE_FS_OD.loc[index, \"GENERATION\"] = 50\n",
        "  else:\n",
        "    NCB_MICE_FS_OD.loc[index, \"GENERATION\"] = 60\n",
        "\n",
        "  # [세대(나이대) 범주형 변수 생성]\n",
        "```"
      ],
      "metadata": {
        "id": "Tl2uY8rK3t1_"
      }
    },
    {
      "cell_type": "code",
      "source": [
        "def DAYS_BIRTH_category(age):\n",
        "  age = (age // 10) * 10\n",
        "    # [24 나누기 10의 몫인 2에 10을 곱하여 20대로 정의]\n",
        "  return age"
      ],
      "metadata": {
        "id": "4LkYUJcF3YtT"
      },
      "execution_count": null,
      "outputs": []
    },
    {
      "cell_type": "code",
      "source": [
        "NCB_MICE_FS_OD[\"GENERATION\"] = NCB_MICE_FS_OD[\"GENERATION\"].apply(DAYS_BIRTH_category)"
      ],
      "metadata": {
        "id": "C4DIjYl045tB"
      },
      "execution_count": null,
      "outputs": []
    },
    {
      "cell_type": "code",
      "source": [
        "NCB_MICE_FS_OD[\"GENERATION\"] = NCB_MICE_FS_OD[\"GENERATION\"].astype(\"category\")"
      ],
      "metadata": {
        "id": "DeLkAJrz5dBG"
      },
      "execution_count": null,
      "outputs": []
    },
    {
      "cell_type": "code",
      "source": [
        "NCB_MICE_FS_OD = pd.get_dummies(NCB_MICE_FS_OD, columns = [\"GENERATION\"])"
      ],
      "metadata": {
        "id": "0CDubVqICUjf"
      },
      "execution_count": null,
      "outputs": []
    },
    {
      "cell_type": "code",
      "source": [
        "NCB_MICE_FS_OD.head()"
      ],
      "metadata": {
        "colab": {
          "base_uri": "https://localhost:8080/",
          "height": 317
        },
        "id": "I7nPzuhCz29W",
        "outputId": "2389ae82-7cdf-4f8b-b352-5d7ba5798db6"
      },
      "execution_count": null,
      "outputs": [
        {
          "output_type": "execute_result",
          "data": {
            "text/plain": [
              "   DAYS_EMPLOYED  AMT_ANNUITY_y  DAYS_BIRTH  AMT_ANNUITY_x  AMT_APPLICATION  \\\n",
              "0            637       9251.775        9461        24700.5         179055.0   \n",
              "1           1188      64567.665       16765        35698.5         337500.0   \n",
              "2           1588      17885.835       16941        27517.5         162598.5   \n",
              "3           3130       8996.760       13778        41301.0          98239.5   \n",
              "4            449      27463.410       18850        42075.0         247212.0   \n",
              "\n",
              "   AMT_GOODS_PRICE_x  CODE_GENDER_M  CODE_GENDER_F  \\\n",
              "0           351000.0              1              0   \n",
              "1          1129500.0              0              1   \n",
              "2           454500.0              1              0   \n",
              "3          1395000.0              0              1   \n",
              "4          1530000.0              1              0   \n",
              "\n",
              "   NAME_EDUCATION_TYPE_Higher education  \\\n",
              "0                                     0   \n",
              "1                                     1   \n",
              "2                                     0   \n",
              "3                                     1   \n",
              "4                                     1   \n",
              "\n",
              "   NAME_EDUCATION_TYPE_Secondary / secondary special  ...  AMT_CREDIT_x  \\\n",
              "0                                                  1  ...      406597.5   \n",
              "1                                                  0  ...     1293502.5   \n",
              "2                                                  1  ...      490495.5   \n",
              "3                                                  0  ...     1560726.0   \n",
              "4                                                  0  ...     1530000.0   \n",
              "\n",
              "   AMT_CREDIT_y  SK_ID_CURR  SK_ID_PREV  duplicate  GENERATION_20.0  \\\n",
              "0      179055.0      100002   1038818.0          0                1   \n",
              "1      348637.5      100003   2636178.0          0                0   \n",
              "2      162598.5      100008   2218188.0          0                0   \n",
              "3       98239.5      100009   1413109.0          0                0   \n",
              "4      260811.0      100010   2349489.0          0                0   \n",
              "\n",
              "   GENERATION_30.0  GENERATION_40.0  GENERATION_50.0  GENERATION_60.0  \n",
              "0                0                0                0                0  \n",
              "1                0                1                0                0  \n",
              "2                0                1                0                0  \n",
              "3                1                0                0                0  \n",
              "4                0                0                1                0  \n",
              "\n",
              "[5 rows x 134 columns]"
            ],
            "text/html": [
              "\n",
              "  <div id=\"df-ef1c5720-13c2-4dfd-b9a3-1eab615b9908\">\n",
              "    <div class=\"colab-df-container\">\n",
              "      <div>\n",
              "<style scoped>\n",
              "    .dataframe tbody tr th:only-of-type {\n",
              "        vertical-align: middle;\n",
              "    }\n",
              "\n",
              "    .dataframe tbody tr th {\n",
              "        vertical-align: top;\n",
              "    }\n",
              "\n",
              "    .dataframe thead th {\n",
              "        text-align: right;\n",
              "    }\n",
              "</style>\n",
              "<table border=\"1\" class=\"dataframe\">\n",
              "  <thead>\n",
              "    <tr style=\"text-align: right;\">\n",
              "      <th></th>\n",
              "      <th>DAYS_EMPLOYED</th>\n",
              "      <th>AMT_ANNUITY_y</th>\n",
              "      <th>DAYS_BIRTH</th>\n",
              "      <th>AMT_ANNUITY_x</th>\n",
              "      <th>AMT_APPLICATION</th>\n",
              "      <th>AMT_GOODS_PRICE_x</th>\n",
              "      <th>CODE_GENDER_M</th>\n",
              "      <th>CODE_GENDER_F</th>\n",
              "      <th>NAME_EDUCATION_TYPE_Higher education</th>\n",
              "      <th>NAME_EDUCATION_TYPE_Secondary / secondary special</th>\n",
              "      <th>...</th>\n",
              "      <th>AMT_CREDIT_x</th>\n",
              "      <th>AMT_CREDIT_y</th>\n",
              "      <th>SK_ID_CURR</th>\n",
              "      <th>SK_ID_PREV</th>\n",
              "      <th>duplicate</th>\n",
              "      <th>GENERATION_20.0</th>\n",
              "      <th>GENERATION_30.0</th>\n",
              "      <th>GENERATION_40.0</th>\n",
              "      <th>GENERATION_50.0</th>\n",
              "      <th>GENERATION_60.0</th>\n",
              "    </tr>\n",
              "  </thead>\n",
              "  <tbody>\n",
              "    <tr>\n",
              "      <th>0</th>\n",
              "      <td>637</td>\n",
              "      <td>9251.775</td>\n",
              "      <td>9461</td>\n",
              "      <td>24700.5</td>\n",
              "      <td>179055.0</td>\n",
              "      <td>351000.0</td>\n",
              "      <td>1</td>\n",
              "      <td>0</td>\n",
              "      <td>0</td>\n",
              "      <td>1</td>\n",
              "      <td>...</td>\n",
              "      <td>406597.5</td>\n",
              "      <td>179055.0</td>\n",
              "      <td>100002</td>\n",
              "      <td>1038818.0</td>\n",
              "      <td>0</td>\n",
              "      <td>1</td>\n",
              "      <td>0</td>\n",
              "      <td>0</td>\n",
              "      <td>0</td>\n",
              "      <td>0</td>\n",
              "    </tr>\n",
              "    <tr>\n",
              "      <th>1</th>\n",
              "      <td>1188</td>\n",
              "      <td>64567.665</td>\n",
              "      <td>16765</td>\n",
              "      <td>35698.5</td>\n",
              "      <td>337500.0</td>\n",
              "      <td>1129500.0</td>\n",
              "      <td>0</td>\n",
              "      <td>1</td>\n",
              "      <td>1</td>\n",
              "      <td>0</td>\n",
              "      <td>...</td>\n",
              "      <td>1293502.5</td>\n",
              "      <td>348637.5</td>\n",
              "      <td>100003</td>\n",
              "      <td>2636178.0</td>\n",
              "      <td>0</td>\n",
              "      <td>0</td>\n",
              "      <td>0</td>\n",
              "      <td>1</td>\n",
              "      <td>0</td>\n",
              "      <td>0</td>\n",
              "    </tr>\n",
              "    <tr>\n",
              "      <th>2</th>\n",
              "      <td>1588</td>\n",
              "      <td>17885.835</td>\n",
              "      <td>16941</td>\n",
              "      <td>27517.5</td>\n",
              "      <td>162598.5</td>\n",
              "      <td>454500.0</td>\n",
              "      <td>1</td>\n",
              "      <td>0</td>\n",
              "      <td>0</td>\n",
              "      <td>1</td>\n",
              "      <td>...</td>\n",
              "      <td>490495.5</td>\n",
              "      <td>162598.5</td>\n",
              "      <td>100008</td>\n",
              "      <td>2218188.0</td>\n",
              "      <td>0</td>\n",
              "      <td>0</td>\n",
              "      <td>0</td>\n",
              "      <td>1</td>\n",
              "      <td>0</td>\n",
              "      <td>0</td>\n",
              "    </tr>\n",
              "    <tr>\n",
              "      <th>3</th>\n",
              "      <td>3130</td>\n",
              "      <td>8996.760</td>\n",
              "      <td>13778</td>\n",
              "      <td>41301.0</td>\n",
              "      <td>98239.5</td>\n",
              "      <td>1395000.0</td>\n",
              "      <td>0</td>\n",
              "      <td>1</td>\n",
              "      <td>1</td>\n",
              "      <td>0</td>\n",
              "      <td>...</td>\n",
              "      <td>1560726.0</td>\n",
              "      <td>98239.5</td>\n",
              "      <td>100009</td>\n",
              "      <td>1413109.0</td>\n",
              "      <td>0</td>\n",
              "      <td>0</td>\n",
              "      <td>1</td>\n",
              "      <td>0</td>\n",
              "      <td>0</td>\n",
              "      <td>0</td>\n",
              "    </tr>\n",
              "    <tr>\n",
              "      <th>4</th>\n",
              "      <td>449</td>\n",
              "      <td>27463.410</td>\n",
              "      <td>18850</td>\n",
              "      <td>42075.0</td>\n",
              "      <td>247212.0</td>\n",
              "      <td>1530000.0</td>\n",
              "      <td>1</td>\n",
              "      <td>0</td>\n",
              "      <td>1</td>\n",
              "      <td>0</td>\n",
              "      <td>...</td>\n",
              "      <td>1530000.0</td>\n",
              "      <td>260811.0</td>\n",
              "      <td>100010</td>\n",
              "      <td>2349489.0</td>\n",
              "      <td>0</td>\n",
              "      <td>0</td>\n",
              "      <td>0</td>\n",
              "      <td>0</td>\n",
              "      <td>1</td>\n",
              "      <td>0</td>\n",
              "    </tr>\n",
              "  </tbody>\n",
              "</table>\n",
              "<p>5 rows × 134 columns</p>\n",
              "</div>\n",
              "      <button class=\"colab-df-convert\" onclick=\"convertToInteractive('df-ef1c5720-13c2-4dfd-b9a3-1eab615b9908')\"\n",
              "              title=\"Convert this dataframe to an interactive table.\"\n",
              "              style=\"display:none;\">\n",
              "        \n",
              "  <svg xmlns=\"http://www.w3.org/2000/svg\" height=\"24px\"viewBox=\"0 0 24 24\"\n",
              "       width=\"24px\">\n",
              "    <path d=\"M0 0h24v24H0V0z\" fill=\"none\"/>\n",
              "    <path d=\"M18.56 5.44l.94 2.06.94-2.06 2.06-.94-2.06-.94-.94-2.06-.94 2.06-2.06.94zm-11 1L8.5 8.5l.94-2.06 2.06-.94-2.06-.94L8.5 2.5l-.94 2.06-2.06.94zm10 10l.94 2.06.94-2.06 2.06-.94-2.06-.94-.94-2.06-.94 2.06-2.06.94z\"/><path d=\"M17.41 7.96l-1.37-1.37c-.4-.4-.92-.59-1.43-.59-.52 0-1.04.2-1.43.59L10.3 9.45l-7.72 7.72c-.78.78-.78 2.05 0 2.83L4 21.41c.39.39.9.59 1.41.59.51 0 1.02-.2 1.41-.59l7.78-7.78 2.81-2.81c.8-.78.8-2.07 0-2.86zM5.41 20L4 18.59l7.72-7.72 1.47 1.35L5.41 20z\"/>\n",
              "  </svg>\n",
              "      </button>\n",
              "      \n",
              "  <style>\n",
              "    .colab-df-container {\n",
              "      display:flex;\n",
              "      flex-wrap:wrap;\n",
              "      gap: 12px;\n",
              "    }\n",
              "\n",
              "    .colab-df-convert {\n",
              "      background-color: #E8F0FE;\n",
              "      border: none;\n",
              "      border-radius: 50%;\n",
              "      cursor: pointer;\n",
              "      display: none;\n",
              "      fill: #1967D2;\n",
              "      height: 32px;\n",
              "      padding: 0 0 0 0;\n",
              "      width: 32px;\n",
              "    }\n",
              "\n",
              "    .colab-df-convert:hover {\n",
              "      background-color: #E2EBFA;\n",
              "      box-shadow: 0px 1px 2px rgba(60, 64, 67, 0.3), 0px 1px 3px 1px rgba(60, 64, 67, 0.15);\n",
              "      fill: #174EA6;\n",
              "    }\n",
              "\n",
              "    [theme=dark] .colab-df-convert {\n",
              "      background-color: #3B4455;\n",
              "      fill: #D2E3FC;\n",
              "    }\n",
              "\n",
              "    [theme=dark] .colab-df-convert:hover {\n",
              "      background-color: #434B5C;\n",
              "      box-shadow: 0px 1px 3px 1px rgba(0, 0, 0, 0.15);\n",
              "      filter: drop-shadow(0px 1px 2px rgba(0, 0, 0, 0.3));\n",
              "      fill: #FFFFFF;\n",
              "    }\n",
              "  </style>\n",
              "\n",
              "      <script>\n",
              "        const buttonEl =\n",
              "          document.querySelector('#df-ef1c5720-13c2-4dfd-b9a3-1eab615b9908 button.colab-df-convert');\n",
              "        buttonEl.style.display =\n",
              "          google.colab.kernel.accessAllowed ? 'block' : 'none';\n",
              "\n",
              "        async function convertToInteractive(key) {\n",
              "          const element = document.querySelector('#df-ef1c5720-13c2-4dfd-b9a3-1eab615b9908');\n",
              "          const dataTable =\n",
              "            await google.colab.kernel.invokeFunction('convertToInteractive',\n",
              "                                                     [key], {});\n",
              "          if (!dataTable) return;\n",
              "\n",
              "          const docLinkHtml = 'Like what you see? Visit the ' +\n",
              "            '<a target=\"_blank\" href=https://colab.research.google.com/notebooks/data_table.ipynb>data table notebook</a>'\n",
              "            + ' to learn more about interactive tables.';\n",
              "          element.innerHTML = '';\n",
              "          dataTable['output_type'] = 'display_data';\n",
              "          await google.colab.output.renderOutput(dataTable, element);\n",
              "          const docLink = document.createElement('div');\n",
              "          docLink.innerHTML = docLinkHtml;\n",
              "          element.appendChild(docLink);\n",
              "        }\n",
              "      </script>\n",
              "    </div>\n",
              "  </div>\n",
              "  "
            ]
          },
          "metadata": {},
          "execution_count": 13
        }
      ]
    },
    {
      "cell_type": "code",
      "execution_count": null,
      "metadata": {
        "id": "WBIv1kL1p9Zo"
      },
      "outputs": [],
      "source": [
        "# [Trial&Error]클래스 불균형 해소를 위한 오버샘플링 - ADASYN : 과대적합\n",
        "# ADASYN, SMOTE는 '가짜 샘플'을 생성하여 클래스 불균형을 해소하기 때문에 TARGET을 예측할 때 '진짜 샘플'이 지워질 우려가 있어 선택하지 않음.\n",
        "\n",
        "'''\n",
        "ada = ADASYN()\n",
        "NCB_data_res, NCB_TARGET_res = ada.fit_resample(NCB_data, NCB_TARGET)\n",
        "    # [NCB_TARGET] 0 : 287783, 1 : 25736\n",
        "    # [NCB_TARGET_res] 0 : 287783, 1 : 283738\n",
        "\n",
        "# 원본 데이터와 ADASYN 후 데이터 클래스 분포 시각화\n",
        "# [Error] 시각화 실패\n",
        "```\n",
        "pca = PCA(n_components=2)\n",
        "data_vis = pca.fit_transform(NCB_data)\n",
        "data_res_vis = pca.fit_transform(NCB_data_res)\n",
        "\n",
        "f, (ax1, ax2) = plt.subplots(1,2)\n",
        "c0 = ax1.scatter(data_vis[NCB_TARGET == 0,0], data_vis[NCB_TARGET == 0,1], label = \"Class #0\",\n",
        "                 alpha=0.5)\n",
        "c1 = ax1.scatter(data_vis[NCB_TARGET == 1,0], data_vis[NCB_TARGET == 1,1], label = \"Class #1\",\n",
        "            alpha = 0.5)\n",
        "ax1.set_title(\"Original set\")\n",
        "\n",
        "\n",
        "ax2.scatter(data_res_vis[NCB_TARGET_res == 0,0], data_res_vis[NCB_TARGET_res == 0,1],\n",
        "            label=\"Class #0\", alpha = 0.5)\n",
        "ax2.scatter(data_res_vis[NCB_TARGET_res == 1,0], data_res_vis[NCB_TARGET_res == 1,1],\n",
        "            label=\"Class #1\", alpha = 0.5)\n",
        "ax2.set_title(\"ADASYN set\")\n",
        "\n",
        "for ax in (ax1, ax2):\n",
        "  ax.spines['top'].set_visible(False)\n",
        "  ax.spines['right'].set_visible(False)\n",
        "  ax.get_xaxis().tick_bottom()\n",
        "  ax.get_yaxis().tick_left()\n",
        "  ax.spines['left'].set_position(('outward',10))\n",
        "  ax.spines['bottom'].set_position(('outward', 10))\n",
        "  ax.set_xlim([-6,8])\n",
        "  ax.set_ylim([-6,6])\n",
        "\n",
        "#plt.rcParams['figure.figsize'] = (15,10)\n",
        "plt.figlegend((c0, c1), (\"Class #0\", \"Class #1\"), loc='lower center',\n",
        "              ncol=2, labelspacing=0.)\n",
        "plt.tight_layout(pad=3)\n",
        "plt.show()\n",
        "```\n",
        "\n",
        "# train_test_split (0.5~0.1)\n",
        "i = 0\n",
        "i = []\n",
        "\n",
        "for i in split :\n",
        "  globals()[\"X_train_{}\".format(i)], globals()[\"X_test_{}\".format(i)], globals()[\"y_train_{}\".format(i)], globals()[\"y_test_{}\".format(i)] = train_test_split(NCB_data_res, NCB_TARGET_res,\n",
        "                                                                                                                                                              test_size = i/10)\n",
        "  print( globals()[\"X_train_{}\".format(i)].shape, globals()[\"X_test_{}\".format(i)].shape)\n",
        "\n",
        "# 성능평가\n",
        "f = 0\n",
        "f = []\n",
        "\n",
        "for f in split :\n",
        "  globals()[\"dt_{}\".format(f)] = dt.fit(globals()[\"X_train_{}\".format(f)], globals()[\"y_train_{}\".format(f)])\n",
        "  globals()[\"evaluations_{}\".format(f)] = dt_eval(globals()[\"y_test_{}\".format(f)], globals()[\"dt_{}\".format(f)].predict(globals()[\"X_test_{}\".format(f)]))\n",
        "  print(f\"split: {f/10}\")\n",
        "  print(globals()[\"evaluations_{}\".format(f)])\n",
        "    # [정확도, 정밀도, 재현율 모두 90% 이상으로, 과대적합이 발생함]\n",
        "'''"
      ]
    },
    {
      "cell_type": "markdown",
      "metadata": {
        "id": "aaiUCeJgh7bs"
      },
      "source": [
        "##### (1) 클래스 불균형 해소를 위한 클래스 가중치 설정"
      ]
    },
    {
      "cell_type": "markdown",
      "source": [
        "> DecisionTreeClassWeight()"
      ],
      "metadata": {
        "id": "P_ZrMwFzhV6-"
      }
    },
    {
      "cell_type": "code",
      "execution_count": null,
      "metadata": {
        "id": "n-07oXqsRzW1"
      },
      "outputs": [],
      "source": [
        "# DecisionTreeClassWeight()\n",
        "# 의사결정 분류나무의 train:test 분할비율, 소수 클래스 가중치를 입력하여 모형을 적합하여\n",
        "# F-Beta score(beta = 0.75), performance measure(금융회사의 기대손익)을 예측, 최적의 가중치 탐색하는 함수\n",
        "# 출력값은 혼동행렬, 정밀도, 재현율, 오분류율, F-Beta 점수, performance_measure\n",
        "\n",
        "def DecisionTreeClassWeight(split_ratio: float, tree_depth: int, lowclass_weight: float, alpha: float):\n",
        "\n",
        "  # 훈련용 및 검증용 데이터 셋 분할\n",
        "  np.random.seed(2023)\n",
        "  X_train, X_test, y_train, y_test = train_test_split(X,\n",
        "                                                      y,\n",
        "                                                      stratify = y,\n",
        "                                                      random_state = 2022,\n",
        "                                                      test_size = split_ratio)\n",
        "    # [훈련용 및 검증용 데이터 셋 분할비율 split_ratio로 입력값 설정]\n",
        "\n",
        "  # 의사결정나무 최적의 가중치 탐색을 위한 모형 적합(model fitting)\n",
        "\n",
        "  weights = {0:1, 1:lowclass_weight}\n",
        "    # [클래스별 가중치 설정] 다수클래스 0 = 1, 소수클래스 1 = lowclass_weight로 입력값 설정\n",
        "  decisionTreePruned = DecisionTreeClassifier(random_state = 2023,\n",
        "                                              ccp_alpha = alpha,\n",
        "                                              max_depth = tree_depth,\n",
        "                                              class_weight = weights,\n",
        "                                              criterion = \"gini\")\n",
        "  decisionTreePruned.fit(X_train, y_train)\n",
        "  y_pred = decisionTreePruned.predict(X_test)\n",
        "  y_pred = np.array(y_pred)\n",
        "  y_test = np.array(y_test)\n",
        "\n",
        "  # 혼동행렬 작성 후 F-Beta 점수(모형 성능평가지표) 반환\n",
        "\n",
        "  TP = 0\n",
        "  FN = 0\n",
        "  FP = 0\n",
        "  TN = 0\n",
        "\n",
        "  for i in range(len(y_pred)):\n",
        "    if y_test[i] == y_pred[i] == 1:\n",
        "      TP += 1\n",
        "    if y_test[i] == 1 and y_pred[i] == 0:\n",
        "      FN += 1\n",
        "    if y_test[i] == 0 and y_pred[i] == 1:\n",
        "      FP += 1\n",
        "    if y_test[i] == 0 and y_pred[i] == 0:\n",
        "      TN += 1\n",
        "\n",
        "  confusionMatrix = np.array([[TP, FN], [FP, TN]]).reshape(2, 2)\n",
        "  print(confusionMatrix)\n",
        "  Precision = TP / (TP + FP)\n",
        "  Recall = TP / (TP + FN)\n",
        "  print(\"정밀도 :\", Precision)\n",
        "  print(\"재현율 :\", Recall)\n",
        "  print(\"오분류율 :\", (FN + FP) / (TP + FN + FP + TN))\n",
        "  print(\"F-Beta 점수 :\", ((1+(0.75**2))*Precision*Recall) / ((0.75**2)*Precision + Recall))\n",
        "\n",
        "  # 결정트리의 깊이 출력 -> 실패\n",
        "\n",
        "  print(\"결정트리의 깊이 :\", decisionTreePruned.get_depth())\n",
        "\n",
        "  # 분류 가중치 테이블\n",
        "\n",
        "  DBCapital = [2735, 23872]\n",
        "  DBInsurance = [6981, 488399]\n",
        "  DBCapital = pd.Series(DBCapital)\n",
        "  DBInsurance = pd.Series(DBInsurance)\n",
        "  DBWeights = pd.DataFrame({\n",
        "      \"Capital\" : DBCapital,\n",
        "      \"Insurance\" : DBInsurance\n",
        "  }).T\n",
        "  DBWeights.columns = [\"FN\", \"FP\"]\n",
        "  DBWeights\n",
        "\n",
        "  # 분류 가중치 단위 조정 : 자연로그 변환\n",
        "\n",
        "  DBWeights_loge = np.log(DBWeights)\n",
        "  classifyWeights = round(DBWeights_loge, 0)\n",
        "  classifyWeights = -(classifyWeights)\n",
        "    # [FN, FP 음수로 치환]\n",
        "  classifyWeights.at[2,:] = confusionMatrix[[0,1], [1,0]]\n",
        "    # [confusionMatrix[[0,1], [1,0]] = Prediction(FN, FP의 개수)\n",
        "  classifyWeights.index = [\"Capital\", \"Insurance\", \"Prediction\"]\n",
        "  classifyWeights = classifyWeights.transpose()\n",
        "\n",
        "  # 금융회사의 기대손실(Loss)\n",
        "\n",
        "  classifyWeights[\"CapitalExpectedP&L\"] = classifyWeights[\"Capital\"] * classifyWeights[\"Prediction\"]\n",
        "  classifyWeights[\"InsuranceExpectedP&L\"] = classifyWeights[\"Insurance\"] * classifyWeights[\"Prediction\"]\n",
        "  print(classifyWeights)\n",
        "  print(\"캐피탈 오분류비용 :\", sum(classifyWeights[\"CapitalExpectedP&L\"]))\n",
        "  print(\"손해보험 오분류비용 :\", sum(classifyWeights[\"InsuranceExpectedP&L\"]))\n",
        "\n",
        "  # 의사결정트리 시각화 -> 에러\n",
        "    # [TypeError: can only concatenate str (not \"numpy.uint64\") to str]\n",
        "    # [AttributeError: 'Series' object has no attribute 'columns']# os.environ[\"PATH\"] += os.pathsep + r\"C:/Users/master14/graphviz-2.44.1-win32/Graphviz/bin\"\n",
        "  '''\n",
        "  export_graphviz(decisionTreePruned,\n",
        "                  out_file = \"tree.dot\",\n",
        "                  class_names = [\"0\", \"1\"],\n",
        "                    # decisionTreePruned.classes_\n",
        "                  feature_names = X.columns.tolist(),\n",
        "                    # decisionTreePruned.feature_names_in_\n",
        "                  impurity = True,\n",
        "                  filled = True)\n",
        "  with open(\"tree.dot\") as f:\n",
        "    dot_graph = f.read()\n",
        "  return graphviz.Source(dot_graph)\n",
        "  '''"
      ]
    },
    {
      "cell_type": "code",
      "source": [
        "# max_depth 그리드 서치, class_weight(가중치 신용위험에 대한 가중치 1/p, (p=연체확률값))\n",
        "\n",
        "def MaxDepth(split_ratio: float):\n",
        "  np.random.seed(2023)\n",
        "  X_train, X_test, y_train, y_test = train_test_split(X,\n",
        "                                                      y,\n",
        "                                                      stratify = y,\n",
        "                                                      random_state = 2022,\n",
        "                                                      test_size = split_ratio)\n",
        "  default_wt = round(1/np.mean(y_train==1),0)\n",
        "  target_wt = [default_wt if target == 1 else 1 for target in y_train]\n",
        "    # [클래스별 가중치 설정] 신용위험에 대한 가중치 1/p, (p=연체확률값)\n",
        "    # [fit() 함수의 파라미터인 [sample_weight]의 값으로 들어가야 함]\n",
        "\n",
        "  DT = DecisionTreeClassifier(random_state = 2023, criterion = \"gini\")\n",
        "  grid_param = {\"max_depth\" : list(range(17, 24, 1))}\n",
        "  f_beta = make_scorer(fbeta_score, beta=0.75)\n",
        "    # [beta = 0.75 : 가중치 8/10, 9/13 의 중간값]\n",
        "  grid_search = GridSearchCV(DT, grid_param, cv=5, scoring = f_beta)\n",
        "  grid_search.fit(X_train, y_train, sample_weight = target_wt)\n",
        "  print(f\"split_ratio: {split_ratio}\")\n",
        "  print(f\"max_depth 최적 파라미터: {grid_search.best_params_}\")\n",
        "  print(f\"최적 max_depth일 때의 F-beta값: {grid_search.best_score_}\")"
      ],
      "metadata": {
        "id": "8XnDrOTke9AK"
      },
      "execution_count": null,
      "outputs": []
    },
    {
      "cell_type": "code",
      "source": [
        "MaxDepth(split_ratio = 0.2)"
      ],
      "metadata": {
        "colab": {
          "base_uri": "https://localhost:8080/"
        },
        "id": "f57iqvYtjCWl",
        "outputId": "7fe8fc84-157a-4d20-d4c8-eda808cd6578"
      },
      "execution_count": null,
      "outputs": [
        {
          "output_type": "stream",
          "name": "stdout",
          "text": [
            "split_ratio: 0.2\n",
            "max_depth 최적 파라미터: {'max_depth': 23}\n",
            "최적 max_depth일 때의 F-beta값: 0.2327047251096534\n"
          ]
        }
      ]
    },
    {
      "cell_type": "code",
      "source": [
        "MaxDepth(split_ratio = 0.3)"
      ],
      "metadata": {
        "colab": {
          "base_uri": "https://localhost:8080/"
        },
        "id": "QT-KfraLtzsR",
        "outputId": "477e40ce-1997-46dd-9519-27e4267c4d12"
      },
      "execution_count": null,
      "outputs": [
        {
          "output_type": "stream",
          "name": "stdout",
          "text": [
            "split_ratio: 0.3\n",
            "max_depth 최적 파라미터: {'max_depth': 23}\n",
            "최적 max_depth일 때의 F-beta값: 0.22653693899471677\n"
          ]
        }
      ]
    },
    {
      "cell_type": "code",
      "source": [
        "MaxDepth(split_ratio = 0.4)"
      ],
      "metadata": {
        "colab": {
          "base_uri": "https://localhost:8080/"
        },
        "id": "szRY4LC64qQw",
        "outputId": "f09a4797-a0c0-4919-bcc9-868e7bc25994"
      },
      "execution_count": null,
      "outputs": [
        {
          "output_type": "stream",
          "name": "stdout",
          "text": [
            "split_ratio: 0.4\n",
            "max_depth 최적 파라미터: {'max_depth': 23}\n",
            "최적 max_depth일 때의 F-beta값: 0.22424571482339925\n"
          ]
        }
      ]
    },
    {
      "cell_type": "code",
      "source": [
        "MaxDepth(split_ratio = 0.5)"
      ],
      "metadata": {
        "colab": {
          "base_uri": "https://localhost:8080/"
        },
        "id": "KRRdS2oa4rci",
        "outputId": "aa5b9523-12b4-4a2f-8160-f9cf05591678"
      },
      "execution_count": null,
      "outputs": [
        {
          "output_type": "stream",
          "name": "stdout",
          "text": [
            "split_ratio: 0.5\n",
            "max_depth 최적 파라미터: {'max_depth': 23}\n",
            "최적 max_depth일 때의 F-beta값: 0.20815155283144518\n"
          ]
        }
      ]
    },
    {
      "cell_type": "code",
      "source": [
        "# class_weight = {0:1, 1:3} 일 때의 최적 max_depth\n",
        "\n",
        "def MaxDepth_2(split_ratio: float):\n",
        "  np.random.seed(2023)\n",
        "  X_train, X_test, y_train, y_test = train_test_split(X,\n",
        "                                                      y,\n",
        "                                                      stratify = y,\n",
        "                                                      random_state = 2022,\n",
        "                                                      test_size = split_ratio)\n",
        "  weights = {0:1, 1:3}\n",
        "  grid_param = {\"max_depth\" : list(range(17, 24, 1))}\n",
        "  DT_2 = DecisionTreeClassifier(random_state = 2022, criterion = \"gini\", class_weight = weights)\n",
        "  f_beta = make_scorer(fbeta_score, beta=0.75)\n",
        "  grid_search = GridSearchCV(DT_2, grid_param, cv=5, scoring = f_beta)\n",
        "  grid_search.fit(X_train, y_train)\n",
        "  print(f\"split_ratio: {split_ratio}\")\n",
        "  print(f\"max_depth 최적 파라미터: {grid_search.best_params_}\")\n",
        "  print(f\"최적 max_depth일 때의 F-beta값: {grid_search.best_score_}\")"
      ],
      "metadata": {
        "id": "4rvfjiiGy0MG"
      },
      "execution_count": null,
      "outputs": []
    },
    {
      "cell_type": "code",
      "source": [
        "MaxDepth_2(split_ratio = 0.2)"
      ],
      "metadata": {
        "id": "A72Lgxrv0rDN",
        "colab": {
          "base_uri": "https://localhost:8080/"
        },
        "outputId": "0fd92ce4-b7a4-47fb-a723-5666753dcafb"
      },
      "execution_count": null,
      "outputs": [
        {
          "output_type": "stream",
          "name": "stdout",
          "text": [
            "split_ratio: 0.2\n",
            "max_depth 최적 파라미터: {'max_depth': 23}\n",
            "최적 max_depth일 때의 F-beta값: 0.301365079649599\n"
          ]
        }
      ]
    },
    {
      "cell_type": "code",
      "source": [
        "MaxDepth_2(split_ratio = 0.3)"
      ],
      "metadata": {
        "colab": {
          "base_uri": "https://localhost:8080/"
        },
        "id": "FtloknY341Q_",
        "outputId": "d125d75d-d38c-468b-9708-b4633b299926"
      },
      "execution_count": null,
      "outputs": [
        {
          "output_type": "stream",
          "name": "stdout",
          "text": [
            "split_ratio: 0.3\n",
            "max_depth 최적 파라미터: {'max_depth': 23}\n",
            "최적 max_depth일 때의 F-beta값: 0.2947449661544706\n"
          ]
        }
      ]
    },
    {
      "cell_type": "code",
      "source": [
        "MaxDepth_2(split_ratio = 0.4)"
      ],
      "metadata": {
        "colab": {
          "base_uri": "https://localhost:8080/"
        },
        "id": "O4pm5bXP42-U",
        "outputId": "5386ad0d-9d0c-45fd-e074-9ccd690c717a"
      },
      "execution_count": null,
      "outputs": [
        {
          "output_type": "stream",
          "name": "stdout",
          "text": [
            "split_ratio: 0.4\n",
            "max_depth 최적 파라미터: {'max_depth': 23}\n",
            "최적 max_depth일 때의 F-beta값: 0.26482942409159493\n"
          ]
        }
      ]
    },
    {
      "cell_type": "code",
      "source": [
        "MaxDepth_2(split_ratio = 0.5)"
      ],
      "metadata": {
        "colab": {
          "base_uri": "https://localhost:8080/"
        },
        "id": "o5hYXA0V434W",
        "outputId": "86e4389f-bc92-47a5-8ed0-9e8402ca9af7"
      },
      "execution_count": null,
      "outputs": [
        {
          "output_type": "stream",
          "name": "stdout",
          "text": [
            "split_ratio: 0.5\n",
            "max_depth 최적 파라미터: {'max_depth': 23}\n",
            "최적 max_depth일 때의 F-beta값: 0.24049667466228467\n"
          ]
        }
      ]
    },
    {
      "cell_type": "markdown",
      "source": [
        "##### (2) 의사결정트리의 하이퍼파라미터를 튜닝하는 과정에서 발견한 몇가지 규칙성\n",
        "\n",
        "* 다수 : 소수 클래스 가중치를 **1 : 12(1/소수 클래스 확률값)**로 주어 **5:5 균형인 상황**보다 **1 : 3**으로 주어 **4:1의 클래스 불균형이 완화된 상황**에서 performance measure인 F-0.75 점수가 유리함을 확인함\n",
        "* Train 데이터를 train(80%) : validation(20%)으로 분할하여 5겹 교차검증을 수행한 결과보다 Train(train + validataion, 80%) : Test(20%)로 분할하여 수행한 결과가 더 유리함을 확인함\n",
        "* 의사결정 트리 분류기의 GridSearchCV(격자탐색 교차검증)에서 최적화된 하이퍼파라미터 값(트리의 최대 깊이)로 그리드 내 가장 큰 수를 반환함"
      ],
      "metadata": {
        "id": "EwG3D79-RBeK"
      }
    },
    {
      "cell_type": "code",
      "source": [
        "# DT()\n",
        "# 출력값은 소수클래스 가중치가 3, 다수클래스 가중치가 1이고 max_depth가 depth = 20 ~ 23일 때의 성능지표\n",
        "\n",
        "def DT(split_ratio : float,\n",
        "       depths: float,\n",
        "       impurity: object):\n",
        "  X_train, X_test, y_train, y_test = train_test_split(X,\n",
        "                                                      y,\n",
        "                                                      stratify = y,\n",
        "                                                      random_state = 2022)\n",
        "  weights = {0:1, 1:3}\n",
        "  dt = DecisionTreeClassifier(max_depth = depths,\n",
        "                              class_weight = weights,\n",
        "                              random_state = 2022,\n",
        "                              criterion = impurity)\n",
        "  dt.fit(X_train, y_train)\n",
        "  print(dt_eval(y_test, dt.predict(X_test)))\n",
        "  print(dt_eval(y_train, dt.predict(X_train)))"
      ],
      "metadata": {
        "id": "ewSWM0sw3z8I"
      },
      "execution_count": null,
      "outputs": []
    },
    {
      "cell_type": "code",
      "source": [
        "DT(split_ratio = 0.2, depths = 40, impurity = \"gini\")\n",
        "  # [트리의 최대깊이가 30 ~ 40일 때 과적합되는 문제 발생]"
      ],
      "metadata": {
        "colab": {
          "base_uri": "https://localhost:8080/"
        },
        "id": "jo3-2hai56PT",
        "outputId": "cec8c3cf-3cff-4ba9-a8d3-7c4cf9abebaf"
      },
      "execution_count": null,
      "outputs": [
        {
          "output_type": "stream",
          "name": "stdout",
          "text": [
            "혼동 행렬\n",
            "[[ 2509  3925]\n",
            " [ 4367 67579]]\n",
            "정확도: 0.8942077060474611\n",
            "정밀도: 0.36489237929028506\n",
            "재현율: 0.3899595896798259\n",
            "F1: 0.3770097670924117\n",
            "F-0.75: 0.37353652290944606\n",
            "None\n",
            "혼동 행렬\n",
            "[[ 19179    123]\n",
            " [    84 215753]]\n",
            "정확도: 0.9991196696422117\n",
            "정밀도: 0.9956393085189222\n",
            "재현율: 0.993627603357165\n",
            "F1: 0.9946324387397899\n",
            "F-0.75: 0.9949141569452571\n",
            "None\n"
          ]
        }
      ]
    },
    {
      "cell_type": "code",
      "source": [
        "DT(split_ratio = 0.2, depths = 21, impurity = \"gini\")\n",
        "DT(split_ratio = 0.2, depths = 21, impurity = \"entropy\")"
      ],
      "metadata": {
        "colab": {
          "base_uri": "https://localhost:8080/"
        },
        "id": "cox_rczJ_dqN",
        "outputId": "935fcb6e-13ed-4511-e315-9ad1ef00a85c"
      },
      "execution_count": null,
      "outputs": [
        {
          "output_type": "stream",
          "name": "stdout",
          "text": [
            "혼동 행렬\n",
            "[[ 2115  4319]\n",
            " [ 4041 67905]]\n",
            "정확도: 0.8933401377902526\n",
            "정밀도: 0.3435672514619883\n",
            "재현율: 0.32872241218526577\n",
            "F1: 0.3359809372517871\n",
            "F-0.75: 0.33807112441017373\n",
            "None\n",
            "혼동 행렬\n",
            "[[ 13839   5463]\n",
            " [  3752 212085]]\n",
            "정확도: 0.9608104142656047\n",
            "정밀도: 0.7867091126144051\n",
            "재현율: 0.7169723344731116\n",
            "F1: 0.7502236196568456\n",
            "F-0.75: 0.7600939420968684\n",
            "None\n",
            "혼동 행렬\n",
            "[[ 1855  4579]\n",
            " [ 3793 68153]]\n",
            "정확도: 0.8931870375095687\n",
            "정밀도: 0.3284348441926346\n",
            "재현율: 0.28831209201119057\n",
            "F1: 0.3070683661645423\n",
            "F-0.75: 0.3127655556604665\n",
            "None\n",
            "혼동 행렬\n",
            "[[ 11987   7315]\n",
            " [  5035 210802]]\n",
            "정확도: 0.9474778747889546\n",
            "정밀도: 0.7042063212313476\n",
            "재현율: 0.6210237281110765\n",
            "F1: 0.6600044048012332\n",
            "F-0.75: 0.6718115990763782\n",
            "None\n"
          ]
        }
      ]
    },
    {
      "cell_type": "markdown",
      "source": [
        "> DeicisionTreeCostComplexity()\n",
        "  * [ver1] max_depth =None, split_ratio = ??, lowclass_weight = ??\n",
        ">  \n",
        "> DecisionTreeCostComplexity_2()\n",
        "  * [ver2] max_depth = ??, split_ratio, lowclass_weight =??"
      ],
      "metadata": {
        "id": "mqPgO_61xBMe"
      }
    },
    {
      "cell_type": "code",
      "execution_count": null,
      "metadata": {
        "id": "MOwVPcpencm7"
      },
      "outputs": [],
      "source": [
        "# DeicisionTreeCostComplexity()\n",
        "# 의사결정 분류나무의 xerror + alpha*xstd를 최소화하는 ccp_alpha를 찾는 함수\n",
        "# 출력값은 비용 복잡도(가중계수 alpha)가 증가할 때 트리의 리트노드 불순도의 변화 그래프\n",
        "\n",
        "def DecisionTreeCostComplexity(split_ratio: float,\n",
        "                               lowclass_weight: float):\n",
        "  np.random.seed(2023)\n",
        "  X_train, X_test, y_train, y_test = train_test_split(X,\n",
        "                                                      y,\n",
        "                                                      stratify = y,\n",
        "                                                      random_state = 2022,\n",
        "                                                      test_size = split_ratio)\n",
        "    # [훈련용 및 검증용 데이터 셋 분할비율 split_ratio로 입력값 설정]\n",
        "  weights = {0:1, 1:lowclass_weight}\n",
        "    # [클래스별 가중치 설정] 다수클래스 0 = 1, 소수클래스 1 = lowclass_weight로 입력값 설정\n",
        "  DecisionTree = DecisionTreeClassifier(random_state = 2023,\n",
        "                                        class_weight = weights)\n",
        "    # [정지규칙, 가지치기, 분리기준 모두 디폴트 설정]\n",
        "    # [소수 클래스 TARGET 1 가중치 조정]\n",
        "  path = DecisionTree.cost_complexity_pruning_path(X_train, y_train)\n",
        "  ccp_alphas, impurities = path.ccp_alphas, path.impurities\n",
        "    # [가지치기 과정에서 유효한 알파(가중계수)와 총 리프 노드의 불순도 반환]\n",
        "\n",
        "  fig, ax = plt.subplots()\n",
        "  ax.plot(ccp_alphas[:-1],\n",
        "          impurities[:-1],\n",
        "          marker = \"o\",\n",
        "          drawstyle = \"steps-post\")\n",
        "  ax.set_xlabel(\"Effective alpha\")\n",
        "  ax.set_ylabel(\"Total Impurity of leaf nodes\")\n",
        "  ax.set_title(\"Total Impurity vs effective alpha for training set\")\n",
        "\n",
        "  '''\n",
        "  [실행시간 문제]\n",
        "\n",
        "  clfs: List = []\n",
        "    # [classifier 리스트]\n",
        "  for ccp_alpha in ccp_alphas:\n",
        "    # [정지규칙인 최적의 알파(가중계수)를 적용하여 결정 트리 학습]\n",
        "    # [전체 트리를 가지치기하는 알파]\n",
        "    clf = DecisionTreeClassifier(random_state = 2023,\n",
        "                                 ccp_alpha = ccp_alpha)\n",
        "    clf.fit(X_train, y_train)\n",
        "    clfs.append(clf)\n",
        "\n",
        "  y_pred = clf.predict(X_test)\n",
        "  confusionMatrix = confusion_matrix(y_test, y_pred)\n",
        "  print(confusionMatrix)\n",
        "    # [가지치기한 결정트리의 혼동행렬 출력]\n",
        "    # TN FP\n",
        "    # FN TP\n",
        "\n",
        "  print(\n",
        "      \"Number of nodes in the last tree is {} with ccp_alpha: {}\".format(\n",
        "          clf[-1].tree_.node_count, ccp_alphas[-1]\n",
        "          ))\n",
        "  '''"
      ]
    },
    {
      "cell_type": "code",
      "source": [
        "# DeicisionTreeCostComplexity_2()\n",
        "# 의사결정 분류나무의 xerror + alpha*xstd를 최소화하는 ccp_alpha를 찾는 함수\n",
        "# 출력값은 비용 복잡도(가중계수 alpha)가 증가할 때 트리의 리트노드 불순도의 변화 그래프\n",
        "\n",
        "def DecisionTreeCostComplexity_2(split_ratio: float,\n",
        "                                 lowclass_weight: float,\n",
        "                                 depths: float):\n",
        "  np.random.seed(2023)\n",
        "  X_train, X_test, y_train, y_test = train_test_split(X,\n",
        "                                                      y,\n",
        "                                                      stratify = y,\n",
        "                                                      random_state = 2022,\n",
        "                                                      test_size = split_ratio)\n",
        "    # [훈련용 및 검증용 데이터 셋 분할비율 split_ratio로 입력값 설정]\n",
        "  weights = {0:1, 1:lowclass_weight}\n",
        "    # [클래스별 가중치 설정] 다수클래스 0 = 1, 소수클래스 1 = lowclass_weight로 입력값 설정\n",
        "  DecisionTree = DecisionTreeClassifier(random_state = 2023,\n",
        "                                        class_weight = weights,\n",
        "                                        max_depth = depths)\n",
        "    # [정지규칙, 가지치기, 분리기준 모두 디폴트 설정]\n",
        "    # [소수 클래스 TARGET 1 가중치 조정]\n",
        "  path = DecisionTree.cost_complexity_pruning_path(X_train, y_train)\n",
        "  ccp_alphas, impurities = path.ccp_alphas, path.impurities\n",
        "    # [가지치기 과정에서 유효한 알파(가중계수)와 총 리프 노드의 불순도 반환]\n",
        "\n",
        "  fig, ax = plt.subplots()\n",
        "  ax.plot(ccp_alphas[:-1],\n",
        "          impurities[:-1],\n",
        "          marker = \"o\",\n",
        "          drawstyle = \"steps-post\")\n",
        "  ax.set_xlabel(\"Effective alpha\")\n",
        "  ax.set_ylabel(\"Total Impurity of leaf nodes\")\n",
        "  ax.set_title(\"Total Impurity vs effective alpha for training set\")"
      ],
      "metadata": {
        "id": "0lO5nFA0Anz2"
      },
      "execution_count": null,
      "outputs": []
    },
    {
      "cell_type": "code",
      "execution_count": null,
      "metadata": {
        "id": "9cfwfXSZncjd",
        "colab": {
          "base_uri": "https://localhost:8080/",
          "height": 295
        },
        "outputId": "48bf4fdf-a8b9-4858-fa71-163ac4957876"
      },
      "outputs": [
        {
          "output_type": "display_data",
          "data": {
            "text/plain": [
              "<Figure size 432x288 with 1 Axes>"
            ],
            "image/png": "[encoded data removed]"
          },
          "metadata": {
            "needs_background": "light"
          }
        }
      ],
      "source": [
        "# ccp_alpha 찾기\n",
        "\n",
        "DecisionTreeCostComplexity(split_ratio = 0.2,\n",
        "                           lowclass_weight = 3)"
      ]
    },
    {
      "cell_type": "code",
      "execution_count": null,
      "metadata": {
        "id": "R4HVmNWMncgJ",
        "colab": {
          "base_uri": "https://localhost:8080/",
          "height": 295
        },
        "outputId": "fe08a696-6af2-4c4f-c936-c6f225291be0"
      },
      "outputs": [
        {
          "output_type": "display_data",
          "data": {
            "text/plain": [
              "<Figure size 432x288 with 1 Axes>"
            ],
            "image/png": "[encoded data removed]"
          },
          "metadata": {
            "needs_background": "light"
          }
        }
      ],
      "source": [
        "DecisionTreeCostComplexity_2(split_ratio = 0.2,\n",
        "                             lowclass_weight = 3,\n",
        "                             depths = 40)"
      ]
    },
    {
      "cell_type": "code",
      "source": [
        "# [Trials & Errors] 최적의 lowclass_weight 찾기\n",
        "\n",
        "'''\n",
        "# 최적의 lowclass_weight 찾기 1\n",
        "# LowClassWeight()\n",
        "# split_ratio를 넣었을 때, 최적의 lowclass_weight 파라미터를 찾기 위한 함수\n",
        "# 출력값은 low_class_weight를 그리드 서치했을 때 나오는 best_params_\n",
        "# [Warning] 클래스 불균형 해소를 보려면 정확도와 이외의 평가 지표를 비교해야할 거 같은데\n",
        "# GridSearchCV에서 scoring = \"f1\"으로 한정했기 때문에 클래스 불균형이 해소된 것인지 확인하기엔 부적절한 거 같음.\n",
        "\n",
        "def LowClassWeight(split_ratio: float):\n",
        "  np.random.seed(2023)\n",
        "  X_train, X_test, y_train, y_test = train_test_split(X,\n",
        "                                                      y,\n",
        "                                                      stratify = y,\n",
        "                                                      random_state = 2022,\n",
        "                                                      test_size = split_ratio)\n",
        "  # weights = {0:1, 1:lowclass_weight}\n",
        "  DecisionTree = DecisionTreeClassifier(random_state = 2023)\n",
        "  param_grid = {'class_weight' : [{0:1, 1:10}, {0:1, 1:20}, {0:1, 1:30}, {0:1, 1:40}, {0:1, 1:50},\n",
        "                                  {0:1, 1:60}, {0:1, 1:70}, {0:1, 1:80}, {0:1, 1:90}]}\n",
        "  #[10, 30, 30, 40, 50, 60, 70, 80, 90]\n",
        "  # lowclass_weight = [10, 30, 30, 40, 50, 60, 70, 80, 90]\n",
        "  grid_search = GridSearchCV(DecisionTree, param_grid, cv=5, scoring = \"f1\")\n",
        "  grid_search.fit(X_train, y_train)\n",
        "  print(grid_search.best_params_)\n",
        "\n",
        "LowClassWeight(split_ratio = 0.5)\n",
        "    # [{'class_weight': {0: 1, 1: 20}}] : split_ratio = 0.5 일 때는 lowclass_weight(가중치)가 20일 때 최적\n",
        "    # [7분 7초]\n",
        "\n",
        "'''\n",
        "\n",
        "'''\n",
        "# 최적의 lowclass_weight 찾기 2\n",
        "# LowClassWeight_2()\n",
        "# split_ratio를 넣었을 때, 최적의 lowclass_weight 파라미터를 찾기 위한 함수\n",
        "# 출력값은 split_ratio에 대해 각 lowclass_weight가 지정되었을 때의 혼동행렬 및 평가 지표들\n",
        "\n",
        "def LowClassWeight_2(split_ratio: float):\n",
        "  np.random.seed(2023)\n",
        "  X_train, X_test, y_train, y_test = train_test_split(X,\n",
        "                                                      y,\n",
        "                                                      stratify = y,\n",
        "                                                      random_state = 2022,\n",
        "                                                      test_size = split_ratio)\n",
        "  lowclass_weight = [10, 20, 30, 40, 50, 60, 70, 80, 90]\n",
        "  for i in lowclass_weight :\n",
        "    weights = {0:1, 1:i}\n",
        "    DecisionTree = DecisionTreeClassifier(random_state = 2023,\n",
        "                                          class_weight = weights)\n",
        "    globals()[\"DecisionTree_{}\".format(i)] = DecisionTree.fit(X_train, y_train)\n",
        "    globals()[\"lc_evaluation_{}\".format(i)] = dt_eval(y_test, globals()[\"DecisionTree_{}\".format(i)].predict(X_test))\n",
        "    print(f\"lowclass_weight: {i}\")\n",
        "    print(globals()[\"lc_evaluation_{}\".format(i)])\n",
        "\n",
        "LowClassWeight_2(split_ratio = 0.5)\n",
        "# LowClassWeight_2(split_ratio = 0.4)\n",
        "# LowClassWeight_2(split_ratio = 0.3)\n",
        "# LowClassWeight_2(split_ratio = 0.2)\n",
        "# LowClassWeight_2(split_ratio = 0.1)\n",
        "\n",
        "'''\n",
        "\n",
        "'''\n",
        "[클래스 불균형 시각화]\n",
        "https://scikit-learn.org/stable/auto_examples/svm/plot_separating_hyperplane_unbalanced.html\n",
        "  # [Import Error : Boundary]\n",
        "'''"
      ],
      "metadata": {
        "id": "uwNM1h389ZUW"
      },
      "execution_count": null,
      "outputs": []
    },
    {
      "cell_type": "markdown",
      "source": [
        "##### (3) 최종 모델 (split_ratio = 0.2, max_detpth = 21, ccp_alpha = 0,  criterion = \"gini\")"
      ],
      "metadata": {
        "id": "Lm7iHl-y_ZBO"
      }
    },
    {
      "cell_type": "markdown",
      "metadata": {
        "id": "v65DQ3oLhzJd"
      },
      "source": [
        "> DecisionTreeCustom()"
      ]
    },
    {
      "cell_type": "code",
      "source": [
        "# DecisionTreeCustom()\n",
        "# 의사결정 분류나무의 train:test 분할비율, 비용복잡도/가중계수, 소수 클래스 가중치를 입력하여 모형을 적합하고 performance measure(금융회사의 기대손익)을 예측하는 함수\n",
        "# 출력값은 혼동행렬, 정확도-정밀도-재현율, performance_measure, TARGET = 1이 될 분류 확률의 분포를 나타내는 바이올린 플롯\n",
        "# 행렬곱을 numpy없이 구현하는 방법 : [[sum(x*Prediction) for x in i] for i in zip(*listcapital, *listinsurance)]\n",
        "\n",
        "\n",
        "def DecisionTreeCustom(split_ratio: float, alpha: float, impurity: object):\n",
        "  np.random.seed(2023)\n",
        "  X_train, X_test, y_train, y_test = train_test_split(X,\n",
        "                                                      y,\n",
        "                                                      stratify = y,\n",
        "                                                      random_state = 2022,\n",
        "                                                      test_size = split_ratio)\n",
        "    # [훈련용 및 검증용 데이터 셋 분할비율 split_ratio로 입력값 설정]\n",
        "  weights = {0:1, 1:3}\n",
        "    # [클래스별 가중치 설정] 다수클래스 0 = 1, 소수클래스 1 = 3으로 입력값 설정\n",
        "  decisionTreePruned = DecisionTreeClassifier(random_state = 2023,\n",
        "                                              max_depth = 21,\n",
        "                                              ccp_alpha = alpha,\n",
        "                                              class_weight = weights,\n",
        "                                              criterion = impurity)\n",
        "  decisionTreePruned.fit(X_train, y_train)\n",
        "  y_pred = decisionTreePruned.predict(X_test)\n",
        "  y_pred = np.array(y_pred)\n",
        "  y_test = np.array(y_test)\n",
        "\n",
        "  TP = 0\n",
        "  FN = 0\n",
        "  FP = 0\n",
        "  TN = 0\n",
        "\n",
        "  for i in range(len(y_pred)):\n",
        "    if y_test[i] == y_pred[i] == 1:\n",
        "      TP += 1\n",
        "    if y_test[i] == 1 and y_pred[i] == 0:\n",
        "      FN += 1\n",
        "    if y_test[i] == 0 and y_pred[i] == 1:\n",
        "      FP += 1\n",
        "    if y_test[i] == 0 and y_pred[i] == 0:\n",
        "      TN += 1\n",
        "\n",
        "  confusionMatrix = np.array([[TP, FN], [FP, TN]]).reshape(2, 2)\n",
        "  print(confusionMatrix)\n",
        "  Precision = TP / (TP + FP)\n",
        "  Recall = TP / (TP + FN)\n",
        "  print(\"정확도 :\", (TP + TN) / (TP + FN + FP + TN))\n",
        "  print(\"정밀도 :\", Precision)\n",
        "  print(\"재현율 :\", Recall)\n",
        "  print(\"F-Beta 점수 :\", ((1+(0.75**2))*Precision*Recall) / ((0.75**2)*Precision + Recall))\n",
        "\n",
        "  # Feature Importance\n",
        "  dt_series = pd.Series(decisionTreePruned.feature_importances_, index = X.columns)\n",
        "  dt_top_20 = dt_series.sort_values(ascending=False)[:20]\n",
        "  plt.title('Feature Importance Top 20')\n",
        "  sns.barplot(x=dt_top_20, y=dt_top_20.index)\n",
        "  plt.show()\n",
        "\n",
        "  # 분류 가중치 테이블\n",
        "  DBCapital = [2735, 23872]\n",
        "  DBInsurance = [6981, 488399]\n",
        "  DBCapital = pd.Series(DBCapital)\n",
        "  DBInsurance = pd.Series(DBInsurance)\n",
        "  DBWeights = pd.DataFrame({\n",
        "      \"Capital\" : DBCapital,\n",
        "      \"Insurance\" : DBInsurance\n",
        "  }).T\n",
        "  DBWeights.columns = [\"FN\", \"FP\"]\n",
        "  DBWeights\n",
        "\n",
        "  # 분류 가중치 단위 조정 : 자연로그 변환\n",
        "  DBWeights_loge = np.log(DBWeights)\n",
        "  classifyWeights = round(DBWeights_loge, 0)\n",
        "  classifyWeights = -(classifyWeights)\n",
        "    # [FN, FP 음수로 치환]\n",
        "  classifyWeights.at[2,:] = confusionMatrix[[0,1], [1,0]]\n",
        "    # [confusionMatrix[[0,1], [1,0]] = Prediction(FN, FP의 개수)\n",
        "  classifyWeights.index = [\"Capital\", \"Insurance\", \"Prediction\"]\n",
        "  print(classifyWeights)\n",
        "\n",
        "  classifyWeights = classifyWeights.transpose()\n",
        "  print(classifyWeights)\n",
        "\n",
        "  classifyWeights[\"CapitalExpectedP&L\"] = classifyWeights[\"Capital\"] * classifyWeights[\"Prediction\"]\n",
        "  classifyWeights[\"InsuranceExpectedP&L\"] = classifyWeights[\"Insurance\"] * classifyWeights[\"Prediction\"]\n",
        "  print(classifyWeights)\n",
        "\n",
        "    # [금융회사의 기대손익(Profit & Loss)]\n",
        "  print(sum(classifyWeights[\"CapitalExpectedP&L\"]))\n",
        "  print(sum(classifyWeights[\"InsuranceExpectedP&L\"]))\n",
        "    # logey = x, x^e = y (e = 2.718281828459045235360287471352)\n",
        "    # log10y = x, x^10 = y\n",
        "    # 1인당 분류 가중치를 산정하는 방식에 대한 고민이 필요함\n",
        "\n",
        "    # DB손보는 최근 보유고객 1,000만 명을 돌파 (한국경제, 2022-06-30)\n",
        "    # DB캐피탈은 DB손해보험의 종속기업(연결실체)이며\n",
        "    # 자본금, 시가총액, 자산 규모 및 건전성, 월간 이용고객 수를 측정하는 KPI(MAU), ROE 등 면에서\n",
        "    # 열세한바 해당 차이가 반영될 경우 예측된 1조 781억 원은 과대평가되었음을 확인 가능\n",
        "\n",
        "  decisionTreeProb = decisionTreePruned.predict_proba(X_test)\n",
        "  print(pd.DataFrame(decisionTreeProb).describe())\n",
        "  # sns.violinplot(decisionTreeProb)\n",
        "    # [분류 확률의 분포 출력]"
      ],
      "metadata": {
        "id": "pnVaNeZM_Xt5"
      },
      "execution_count": null,
      "outputs": []
    },
    {
      "cell_type": "code",
      "source": [
        "'''\n",
        "DecisionTreeCustom(split_ratio=0.2, alpha=0.000068, impurity=\"gini\")\n",
        "  # [ccp_alpha 는 정확도를 높이는 전략이므로 정밀도, 재현율, f1 score 등의 지표는 되려 낮아질 수 있다.]\n",
        "  # [ccp_alpha = 0]\n",
        "'''"
      ],
      "metadata": {
        "id": "vA5Z6NcQDzIs"
      },
      "execution_count": null,
      "outputs": []
    },
    {
      "cell_type": "code",
      "source": [
        "DecisionTreeCustom(split_ratio = 0.2, alpha = 0, impurity = \"gini\")"
      ],
      "metadata": {
        "colab": {
          "base_uri": "https://localhost:8080/",
          "height": 772
        },
        "id": "caiv38zWF7vp",
        "outputId": "7b58ec58-1585-4728-9528-afd4556e62f0"
      },
      "execution_count": null,
      "outputs": [
        {
          "output_type": "stream",
          "name": "stdout",
          "text": [
            "[[ 1772  3375]\n",
            " [ 3219 54338]]\n",
            "정확도 : 0.894839244705282\n",
            "정밀도 : 0.3550390703265879\n",
            "재현율 : 0.344278220322518\n",
            "F-Beta 점수 : 0.3510885329571482\n"
          ]
        },
        {
          "output_type": "display_data",
          "data": {
            "text/plain": [
              "<Figure size 432x288 with 1 Axes>"
            ],
            "image/png": "[encoded data removed]"
          },
          "metadata": {
            "needs_background": "light"
          }
        },
        {
          "output_type": "stream",
          "name": "stdout",
          "text": [
            "                FN      FP\n",
            "Capital       -8.0   -10.0\n",
            "Insurance     -9.0   -13.0\n",
            "Prediction  3375.0  3219.0\n",
            "    Capital  Insurance  Prediction\n",
            "FN     -8.0       -9.0      3375.0\n",
            "FP    -10.0      -13.0      3219.0\n",
            "    Capital  Insurance  Prediction  CapitalExpectedP&L  InsuranceExpectedP&L\n",
            "FN     -8.0       -9.0      3375.0            -27000.0              -30375.0\n",
            "FP    -10.0      -13.0      3219.0            -32190.0              -41847.0\n",
            "-59190.0\n",
            "-72222.0\n",
            "                  0             1\n",
            "count  62704.000000  62704.000000\n",
            "mean       0.872810      0.127190\n",
            "std        0.241836      0.241836\n",
            "min        0.000000      0.000000\n",
            "25%        0.878735      0.000000\n",
            "50%        0.979564      0.020436\n",
            "75%        1.000000      0.121265\n",
            "max        1.000000      1.000000\n"
          ]
        }
      ]
    },
    {
      "cell_type": "code",
      "source": [
        "def DecisionTreePlot(split_ratio: float, alpha: float, impurity: object):\n",
        "  np.random.seed(2023)\n",
        "  X_train, X_test, y_train, y_test = train_test_split(X,\n",
        "                                                      y,\n",
        "                                                      stratify = y,\n",
        "                                                      random_state = 2022,\n",
        "                                                      test_size = split_ratio)\n",
        "    # [훈련용 및 검증용 데이터 셋 분할비율 split_ratio로 입력값 설정]\n",
        "  weights = {0:1, 1:3}\n",
        "    # [클래스별 가중치 설정] 다수클래스 0 = 1, 소수클래스 1 = 3으로 입력값 설정\n",
        "  decisionTreePruned = DecisionTreeClassifier(random_state = 2023,\n",
        "                                              max_depth = 30,\n",
        "                                              ccp_alpha = alpha,\n",
        "                                              class_weight = weights,\n",
        "                                              criterion = impurity)\n",
        "  decisionTreePruned.fit(X_train, y_train)\n",
        "  y_pred = decisionTreePruned.predict(X_test)\n",
        "  y_pred = np.array(y_pred)\n",
        "  y_test = np.array(y_test)\n",
        "\n",
        "  TP = 0\n",
        "  FN = 0\n",
        "  FP = 0\n",
        "  TN = 0\n",
        "\n",
        "  for i in range(len(y_pred)):\n",
        "    if y_test[i] == y_pred[i] == 1:\n",
        "      TP += 1\n",
        "    if y_test[i] == 1 and y_pred[i] == 0:\n",
        "      FN += 1\n",
        "    if y_test[i] == 0 and y_pred[i] == 1:\n",
        "      FP += 1\n",
        "    if y_test[i] == 0 and y_pred[i] == 0:\n",
        "      TN += 1\n",
        "\n",
        "  confusionMatrix = np.array([[TP, FN], [FP, TN]]).reshape(2, 2)\n",
        "  print(confusionMatrix)\n",
        "  Precision = TP / (TP + FP)\n",
        "  Recall = TP / (TP + FN)\n",
        "  print(\"정확도 :\", (TP + TN) / (TP + FN + FP + TN))\n",
        "  print(\"정밀도 :\", Precision)\n",
        "  print(\"재현율 :\", Recall)\n",
        "  print(\"F-Beta 점수 :\", ((1+(0.75**2))*Precision*Recall) / ((0.75**2)*Precision + Recall))\n",
        "\n",
        "  # 분류 가중치 테이블\n",
        "  DBCapital = [2735, 23872]\n",
        "  DBInsurance = [6981, 488399]\n",
        "  DBCapital = pd.Series(DBCapital)\n",
        "  DBInsurance = pd.Series(DBInsurance)\n",
        "  DBWeights = pd.DataFrame({\n",
        "      \"Capital\" : DBCapital,\n",
        "      \"Insurance\" : DBInsurance\n",
        "  }).T\n",
        "  DBWeights.columns = [\"FN\", \"FP\"]\n",
        "  DBWeights\n",
        "\n",
        "  # 분류 가중치 단위 조정 : 자연로그 변환\n",
        "  DBWeights_loge = np.log(DBWeights)\n",
        "  classifyWeights = round(DBWeights_loge, 0)\n",
        "  classifyWeights = -(classifyWeights)\n",
        "    # [FN, FP 음수로 치환]\n",
        "  classifyWeights.at[2,:] = confusionMatrix[[0,1], [1,0]]\n",
        "    # [confusionMatrix[[0,1], [1,0]] = Prediction(FN, FP의 개수)\n",
        "  classifyWeights.index = [\"Capital\", \"Insurance\", \"Prediction\"]\n",
        "  print(classifyWeights)\n",
        "\n",
        "  classifyWeights = classifyWeights.transpose()\n",
        "  print(classifyWeights)\n",
        "\n",
        "  classifyWeights[\"CapitalExpectedP&L\"] = classifyWeights[\"Capital\"] * classifyWeights[\"Prediction\"]\n",
        "  classifyWeights[\"InsuranceExpectedP&L\"] = classifyWeights[\"Insurance\"] * classifyWeights[\"Prediction\"]\n",
        "  print(classifyWeights)\n",
        "\n",
        "    # [금융회사의 기대손익(Profit & Loss)]\n",
        "  print(sum(classifyWeights[\"CapitalExpectedP&L\"]))\n",
        "  print(sum(classifyWeights[\"InsuranceExpectedP&L\"]))\n",
        "\n",
        "  # decisionTreeProb = decisionTreePruned.predict_proba(X_test)\n",
        "  # sns.violinplot(decisionTreeProb)\n",
        "    # [분류 확률의 분포 출력]\n",
        "\n",
        "  # 의사결정트리 시각화\n",
        "\n",
        "  DV_names = np.array([\"1\", \"0\"])\n",
        "  IV_names = X.columns.tolist()\n",
        "\n",
        "  plt.figure(figsize = (30, 4))\n",
        "  plot_tree(decisionTreePruned,\n",
        "            class_names = DV_names,\n",
        "            feature_names = IV_names,\n",
        "            filled = True,\n",
        "            max_depth = 3)\n",
        "  plt.title(\"Tuning Decision Tree\")\n",
        "  plt.show()\n",
        "\n",
        "  # dtNode = export_text(decisionTreePruned, feature_names = IV_names)\n",
        "  # print(dtNode)\n",
        "\n",
        "  '''\n",
        "  DV_names = np.array([\"1\", \"0\"])\n",
        "  IV_names = X.columns.tolist()\n",
        "\n",
        "  export_graphviz(decisionTreePruned,\n",
        "                  out_file = \"tree.dot\",\n",
        "                  class_names = DV_names,\n",
        "                    # decisionTreePruned.classes_\n",
        "                  feature_names = IV_names,\n",
        "                    # decisionTreePruned.feature_names_in_\n",
        "                  impurity = True,\n",
        "                  filled = True)\n",
        "\n",
        "  with open(\"tree.dot\") as f:\n",
        "    dot_graph = f.read()\n",
        "  return graphviz.Source(dot_graph)\n",
        "  '''\n",
        "\n",
        "  # 의사결정경계 시각화\n",
        "\n",
        "  '''\n",
        "  for pairindex, pair in enumerate([[0, 1], [0, 2], [0, 3], [1, 2], [1, 3], [2, 3]]):\n",
        "    ax = plt.subplot(2, 3, pairindex + 1)\n",
        "    plt.tight_layout(h_pad = 0.5, w_pad = 0.5, pad = 2.5)\n",
        "    DecisionBoundaryDisplay\n",
        "  '''"
      ],
      "metadata": {
        "id": "QkjU3zVkj5rY"
      },
      "execution_count": null,
      "outputs": []
    },
    {
      "cell_type": "code",
      "source": [
        "DecisionTreePlot(split_ratio = 0.2, alpha = 0, impurity = \"gini\")"
      ],
      "metadata": {
        "id": "pG2Tj2WRW8y9",
        "colab": {
          "base_uri": "https://localhost:8080/",
          "height": 514
        },
        "outputId": "36a7b6d5-2513-4d65-fbca-6ec2c1fb41dd"
      },
      "execution_count": null,
      "outputs": [
        {
          "output_type": "stream",
          "name": "stdout",
          "text": [
            "[[ 2010  3137]\n",
            " [ 3315 54242]]\n",
            "정확도 : 0.8971038530237305\n",
            "정밀도 : 0.37746478873239436\n",
            "재현율 : 0.3905187487857004\n",
            "F-Beta 점수 : 0.3820624529549965\n",
            "                FN      FP\n",
            "Capital       -8.0   -10.0\n",
            "Insurance     -9.0   -13.0\n",
            "Prediction  3137.0  3315.0\n",
            "    Capital  Insurance  Prediction\n",
            "FN     -8.0       -9.0      3137.0\n",
            "FP    -10.0      -13.0      3315.0\n",
            "    Capital  Insurance  Prediction  CapitalExpectedP&L  InsuranceExpectedP&L\n",
            "FN     -8.0       -9.0      3137.0            -25096.0              -28233.0\n",
            "FP    -10.0      -13.0      3315.0            -33150.0              -43095.0\n",
            "-58246.0\n",
            "-71328.0\n"
          ]
        },
        {
          "output_type": "display_data",
          "data": {
            "text/plain": [
              "<Figure size 2160x288 with 1 Axes>"
            ],
            "image/png": "[encoded data removed]"
          },
          "metadata": {
            "needs_background": "light"
          }
        }
      ]
    },
    {
      "cell_type": "markdown",
      "source": [
        "##### (4) 변수 중요도에 따른 21차원으로 축소 후 모델 적합\n",
        "\n",
        "모든 performance measure가 악화하는 문제 발생하여 적절한 대안이 아님을 확인"
      ],
      "metadata": {
        "id": "8B7Zam_mkINS"
      }
    },
    {
      "cell_type": "code",
      "source": [
        "X_reduction_numeric = X.select_dtypes(exclude = [\"uint8\"])\n",
        "X_numeric_list = X_reduction_numeric.columns.tolist()"
      ],
      "metadata": {
        "id": "-BxZ7wVykG8G"
      },
      "execution_count": null,
      "outputs": []
    },
    {
      "cell_type": "code",
      "source": [
        "fourBinsDiscretizer = KBinsDiscretizer(n_bins = 5,\n",
        "                                       encode = \"ordinal\",\n",
        "                                       strategy = \"quantile\")\n",
        "  # 연속형 변수를 4개 구간에 따라 범주형 변수로 변환\n",
        "\n",
        "X_reduction_numeric = pd.DataFrame(\n",
        "    fourBinsDiscretizer.fit_transform(X_reduction_numeric),\n",
        "    columns = X_numeric_list)"
      ],
      "metadata": {
        "colab": {
          "base_uri": "https://localhost:8080/"
        },
        "id": "NuRke-mi0TbI",
        "outputId": "11bd7005-4903-4e0b-9fb6-9734c390feec"
      },
      "execution_count": null,
      "outputs": [
        {
          "output_type": "stream",
          "name": "stderr",
          "text": [
            "/usr/local/lib/python3.8/dist-packages/sklearn/preprocessing/_discretization.py:230: UserWarning: Bins whose width are too small (i.e., <= 1e-8) in feature 7 are removed. Consider decreasing the number of bins.\n",
            "  warnings.warn(\n",
            "/usr/local/lib/python3.8/dist-packages/sklearn/preprocessing/_discretization.py:230: UserWarning: Bins whose width are too small (i.e., <= 1e-8) in feature 8 are removed. Consider decreasing the number of bins.\n",
            "  warnings.warn(\n"
          ]
        }
      ]
    },
    {
      "cell_type": "code",
      "source": [
        "X_reduction_dummy = X.loc[\n",
        "    :, [\"NAME_EDUCATION_TYPE_Higher education\",\n",
        "        \"NAME_EDUCATION_TYPE_Secondary / secondary special\",\n",
        "        \"NAME_HOUSING_TYPE_House / apartment\",\n",
        "        \"ORGANIZATION_TYPE_entity_type\",\n",
        "        \"ORGANIZATION_TYPE_Self-employed\",\n",
        "        \"ORGANIZATION_TYPE_trade_type\",\n",
        "        \"ORGANIZATION_TYPE_Industry_type\",\n",
        "        \"NAME_INCOME_TYPE_Working\",\n",
        "        \"NAME_INCOME_TYPE_Commercial associate\",\n",
        "        \"OCCUPATION_TYPE_Laborers\",\n",
        "        \"OCCUPATION_TYPE_Sales staff\",\n",
        "        \"CODE_GENDER_M\"]]\n",
        "\n",
        "# X.iloc[:, 0:30].info()\n",
        "# X.iloc[:, 31:60].info()\n",
        "# X.iloc[:, 61:90].info()\n",
        "# X.iloc[:, 91:117].info()"
      ],
      "metadata": {
        "id": "jjvrapWelKTU"
      },
      "execution_count": null,
      "outputs": []
    },
    {
      "cell_type": "code",
      "source": [
        "X_reduction = pd.concat(\n",
        "    [X_reduction_numeric, X_reduction_dummy], axis = 1\n",
        ")"
      ],
      "metadata": {
        "id": "j3-4ZhCRqjt2"
      },
      "execution_count": null,
      "outputs": []
    },
    {
      "cell_type": "code",
      "source": [
        "X_reduction = X_reduction.astype(\"category\")"
      ],
      "metadata": {
        "id": "UgKl9YXA2TWU"
      },
      "execution_count": null,
      "outputs": []
    },
    {
      "cell_type": "code",
      "source": [
        "# DecisionTreeReduction() : 21차원으로 축소 후 의사결정 트리 분류기 적합\n",
        "\n",
        "def DecisionTreeReduction(X: pd.DataFrame, y: pd.Series, split_ratio: float, alpha: float, depth: int, impurity: object):\n",
        "  np.random.seed(2023)\n",
        "  X_train, X_test, y_train, y_test = train_test_split(X,\n",
        "                                                      y,\n",
        "                                                      stratify = y,\n",
        "                                                      random_state = 2022,\n",
        "                                                      test_size = split_ratio)\n",
        "    # [훈련용 및 검증용 데이터 셋 분할비율 split_ratio로 입력값 설정]\n",
        "\n",
        "  decisionTreePruned = DecisionTreeClassifier(random_state = 2023,\n",
        "                                              max_depth = depth,\n",
        "                                              ccp_alpha = alpha,\n",
        "                                              criterion = impurity)\n",
        "  decisionTreePruned.fit(X_train, y_train)\n",
        "  y_pred = decisionTreePruned.predict(X_test)\n",
        "  y_pred = np.array(y_pred)\n",
        "  y_test = np.array(y_test)\n",
        "\n",
        "  TP = 0\n",
        "  FN = 0\n",
        "  FP = 0\n",
        "  TN = 0\n",
        "\n",
        "  for i in range(len(y_pred)):\n",
        "    if y_test[i] == y_pred[i] == 1:\n",
        "      TP += 1\n",
        "    if y_test[i] == 1 and y_pred[i] == 0:\n",
        "      FN += 1\n",
        "    if y_test[i] == 0 and y_pred[i] == 1:\n",
        "      FP += 1\n",
        "    if y_test[i] == 0 and y_pred[i] == 0:\n",
        "      TN += 1\n",
        "\n",
        "  confusionMatrix = np.array([[TP, FN], [FP, TN]]).reshape(2, 2)\n",
        "  print(confusionMatrix)\n",
        "  Precision = TP / (TP + FP)\n",
        "  Recall = TP / (TP + FN)\n",
        "  print(\"정확도 :\", (TP + TN) / (TP + FN + FP + TN))\n",
        "  print(\"정밀도 :\", Precision)\n",
        "  print(\"재현율 :\", Recall)\n",
        "  print(\"F-Beta 점수 :\", ((1+(0.75**2))*Precision*Recall) / ((0.75**2)*Precision + Recall))\n",
        "\n",
        "  # 특징 중요도\n",
        "  dt_series = pd.Series(decisionTreePruned.feature_importances_, index = X.columns)\n",
        "  dt_top_21 = dt_series.sort_values(ascending=False)[:21]\n",
        "  plt.title(\"Feature Importance Top 21\")\n",
        "  sns.barplot(x = dt_top_21, y = dt_top_21.index)\n",
        "  plt.show()\n",
        "\n",
        "  # 분류 가중치 테이블\n",
        "  DBCapital = [2735, 23872]\n",
        "  DBInsurance = [6981, 488399]\n",
        "  DBCapital = pd.Series(DBCapital)\n",
        "  DBInsurance = pd.Series(DBInsurance)\n",
        "  DBWeights = pd.DataFrame({\n",
        "      \"Capital\" : DBCapital,\n",
        "      \"Insurance\" : DBInsurance\n",
        "  }).T\n",
        "  DBWeights.columns = [\"FN\", \"FP\"]\n",
        "  DBWeights\n",
        "\n",
        "  # 분류 가중치 단위 조정 : 자연로그 변환\n",
        "  DBWeights_loge = np.log(DBWeights)\n",
        "  classifyWeights = round(DBWeights_loge, 0)\n",
        "  classifyWeights = -(classifyWeights)\n",
        "    # [FN, FP 음수로 치환]\n",
        "  classifyWeights.at[2,:] = confusionMatrix[[0,1], [1,0]]\n",
        "    # [confusionMatrix[[0,1], [1,0]] = Prediction(FN, FP의 개수)\n",
        "  classifyWeights.index = [\"Capital\", \"Insurance\", \"Prediction\"]\n",
        "  print(classifyWeights)\n",
        "\n",
        "  classifyWeights = classifyWeights.transpose()\n",
        "  print(classifyWeights)\n",
        "\n",
        "  classifyWeights[\"CapitalExpectedLoss\"] = classifyWeights[\"Capital\"] * classifyWeights[\"Prediction\"]\n",
        "  classifyWeights[\"InsuranceExpectedLoss\"] = classifyWeights[\"Insurance\"] * classifyWeights[\"Prediction\"]\n",
        "  print(classifyWeights)\n",
        "\n",
        "  print(sum(classifyWeights[\"CapitalExpectedLoss\"]))\n",
        "  print(sum(classifyWeights[\"InsuranceExpectedLoss\"]))\n",
        "\n",
        "  decisionTreeProb = decisionTreePruned.predict_proba(X_test)\n",
        "  print(pd.DataFrame(decisionTreeProb).describe())\n",
        "    # [분류 확률의 분포 출력]"
      ],
      "metadata": {
        "id": "_nMHixNnrqus"
      },
      "execution_count": null,
      "outputs": []
    },
    {
      "cell_type": "code",
      "source": [
        "DecisionTreeReduction(X = X_reduction,\n",
        "                      y = y,\n",
        "                      split_ratio = 0.2,\n",
        "                      alpha = 0,\n",
        "                      depth = 21,\n",
        "                      impurity = \"gini\")"
      ],
      "metadata": {
        "id": "xjJvfoylsn9p",
        "colab": {
          "base_uri": "https://localhost:8080/",
          "height": 772
        },
        "outputId": "a6e57d08-4d07-47d6-881f-ee681b2e0ec3"
      },
      "execution_count": null,
      "outputs": [
        {
          "output_type": "stream",
          "name": "stdout",
          "text": [
            "[[ 1389  3758]\n",
            " [ 4797 52760]]\n",
            "정확도 : 0.8635653227864251\n",
            "정밀도 : 0.22453928225024247\n",
            "재현율 : 0.2698659413250437\n",
            "F-Beta 점수 : 0.2389899448722978\n"
          ]
        },
        {
          "output_type": "display_data",
          "data": {
            "text/plain": [
              "<Figure size 432x288 with 1 Axes>"
            ],
            "image/png": "[encoded data removed]"
          },
          "metadata": {
            "needs_background": "light"
          }
        },
        {
          "output_type": "stream",
          "name": "stdout",
          "text": [
            "                FN      FP\n",
            "Capital       -8.0   -10.0\n",
            "Insurance     -9.0   -13.0\n",
            "Prediction  3758.0  4797.0\n",
            "    Capital  Insurance  Prediction\n",
            "FN     -8.0       -9.0      3758.0\n",
            "FP    -10.0      -13.0      4797.0\n",
            "    Capital  Insurance  Prediction  CapitalExpectedLoss  InsuranceExpectedLoss\n",
            "FN     -8.0       -9.0      3758.0             -30064.0               -33822.0\n",
            "FP    -10.0      -13.0      4797.0             -47970.0               -62361.0\n",
            "-78034.0\n",
            "-96183.0\n",
            "                  0             1\n",
            "count  62704.000000  62704.000000\n",
            "mean       0.861510      0.138490\n",
            "std        0.251873      0.251873\n",
            "min        0.000000      0.000000\n",
            "25%        0.835784      0.000000\n",
            "50%        1.000000      0.000000\n",
            "75%        1.000000      0.164216\n",
            "max        1.000000      1.000000\n"
          ]
        }
      ]
    },
    {
      "cell_type": "code",
      "source": [
        "X_dummy = X.select_dtypes(include = [\"uint8\"])"
      ],
      "metadata": {
        "id": "T-FZVXpk7CMJ"
      },
      "execution_count": null,
      "outputs": []
    },
    {
      "cell_type": "code",
      "source": [
        "X_binsDiscretize = pd.concat(\n",
        "    [X_reduction_numeric, X_dummy], axis = 1)"
      ],
      "metadata": {
        "id": "rT_zV9iY6yfI"
      },
      "execution_count": null,
      "outputs": []
    },
    {
      "cell_type": "code",
      "source": [
        "# DecisionTreeReduction(X = X_binsDiscretize, split_ratio = 0.2, alpha = 0, depth = 23, impurity = \"gini\")\n",
        "  # [연속형 변수를 4분위수에 따라 5구간으로 분리하여 범주형 변수로 변환하는 방식은 성능을 악화시키는 대안]"
      ],
      "metadata": {
        "id": "C4AE8wtc6pVS"
      },
      "execution_count": null,
      "outputs": []
    },
    {
      "cell_type": "markdown",
      "source": [
        "##### (5) SMOTE : K-최근접 이웃 알고리즘 기반의 합성과잉표본추출 기법"
      ],
      "metadata": {
        "id": "OikQZ6eQwYOE"
      }
    },
    {
      "cell_type": "code",
      "source": [
        "smote = SMOTE(random_state = 2022, k_neighbors = 5, sampling_strategy = \"minority\")\n",
        "X_smote, y_smote = smote.fit_resample(X, y)\n",
        "  # [합성표본추출기법 SMOTE 활용] 5:5 클래스 균형"
      ],
      "metadata": {
        "id": "ubFKSJWSV5Is"
      },
      "execution_count": null,
      "outputs": []
    },
    {
      "cell_type": "code",
      "source": [
        "# sampling_strategy로 불균형 비율 설정하기\n",
        "'''\n",
        "smote_2 = SMOTE(random_state = 2022, k_neighbors = 5, sampling_strategy = {1:25736*6})\n",
        "X_smote2, y_smote2 = smote_2.fit_resample(X, y)\n",
        "\n",
        "print(X_smote2.shape, y_smote2.shape)\n",
        "Counter(y_smote2)\n",
        "  # [합성표본추출기법 SMOTE 활용] {1:4}, {1:3}, {1:2} 클래스 균형\n",
        "  # [sampling_strategy = {1:77208}, Counter({1: 77208, 0: 287783})]\n",
        "  # [sampling_strategy = {1:102944}, Counter({1: 102944, 0: 287783})]\n",
        "  # [sampling_strategy = {1:154416}, Counter({1: 154416, 0: 287783})]\n",
        "'''"
      ],
      "metadata": {
        "id": "hVoGyc0wdfaA",
        "colab": {
          "base_uri": "https://localhost:8080/",
          "height": 90
        },
        "outputId": "fc43364d-8dbe-44ed-89ed-f390fac9c913"
      },
      "execution_count": null,
      "outputs": [
        {
          "output_type": "execute_result",
          "data": {
            "text/plain": [
              "'\\nsmote_2 = SMOTE(random_state = 2022, k_neighbors = 5, sampling_strategy = {1:25736*6})\\nX_smote2, y_smote2 = smote_2.fit_resample(X, y)\\n\\nprint(X_smote2.shape, y_smote2.shape)\\nCounter(y_smote2)\\n  # [합성표본추출기법 SMOTE 활용] {1:4}, {1:3}, {1:2} 클래스 균형\\n  # [sampling_strategy = {1:77208}, Counter({1: 77208, 0: 287783})]\\n  # [sampling_strategy = {1:102944}, Counter({1: 102944, 0: 287783})]\\n  # [sampling_strategy = {1:154416}, Counter({1: 154416, 0: 287783})]\\n'"
            ],
            "application/vnd.google.colaboratory.intrinsic+json": {
              "type": "string"
            }
          },
          "metadata": {},
          "execution_count": 54
        }
      ]
    },
    {
      "cell_type": "code",
      "source": [
        "# SMOTE 후 max_depth GridSearch\n",
        "\n",
        "DT_2 = DecisionTreeClassifier(random_state = 2023, criterion = \"gini\")\n",
        "grid_param = {\"max_depth\" : list(range(17, 24, 1))}\n",
        "f_beta = make_scorer(fbeta_score, beta=0.75)\n",
        "  # [beta = 0.75 : 가중치 8/10, 9/13 의 중간값]\n",
        "grid_search = GridSearchCV(DT_2, grid_param, cv=5, scoring = f_beta)\n",
        "grid_search.fit(X_smote, y_smote)\n",
        "print(f\"max_depth 최적 파라미터: {grid_search.best_params_}\")\n",
        "print(f\"최적 max_depth일 때의 F-beta값: {grid_search.best_score_}\")\n",
        "\n",
        "  # max_depth 최적 파라미터: {'max_depth': 18}\n",
        "  # 최적 max_depth일 때의 F-beta값: 0.9195730667598262"
      ],
      "metadata": {
        "colab": {
          "base_uri": "https://localhost:8080/"
        },
        "id": "lBwRxulNV1Ft",
        "outputId": "f7a56edd-1533-40f2-dd7f-88a1a657fa7a"
      },
      "execution_count": null,
      "outputs": [
        {
          "output_type": "stream",
          "name": "stdout",
          "text": [
            "max_depth 최적 파라미터: {'max_depth': 18}\n",
            "최적 max_depth일 때의 F-beta값: 0.9195730667598262\n"
          ]
        }
      ]
    },
    {
      "cell_type": "code",
      "source": [
        "DecisionTreeReduction(X = X_smote.drop([\"CODE_GENDER_M\", \"CODE_GENDER_F\"], axis = 1),\n",
        "                      y = y_smote,\n",
        "                      split_ratio = 0.2,\n",
        "                      alpha = 0,\n",
        "                      depth = 18,\n",
        "                      impurity = \"gini\")"
      ],
      "metadata": {
        "colab": {
          "base_uri": "https://localhost:8080/",
          "height": 786
        },
        "id": "an4G1TOJvB8x",
        "outputId": "bf70d0a0-7f0b-48fd-928f-98213f963dc7"
      },
      "execution_count": null,
      "outputs": [
        {
          "output_type": "stream",
          "name": "stdout",
          "text": [
            "[[51465  6092]\n",
            " [ 3135 54422]]\n",
            "정확도 : 0.9198446757127717\n",
            "정밀도 : 0.9425824175824176\n",
            "재현율 : 0.8941570964435256\n",
            "F-Beta 점수 : 0.9245566116441855\n"
          ]
        },
        {
          "output_type": "display_data",
          "data": {
            "text/plain": [
              "<Figure size 432x288 with 1 Axes>"
            ],
            "image/png": "[encoded data removed]"
          },
          "metadata": {
            "needs_background": "light"
          }
        },
        {
          "output_type": "stream",
          "name": "stdout",
          "text": [
            "                FN      FP\n",
            "Capital       -8.0   -10.0\n",
            "Insurance     -9.0   -13.0\n",
            "Prediction  6092.0  3135.0\n",
            "    Capital  Insurance  Prediction\n",
            "FN     -8.0       -9.0      6092.0\n",
            "FP    -10.0      -13.0      3135.0\n",
            "    Capital  Insurance  Prediction  CapitalExpectedLoss  InsuranceExpectedLoss\n",
            "FN     -8.0       -9.0      6092.0             -48736.0               -54828.0\n",
            "FP    -10.0      -13.0      3135.0             -31350.0               -40755.0\n",
            "-80086.0\n",
            "-95583.0\n",
            "                   0              1\n",
            "count  115114.000000  115114.000000\n",
            "mean        0.497881       0.502119\n",
            "std         0.455323       0.455323\n",
            "min         0.000000       0.000000\n",
            "25%         0.000000       0.042813\n",
            "50%         0.659259       0.340741\n",
            "75%         0.957187       1.000000\n",
            "max         1.000000       1.000000\n"
          ]
        }
      ]
    },
    {
      "cell_type": "code",
      "source": [
        "# SMOTE로 인해 과잉표본추출된 데이터를 제거하기 위한 과정\n",
        "# outer merge를 이용하여 제거하려고 했으나 세션이 다운돼서 진행할 수 없음\n",
        "'''\n",
        "df = pd.merge(X, X_smote, how='outer', indicator = True)\n",
        "df2 = pd.merge(y, y_smote, how='outer', indicator = True)\n",
        "df.query('_merge == \"right_only\"').drop(columns=['_merge'])\n",
        "df2.query('_merge == \"right_only\"').drop(columns=['_merge'])\n",
        "'''"
      ],
      "metadata": {
        "id": "K0zVQMIH_VSb"
      },
      "execution_count": null,
      "outputs": []
    },
    {
      "cell_type": "markdown",
      "source": [
        "##### (6) 다수 클래스에서 표본을 소수 클래스 데이터 수로 추출하여 만든 각 모델을 투표 (일종의 ML 버전 Mini Batch)"
      ],
      "metadata": {
        "id": "rx_wGobNrSWK"
      }
    },
    {
      "cell_type": "code",
      "source": [
        "df_NCB = NCB_MICE_FS_OD.drop([\"SK_ID_CURR\", \"SK_ID_PREV\"], axis = 1)\n",
        "df_TARGET_0 = df_NCB[df_NCB[\"TARGET\"] == 0]\n",
        "df_TARGET_1 = df_NCB[df_NCB[\"TARGET\"] == 1]"
      ],
      "metadata": {
        "id": "C2D7b9tetFtj"
      },
      "execution_count": null,
      "outputs": []
    },
    {
      "cell_type": "code",
      "source": [
        "def get_train_batch(df_majority, df_minority, start, end):\n",
        "    # [다수클래스를 분할한(표본추출한) 12개의 batch를 소수클래스 표본과 df_train으로 병합]\n",
        "  df_train = pd.concat([df_majority[start : end], df_minority], axis = 0, ignore_index = True)\n",
        "\n",
        "  X_train = df_train.drop(\"TARGET\", axis = 1)\n",
        "  y_train = df_train[\"TARGET\"]\n",
        "\n",
        "  return X_train, y_train"
      ],
      "metadata": {
        "id": "zUdPmNBNwjwN"
      },
      "execution_count": null,
      "outputs": []
    },
    {
      "cell_type": "code",
      "source": [
        "start: int = 0\n",
        "end: int = len(df_TARGET_1)\n",
        "\n",
        "while True :\n",
        "  if end <= len(df_TARGET_0) :\n",
        "    get_train_batch(df_TARGET_0, df_TARGET_1, start = start, end = end)\n",
        "\n",
        "    start += len(df_TARGET_1)\n",
        "    end += len(df_TARGET_1)\n",
        "  else :\n",
        "    # end > len(df_TARGET_0)\n",
        "    break"
      ],
      "metadata": {
        "id": "UVLvSlvKt4XK"
      },
      "execution_count": null,
      "outputs": []
    },
    {
      "cell_type": "markdown",
      "source": [
        "##### (7) 비용 기반 데이터 가중치 부여한 의사결정 트리 (cost-sensitive decision tree)\n",
        "\n",
        "* 결정 임계치(threshold)에 부여 :  class probability\n",
        "* 분할 기준(split criteria)에 반영 : log loss = $ \\alpha \\cdot p \\log{p} + (1-p) \\log{1-p} $\n",
        "* 가지치기(pruning)에 반영\n",
        "* https://github.com/david-cortes/costsensitive"
      ],
      "metadata": {
        "id": "5-NqtQ6My7eQ"
      }
    },
    {
      "cell_type": "markdown",
      "metadata": {
        "id": "sByUD-3EmtNj"
      },
      "source": [
        "#### 4-1) Random Forest"
      ]
    },
    {
      "cell_type": "code",
      "source": [
        "def RF(max_leaf: float, estimators: float):\n",
        "  np.random.seed(2023)\n",
        "  X_train, X_test, y_train, y_test = train_test_split(X_smote.drop([\"CODE_GENDER_M\", \"CODE_GENDER_F\"], axis =1),\n",
        "                                                      y_smote,\n",
        "                                                      stratify = y_smote,\n",
        "                                                      random_state = 2022,\n",
        "                                                      test_size = 0.5)\n",
        "\n",
        "  RandomForest = RandomForestClassifier(random_state = 2023,\n",
        "                                        max_depth = 16,\n",
        "                                        criterion = \"gini\",\n",
        "                                        max_features = \"sqrt\",\n",
        "                                        max_leaf_nodes = max_leaf,\n",
        "                                        n_estimators = estimators)\n",
        "  RandomForest.fit(X_train, y_train)\n",
        "  y_pred = RandomForest.predict(X_test)\n",
        "  y_pred = np.array(y_pred)\n",
        "  y_test = np.array(y_test)\n",
        "\n",
        "  TP = 0\n",
        "  FN = 0\n",
        "  FP = 0\n",
        "  TN = 0\n",
        "\n",
        "  for i in range(len(y_pred)):\n",
        "    if y_test[i] == y_pred[i] == 1:\n",
        "      TP += 1\n",
        "    if y_test[i] == 1 and y_pred[i] == 0:\n",
        "      FN += 1\n",
        "    if y_test[i] == 0 and y_pred[i] == 1:\n",
        "      FP += 1\n",
        "    if y_test[i] == 0 and y_pred[i] == 0:\n",
        "      TN += 1\n",
        "\n",
        "  confusionMatrix = np.array([[TP, FN], [FP, TN]]).reshape(2, 2)\n",
        "  print(confusionMatrix)\n",
        "  Precision = TP / (TP + FP)\n",
        "  Recall = TP / (TP + FN)\n",
        "  print(\"정확도 :\", (TP + TN) / (TP + FN + FP + TN))\n",
        "  print(\"정밀도 :\", Precision)\n",
        "  print(\"재현율 :\", Recall)\n",
        "  print(\"F-Beta 점수 :\", ((1+(0.75**2))*Precision*Recall) / ((0.75**2)*Precision + Recall))\n",
        "\n",
        "  # 특징 중요도\n",
        "  dt_series = pd.Series(RandomForest.feature_importances_, index = X_smote.drop([\"CODE_GENDER_M\", \"CODE_GENDER_F\"],axis=1).columns)\n",
        "  dt_top_21 = dt_series.sort_values(ascending=False)[:21]\n",
        "  plt.title(\"Feature Importance Top 21\")\n",
        "  sns.barplot(x = dt_top_21, y = dt_top_21.index)\n",
        "  plt.show()\n",
        "\n",
        "'''\n",
        "  # 분류 가중치 테이블\n",
        "  DBCapital = [2735, 23872]\n",
        "  DBInsurance = [6981, 488399]\n",
        "  DBCapital = pd.Series(DBCapital)\n",
        "  DBInsurance = pd.Series(DBInsurance)\n",
        "  DBWeights = pd.DataFrame({\n",
        "      \"Capital\" : DBCapital,\n",
        "      \"Insurance\" : DBInsurance\n",
        "  }).T\n",
        "  DBWeights.columns = [\"FN\", \"FP\"]\n",
        "  DBWeights\n",
        "\n",
        "  # 분류 가중치 단위 조정 : 자연로그 변환\n",
        "  DBWeights_loge = np.log(DBWeights)\n",
        "  classifyWeights = round(DBWeights_loge, 0)\n",
        "  classifyWeights = -(classifyWeights)\n",
        "    # [FN, FP 음수로 치환]\n",
        "  classifyWeights.at[2,:] = confusionMatrix[[0,1], [1,0]]\n",
        "    # [confusionMatrix[[0,1], [1,0]] = Prediction(FN, FP의 개수)\n",
        "  classifyWeights.index = [\"Capital\", \"Insurance\", \"Prediction\"]\n",
        "  print(classifyWeights)\n",
        "\n",
        "  classifyWeights = classifyWeights.transpose()\n",
        "  print(classifyWeights)\n",
        "\n",
        "  classifyWeights[\"CapitalExpectedLoss\"] = classifyWeights[\"Capital\"] * classifyWeights[\"Prediction\"]\n",
        "  classifyWeights[\"InsuranceExpectedLoss\"] = classifyWeights[\"Insurance\"] * classifyWeights[\"Prediction\"]\n",
        "  print(classifyWeights)\n",
        "\n",
        "  print(sum(classifyWeights[\"CapitalExpectedLoss\"]))\n",
        "  print(sum(classifyWeights[\"InsuranceExpectedLoss\"]))\n",
        "\n",
        "  decisionTreeProb = RandomForest.predict_proba(X_test)\n",
        "  print(pd.DataFrame(decisionTreeProb).describe())\n",
        "    # [분류 확률의 분포 출력]\n",
        "'''"
      ],
      "metadata": {
        "id": "CtA8u1rKQbtD"
      },
      "execution_count": null,
      "outputs": []
    },
    {
      "cell_type": "code",
      "source": [
        "RF2(max_leaf = 16, estimators= 100)"
      ],
      "metadata": {
        "colab": {
          "base_uri": "https://localhost:8080/",
          "height": 786
        },
        "id": "c0i7vvUFbFMN",
        "outputId": "2bc93ba8-ba11-477a-b935-4138a5ba0c8f"
      },
      "execution_count": null,
      "outputs": [
        {
          "output_type": "stream",
          "name": "stdout",
          "text": [
            "[[47202 10355]\n",
            " [ 3230 54327]]\n",
            "정확도 : 0.8819865524610386\n",
            "정밀도 : 0.9359533629441624\n",
            "재현율 : 0.820091387667877\n",
            "F-Beta 점수 : 0.8906541879729042\n"
          ]
        },
        {
          "output_type": "display_data",
          "data": {
            "text/plain": [
              "<Figure size 432x288 with 1 Axes>"
            ],
            "image/png": "[encoded data removed]"
          },
          "metadata": {
            "needs_background": "light"
          }
        },
        {
          "output_type": "stream",
          "name": "stdout",
          "text": [
            "                 FN      FP\n",
            "Capital        -8.0   -10.0\n",
            "Insurance      -9.0   -13.0\n",
            "Prediction  10355.0  3230.0\n",
            "    Capital  Insurance  Prediction\n",
            "FN     -8.0       -9.0     10355.0\n",
            "FP    -10.0      -13.0      3230.0\n",
            "    Capital  Insurance  Prediction  CapitalExpectedLoss  InsuranceExpectedLoss\n",
            "FN     -8.0       -9.0     10355.0             -82840.0               -93195.0\n",
            "FP    -10.0      -13.0      3230.0             -32300.0               -41990.0\n",
            "-115140.0\n",
            "-135185.0\n",
            "                   0              1\n",
            "count  115114.000000  115114.000000\n",
            "mean        0.500004       0.499996\n",
            "std         0.228376       0.228376\n",
            "min         0.108921       0.138834\n",
            "25%         0.287838       0.313553\n",
            "50%         0.554806       0.445194\n",
            "75%         0.686447       0.712162\n",
            "max         0.861166       0.891079\n"
          ]
        }
      ]
    },
    {
      "cell_type": "code",
      "source": [
        "# RandomForest max_leaf_nodes GridSearch\n",
        "# n_estimator = 1000으로 하면 6시간 이상 걸림 (미친)\n",
        "\n",
        "f_beta = make_scorer(fbeta_score, beta=0.75)\n",
        "RF = RandomForestClassifier(random_state = 2022, n_estimators = 1000)\n",
        "grid_param = {\"max_leaf_nodes\": list(range(10, 20, 1))}\n",
        "gs2 = GridSearchCV(RF, grid_param, cv=5, scoring = f_beta)\n",
        "gs2.fit(X_smote.drop([\"CODE_GENDER_M\", \"CODE_GENDER_F\"],axis=1), y_smote)\n",
        "\n",
        "print(f\"max_depth 최적 파라미터: {gs2.best_params_}\")\n",
        "print(f\"최적 max_depth일 때의 F-beta값: {gs2.best_score_}\")"
      ],
      "metadata": {
        "id": "-J3jTuRwQT5Q",
        "colab": {
          "base_uri": "https://localhost:8080/",
          "height": 400
        },
        "outputId": "f8f2b383-f0f8-4eca-e544-5b8113978348"
      },
      "execution_count": null,
      "outputs": [
        {
          "output_type": "error",
          "ename": "KeyboardInterrupt",
          "evalue": "ignored",
          "traceback": [
            "\u001b[0;31m---------------------------------------------------------------------------\u001b[0m",
            "\u001b[0;31mKeyboardInterrupt\u001b[0m                         Traceback (most recent call last)",
            "\u001b[0;32m<ipython-input-19-4befd9d1c875>\u001b[0m in \u001b[0;36m<module>\u001b[0;34m\u001b[0m\n\u001b[1;32m      5\u001b[0m \u001b[0mgrid_param\u001b[0m \u001b[0;34m=\u001b[0m \u001b[0;34m{\u001b[0m\u001b[0;34m\"max_leaf_nodes\"\u001b[0m\u001b[0;34m:\u001b[0m \u001b[0mlist\u001b[0m\u001b[0;34m(\u001b[0m\u001b[0mrange\u001b[0m\u001b[0;34m(\u001b[0m\u001b[0;36m10\u001b[0m\u001b[0;34m,\u001b[0m \u001b[0;36m20\u001b[0m\u001b[0;34m,\u001b[0m \u001b[0;36m1\u001b[0m\u001b[0;34m)\u001b[0m\u001b[0;34m)\u001b[0m\u001b[0;34m}\u001b[0m\u001b[0;34m\u001b[0m\u001b[0;34m\u001b[0m\u001b[0m\n\u001b[1;32m      6\u001b[0m \u001b[0mgs2\u001b[0m \u001b[0;34m=\u001b[0m \u001b[0mGridSearchCV\u001b[0m\u001b[0;34m(\u001b[0m\u001b[0mRF\u001b[0m\u001b[0;34m,\u001b[0m \u001b[0mgrid_param\u001b[0m\u001b[0;34m,\u001b[0m \u001b[0mcv\u001b[0m\u001b[0;34m=\u001b[0m\u001b[0;36m5\u001b[0m\u001b[0;34m,\u001b[0m \u001b[0mscoring\u001b[0m \u001b[0;34m=\u001b[0m \u001b[0mf_beta\u001b[0m\u001b[0;34m)\u001b[0m\u001b[0;34m\u001b[0m\u001b[0;34m\u001b[0m\u001b[0m\n\u001b[0;32m----> 7\u001b[0;31m \u001b[0mgs2\u001b[0m\u001b[0;34m.\u001b[0m\u001b[0mfit\u001b[0m\u001b[0;34m(\u001b[0m\u001b[0mX_smote\u001b[0m\u001b[0;34m.\u001b[0m\u001b[0mdrop\u001b[0m\u001b[0;34m(\u001b[0m\u001b[0;34m[\u001b[0m\u001b[0;34m\"CODE_GENDER_M\"\u001b[0m\u001b[0;34m,\u001b[0m \u001b[0;34m\"CODE_GENDER_F\"\u001b[0m\u001b[0;34m]\u001b[0m\u001b[0;34m,\u001b[0m\u001b[0maxis\u001b[0m\u001b[0;34m=\u001b[0m\u001b[0;36m1\u001b[0m\u001b[0;34m)\u001b[0m\u001b[0;34m,\u001b[0m \u001b[0my_smote\u001b[0m\u001b[0;34m)\u001b[0m\u001b[0;34m\u001b[0m\u001b[0;34m\u001b[0m\u001b[0m\n\u001b[0m\u001b[1;32m      8\u001b[0m \u001b[0;34m\u001b[0m\u001b[0m\n\u001b[1;32m      9\u001b[0m \u001b[0mprint\u001b[0m\u001b[0;34m(\u001b[0m\u001b[0;34mf\"max_depth 최적 파라미터: {grid_search.best_params_}\"\u001b[0m\u001b[0;34m)\u001b[0m\u001b[0;34m\u001b[0m\u001b[0;34m\u001b[0m\u001b[0m\n",
            "\u001b[0;32m/usr/local/lib/python3.8/dist-packages/sklearn/model_selection/_search.py\u001b[0m in \u001b[0;36mfit\u001b[0;34m(self, X, y, groups, **fit_params)\u001b[0m\n\u001b[1;32m    889\u001b[0m                 \u001b[0;32mreturn\u001b[0m \u001b[0mresults\u001b[0m\u001b[0;34m\u001b[0m\u001b[0;34m\u001b[0m\u001b[0m\n\u001b[1;32m    890\u001b[0m \u001b[0;34m\u001b[0m\u001b[0m\n\u001b[0;32m--> 891\u001b[0;31m             \u001b[0mself\u001b[0m\u001b[0;34m.\u001b[0m\u001b[0m_run_search\u001b[0m\u001b[0;34m(\u001b[0m\u001b[0mevaluate_candidates\u001b[0m\u001b[0;34m)\u001b[0m\u001b[0;34m\u001b[0m\u001b[0;34m\u001b[0m\u001b[0m\n\u001b[0m\u001b[1;32m    892\u001b[0m \u001b[0;34m\u001b[0m\u001b[0m\n\u001b[1;32m    893\u001b[0m             \u001b[0;31m# multimetric is determined here because in the case of a callable\u001b[0m\u001b[0;34m\u001b[0m\u001b[0;34m\u001b[0m\u001b[0;34m\u001b[0m\u001b[0m\n",
            "\u001b[0;32m/usr/local/lib/python3.8/dist-packages/sklearn/model_selection/_search.py\u001b[0m in \u001b[0;36m_run_search\u001b[0;34m(self, evaluate_candidates)\u001b[0m\n\u001b[1;32m   1390\u001b[0m     \u001b[0;32mdef\u001b[0m \u001b[0m_run_search\u001b[0m\u001b[0;34m(\u001b[0m\u001b[0mself\u001b[0m\u001b[0;34m,\u001b[0m \u001b[0mevaluate_candidates\u001b[0m\u001b[0;34m)\u001b[0m\u001b[0;34m:\u001b[0m\u001b[0;34m\u001b[0m\u001b[0;34m\u001b[0m\u001b[0m\n\u001b[1;32m   1391\u001b[0m         \u001b[0;34m\"\"\"Search all candidates in param_grid\"\"\"\u001b[0m\u001b[0;34m\u001b[0m\u001b[0;34m\u001b[0m\u001b[0m\n\u001b[0;32m-> 1392\u001b[0;31m         \u001b[0mevaluate_candidates\u001b[0m\u001b[0;34m(\u001b[0m\u001b[0mParameterGrid\u001b[0m\u001b[0;34m(\u001b[0m\u001b[0mself\u001b[0m\u001b[0;34m.\u001b[0m\u001b[0mparam_grid\u001b[0m\u001b[0;34m)\u001b[0m\u001b[0;34m)\u001b[0m\u001b[0;34m\u001b[0m\u001b[0;34m\u001b[0m\u001b[0m\n\u001b[0m\u001b[1;32m   1393\u001b[0m \u001b[0;34m\u001b[0m\u001b[0m\n\u001b[1;32m   1394\u001b[0m \u001b[0;34m\u001b[0m\u001b[0m\n",
            "\u001b[0;32m/usr/local/lib/python3.8/dist-packages/sklearn/model_selection/_search.py\u001b[0m in \u001b[0;36mevaluate_candidates\u001b[0;34m(candidate_params, cv, more_results)\u001b[0m\n\u001b[1;32m    836\u001b[0m                     )\n\u001b[1;32m    837\u001b[0m \u001b[0;34m\u001b[0m\u001b[0m\n\u001b[0;32m--> 838\u001b[0;31m                 out = parallel(\n\u001b[0m\u001b[1;32m    839\u001b[0m                     delayed(_fit_and_score)(\n\u001b[1;32m    840\u001b[0m                         \u001b[0mclone\u001b[0m\u001b[0;34m(\u001b[0m\u001b[0mbase_estimator\u001b[0m\u001b[0;34m)\u001b[0m\u001b[0;34m,\u001b[0m\u001b[0;34m\u001b[0m\u001b[0;34m\u001b[0m\u001b[0m\n",
            "\u001b[0;32m/usr/local/lib/python3.8/dist-packages/joblib/parallel.py\u001b[0m in \u001b[0;36m__call__\u001b[0;34m(self, iterable)\u001b[0m\n\u001b[1;32m   1086\u001b[0m                 \u001b[0mself\u001b[0m\u001b[0;34m.\u001b[0m\u001b[0m_iterating\u001b[0m \u001b[0;34m=\u001b[0m \u001b[0mself\u001b[0m\u001b[0;34m.\u001b[0m\u001b[0m_original_iterator\u001b[0m \u001b[0;32mis\u001b[0m \u001b[0;32mnot\u001b[0m \u001b[0;32mNone\u001b[0m\u001b[0;34m\u001b[0m\u001b[0;34m\u001b[0m\u001b[0m\n\u001b[1;32m   1087\u001b[0m \u001b[0;34m\u001b[0m\u001b[0m\n\u001b[0;32m-> 1088\u001b[0;31m             \u001b[0;32mwhile\u001b[0m \u001b[0mself\u001b[0m\u001b[0;34m.\u001b[0m\u001b[0mdispatch_one_batch\u001b[0m\u001b[0;34m(\u001b[0m\u001b[0miterator\u001b[0m\u001b[0;34m)\u001b[0m\u001b[0;34m:\u001b[0m\u001b[0;34m\u001b[0m\u001b[0;34m\u001b[0m\u001b[0m\n\u001b[0m\u001b[1;32m   1089\u001b[0m                 \u001b[0;32mpass\u001b[0m\u001b[0;34m\u001b[0m\u001b[0;34m\u001b[0m\u001b[0m\n\u001b[1;32m   1090\u001b[0m \u001b[0;34m\u001b[0m\u001b[0m\n",
            "\u001b[0;32m/usr/local/lib/python3.8/dist-packages/joblib/parallel.py\u001b[0m in \u001b[0;36mdispatch_one_batch\u001b[0;34m(self, iterator)\u001b[0m\n\u001b[1;32m    899\u001b[0m                 \u001b[0;32mreturn\u001b[0m \u001b[0;32mFalse\u001b[0m\u001b[0;34m\u001b[0m\u001b[0;34m\u001b[0m\u001b[0m\n\u001b[1;32m    900\u001b[0m             \u001b[0;32melse\u001b[0m\u001b[0;34m:\u001b[0m\u001b[0;34m\u001b[0m\u001b[0;34m\u001b[0m\u001b[0m\n\u001b[0;32m--> 901\u001b[0;31m                 \u001b[0mself\u001b[0m\u001b[0;34m.\u001b[0m\u001b[0m_dispatch\u001b[0m\u001b[0;34m(\u001b[0m\u001b[0mtasks\u001b[0m\u001b[0;34m)\u001b[0m\u001b[0;34m\u001b[0m\u001b[0;34m\u001b[0m\u001b[0m\n\u001b[0m\u001b[1;32m    902\u001b[0m                 \u001b[0;32mreturn\u001b[0m \u001b[0;32mTrue\u001b[0m\u001b[0;34m\u001b[0m\u001b[0;34m\u001b[0m\u001b[0m\n\u001b[1;32m    903\u001b[0m \u001b[0;34m\u001b[0m\u001b[0m\n",
            "\u001b[0;32m/usr/local/lib/python3.8/dist-packages/joblib/parallel.py\u001b[0m in \u001b[0;36m_dispatch\u001b[0;34m(self, batch)\u001b[0m\n\u001b[1;32m    817\u001b[0m         \u001b[0;32mwith\u001b[0m \u001b[0mself\u001b[0m\u001b[0;34m.\u001b[0m\u001b[0m_lock\u001b[0m\u001b[0;34m:\u001b[0m\u001b[0;34m\u001b[0m\u001b[0;34m\u001b[0m\u001b[0m\n\u001b[1;32m    818\u001b[0m             \u001b[0mjob_idx\u001b[0m \u001b[0;34m=\u001b[0m \u001b[0mlen\u001b[0m\u001b[0;34m(\u001b[0m\u001b[0mself\u001b[0m\u001b[0;34m.\u001b[0m\u001b[0m_jobs\u001b[0m\u001b[0;34m)\u001b[0m\u001b[0;34m\u001b[0m\u001b[0;34m\u001b[0m\u001b[0m\n\u001b[0;32m--> 819\u001b[0;31m             \u001b[0mjob\u001b[0m \u001b[0;34m=\u001b[0m \u001b[0mself\u001b[0m\u001b[0;34m.\u001b[0m\u001b[0m_backend\u001b[0m\u001b[0;34m.\u001b[0m\u001b[0mapply_async\u001b[0m\u001b[0;34m(\u001b[0m\u001b[0mbatch\u001b[0m\u001b[0;34m,\u001b[0m \u001b[0mcallback\u001b[0m\u001b[0;34m=\u001b[0m\u001b[0mcb\u001b[0m\u001b[0;34m)\u001b[0m\u001b[0;34m\u001b[0m\u001b[0;34m\u001b[0m\u001b[0m\n\u001b[0m\u001b[1;32m    820\u001b[0m             \u001b[0;31m# A job can complete so quickly than its callback is\u001b[0m\u001b[0;34m\u001b[0m\u001b[0;34m\u001b[0m\u001b[0;34m\u001b[0m\u001b[0m\n\u001b[1;32m    821\u001b[0m             \u001b[0;31m# called before we get here, causing self._jobs to\u001b[0m\u001b[0;34m\u001b[0m\u001b[0;34m\u001b[0m\u001b[0;34m\u001b[0m\u001b[0m\n",
            "\u001b[0;32m/usr/local/lib/python3.8/dist-packages/joblib/_parallel_backends.py\u001b[0m in \u001b[0;36mapply_async\u001b[0;34m(self, func, callback)\u001b[0m\n\u001b[1;32m    206\u001b[0m     \u001b[0;32mdef\u001b[0m \u001b[0mapply_async\u001b[0m\u001b[0;34m(\u001b[0m\u001b[0mself\u001b[0m\u001b[0;34m,\u001b[0m \u001b[0mfunc\u001b[0m\u001b[0;34m,\u001b[0m \u001b[0mcallback\u001b[0m\u001b[0;34m=\u001b[0m\u001b[0;32mNone\u001b[0m\u001b[0;34m)\u001b[0m\u001b[0;34m:\u001b[0m\u001b[0;34m\u001b[0m\u001b[0;34m\u001b[0m\u001b[0m\n\u001b[1;32m    207\u001b[0m         \u001b[0;34m\"\"\"Schedule a func to be run\"\"\"\u001b[0m\u001b[0;34m\u001b[0m\u001b[0;34m\u001b[0m\u001b[0m\n\u001b[0;32m--> 208\u001b[0;31m         \u001b[0mresult\u001b[0m \u001b[0;34m=\u001b[0m \u001b[0mImmediateResult\u001b[0m\u001b[0;34m(\u001b[0m\u001b[0mfunc\u001b[0m\u001b[0;34m)\u001b[0m\u001b[0;34m\u001b[0m\u001b[0;34m\u001b[0m\u001b[0m\n\u001b[0m\u001b[1;32m    209\u001b[0m         \u001b[0;32mif\u001b[0m \u001b[0mcallback\u001b[0m\u001b[0;34m:\u001b[0m\u001b[0;34m\u001b[0m\u001b[0;34m\u001b[0m\u001b[0m\n\u001b[1;32m    210\u001b[0m             \u001b[0mcallback\u001b[0m\u001b[0;34m(\u001b[0m\u001b[0mresult\u001b[0m\u001b[0;34m)\u001b[0m\u001b[0;34m\u001b[0m\u001b[0;34m\u001b[0m\u001b[0m\n",
            "\u001b[0;32m/usr/local/lib/python3.8/dist-packages/joblib/_parallel_backends.py\u001b[0m in \u001b[0;36m__init__\u001b[0;34m(self, batch)\u001b[0m\n\u001b[1;32m    595\u001b[0m         \u001b[0;31m# Don't delay the application, to avoid keeping the input\u001b[0m\u001b[0;34m\u001b[0m\u001b[0;34m\u001b[0m\u001b[0;34m\u001b[0m\u001b[0m\n\u001b[1;32m    596\u001b[0m         \u001b[0;31m# arguments in memory\u001b[0m\u001b[0;34m\u001b[0m\u001b[0;34m\u001b[0m\u001b[0;34m\u001b[0m\u001b[0m\n\u001b[0;32m--> 597\u001b[0;31m         \u001b[0mself\u001b[0m\u001b[0;34m.\u001b[0m\u001b[0mresults\u001b[0m \u001b[0;34m=\u001b[0m \u001b[0mbatch\u001b[0m\u001b[0;34m(\u001b[0m\u001b[0;34m)\u001b[0m\u001b[0;34m\u001b[0m\u001b[0;34m\u001b[0m\u001b[0m\n\u001b[0m\u001b[1;32m    598\u001b[0m \u001b[0;34m\u001b[0m\u001b[0m\n\u001b[1;32m    599\u001b[0m     \u001b[0;32mdef\u001b[0m \u001b[0mget\u001b[0m\u001b[0;34m(\u001b[0m\u001b[0mself\u001b[0m\u001b[0;34m)\u001b[0m\u001b[0;34m:\u001b[0m\u001b[0;34m\u001b[0m\u001b[0;34m\u001b[0m\u001b[0m\n",
            "\u001b[0;32m/usr/local/lib/python3.8/dist-packages/joblib/parallel.py\u001b[0m in \u001b[0;36m__call__\u001b[0;34m(self)\u001b[0m\n\u001b[1;32m    286\u001b[0m         \u001b[0;31m# change the default number of processes to -1\u001b[0m\u001b[0;34m\u001b[0m\u001b[0;34m\u001b[0m\u001b[0;34m\u001b[0m\u001b[0m\n\u001b[1;32m    287\u001b[0m         \u001b[0;32mwith\u001b[0m \u001b[0mparallel_backend\u001b[0m\u001b[0;34m(\u001b[0m\u001b[0mself\u001b[0m\u001b[0;34m.\u001b[0m\u001b[0m_backend\u001b[0m\u001b[0;34m,\u001b[0m \u001b[0mn_jobs\u001b[0m\u001b[0;34m=\u001b[0m\u001b[0mself\u001b[0m\u001b[0;34m.\u001b[0m\u001b[0m_n_jobs\u001b[0m\u001b[0;34m)\u001b[0m\u001b[0;34m:\u001b[0m\u001b[0;34m\u001b[0m\u001b[0;34m\u001b[0m\u001b[0m\n\u001b[0;32m--> 288\u001b[0;31m             return [func(*args, **kwargs)\n\u001b[0m\u001b[1;32m    289\u001b[0m                     for func, args, kwargs in self.items]\n\u001b[1;32m    290\u001b[0m \u001b[0;34m\u001b[0m\u001b[0m\n",
            "\u001b[0;32m/usr/local/lib/python3.8/dist-packages/joblib/parallel.py\u001b[0m in \u001b[0;36m<listcomp>\u001b[0;34m(.0)\u001b[0m\n\u001b[1;32m    286\u001b[0m         \u001b[0;31m# change the default number of processes to -1\u001b[0m\u001b[0;34m\u001b[0m\u001b[0;34m\u001b[0m\u001b[0;34m\u001b[0m\u001b[0m\n\u001b[1;32m    287\u001b[0m         \u001b[0;32mwith\u001b[0m \u001b[0mparallel_backend\u001b[0m\u001b[0;34m(\u001b[0m\u001b[0mself\u001b[0m\u001b[0;34m.\u001b[0m\u001b[0m_backend\u001b[0m\u001b[0;34m,\u001b[0m \u001b[0mn_jobs\u001b[0m\u001b[0;34m=\u001b[0m\u001b[0mself\u001b[0m\u001b[0;34m.\u001b[0m\u001b[0m_n_jobs\u001b[0m\u001b[0;34m)\u001b[0m\u001b[0;34m:\u001b[0m\u001b[0;34m\u001b[0m\u001b[0;34m\u001b[0m\u001b[0m\n\u001b[0;32m--> 288\u001b[0;31m             return [func(*args, **kwargs)\n\u001b[0m\u001b[1;32m    289\u001b[0m                     for func, args, kwargs in self.items]\n\u001b[1;32m    290\u001b[0m \u001b[0;34m\u001b[0m\u001b[0m\n",
            "\u001b[0;32m/usr/local/lib/python3.8/dist-packages/sklearn/utils/fixes.py\u001b[0m in \u001b[0;36m__call__\u001b[0;34m(self, *args, **kwargs)\u001b[0m\n\u001b[1;32m    214\u001b[0m     \u001b[0;32mdef\u001b[0m \u001b[0m__call__\u001b[0m\u001b[0;34m(\u001b[0m\u001b[0mself\u001b[0m\u001b[0;34m,\u001b[0m \u001b[0;34m*\u001b[0m\u001b[0margs\u001b[0m\u001b[0;34m,\u001b[0m \u001b[0;34m**\u001b[0m\u001b[0mkwargs\u001b[0m\u001b[0;34m)\u001b[0m\u001b[0;34m:\u001b[0m\u001b[0;34m\u001b[0m\u001b[0;34m\u001b[0m\u001b[0m\n\u001b[1;32m    215\u001b[0m         \u001b[0;32mwith\u001b[0m \u001b[0mconfig_context\u001b[0m\u001b[0;34m(\u001b[0m\u001b[0;34m**\u001b[0m\u001b[0mself\u001b[0m\u001b[0;34m.\u001b[0m\u001b[0mconfig\u001b[0m\u001b[0;34m)\u001b[0m\u001b[0;34m:\u001b[0m\u001b[0;34m\u001b[0m\u001b[0;34m\u001b[0m\u001b[0m\n\u001b[0;32m--> 216\u001b[0;31m             \u001b[0;32mreturn\u001b[0m \u001b[0mself\u001b[0m\u001b[0;34m.\u001b[0m\u001b[0mfunction\u001b[0m\u001b[0;34m(\u001b[0m\u001b[0;34m*\u001b[0m\u001b[0margs\u001b[0m\u001b[0;34m,\u001b[0m \u001b[0;34m**\u001b[0m\u001b[0mkwargs\u001b[0m\u001b[0;34m)\u001b[0m\u001b[0;34m\u001b[0m\u001b[0;34m\u001b[0m\u001b[0m\n\u001b[0m\u001b[1;32m    217\u001b[0m \u001b[0;34m\u001b[0m\u001b[0m\n\u001b[1;32m    218\u001b[0m \u001b[0;34m\u001b[0m\u001b[0m\n",
            "\u001b[0;32m/usr/local/lib/python3.8/dist-packages/sklearn/model_selection/_validation.py\u001b[0m in \u001b[0;36m_fit_and_score\u001b[0;34m(estimator, X, y, scorer, train, test, verbose, parameters, fit_params, return_train_score, return_parameters, return_n_test_samples, return_times, return_estimator, split_progress, candidate_progress, error_score)\u001b[0m\n\u001b[1;32m    678\u001b[0m             \u001b[0mestimator\u001b[0m\u001b[0;34m.\u001b[0m\u001b[0mfit\u001b[0m\u001b[0;34m(\u001b[0m\u001b[0mX_train\u001b[0m\u001b[0;34m,\u001b[0m \u001b[0;34m**\u001b[0m\u001b[0mfit_params\u001b[0m\u001b[0;34m)\u001b[0m\u001b[0;34m\u001b[0m\u001b[0;34m\u001b[0m\u001b[0m\n\u001b[1;32m    679\u001b[0m         \u001b[0;32melse\u001b[0m\u001b[0;34m:\u001b[0m\u001b[0;34m\u001b[0m\u001b[0;34m\u001b[0m\u001b[0m\n\u001b[0;32m--> 680\u001b[0;31m             \u001b[0mestimator\u001b[0m\u001b[0;34m.\u001b[0m\u001b[0mfit\u001b[0m\u001b[0;34m(\u001b[0m\u001b[0mX_train\u001b[0m\u001b[0;34m,\u001b[0m \u001b[0my_train\u001b[0m\u001b[0;34m,\u001b[0m \u001b[0;34m**\u001b[0m\u001b[0mfit_params\u001b[0m\u001b[0;34m)\u001b[0m\u001b[0;34m\u001b[0m\u001b[0;34m\u001b[0m\u001b[0m\n\u001b[0m\u001b[1;32m    681\u001b[0m \u001b[0;34m\u001b[0m\u001b[0m\n\u001b[1;32m    682\u001b[0m     \u001b[0;32mexcept\u001b[0m \u001b[0mException\u001b[0m\u001b[0;34m:\u001b[0m\u001b[0;34m\u001b[0m\u001b[0;34m\u001b[0m\u001b[0m\n",
            "\u001b[0;32m/usr/local/lib/python3.8/dist-packages/sklearn/ensemble/_forest.py\u001b[0m in \u001b[0;36mfit\u001b[0;34m(self, X, y, sample_weight)\u001b[0m\n\u001b[1;32m    448\u001b[0m             \u001b[0;31m# parallel_backend contexts set at a higher level,\u001b[0m\u001b[0;34m\u001b[0m\u001b[0;34m\u001b[0m\u001b[0;34m\u001b[0m\u001b[0m\n\u001b[1;32m    449\u001b[0m             \u001b[0;31m# since correctness does not rely on using threads.\u001b[0m\u001b[0;34m\u001b[0m\u001b[0;34m\u001b[0m\u001b[0;34m\u001b[0m\u001b[0m\n\u001b[0;32m--> 450\u001b[0;31m             trees = Parallel(\n\u001b[0m\u001b[1;32m    451\u001b[0m                 \u001b[0mn_jobs\u001b[0m\u001b[0;34m=\u001b[0m\u001b[0mself\u001b[0m\u001b[0;34m.\u001b[0m\u001b[0mn_jobs\u001b[0m\u001b[0;34m,\u001b[0m\u001b[0;34m\u001b[0m\u001b[0;34m\u001b[0m\u001b[0m\n\u001b[1;32m    452\u001b[0m                 \u001b[0mverbose\u001b[0m\u001b[0;34m=\u001b[0m\u001b[0mself\u001b[0m\u001b[0;34m.\u001b[0m\u001b[0mverbose\u001b[0m\u001b[0;34m,\u001b[0m\u001b[0;34m\u001b[0m\u001b[0;34m\u001b[0m\u001b[0m\n",
            "\u001b[0;32m/usr/local/lib/python3.8/dist-packages/joblib/parallel.py\u001b[0m in \u001b[0;36m__call__\u001b[0;34m(self, iterable)\u001b[0m\n\u001b[1;32m   1086\u001b[0m                 \u001b[0mself\u001b[0m\u001b[0;34m.\u001b[0m\u001b[0m_iterating\u001b[0m \u001b[0;34m=\u001b[0m \u001b[0mself\u001b[0m\u001b[0;34m.\u001b[0m\u001b[0m_original_iterator\u001b[0m \u001b[0;32mis\u001b[0m \u001b[0;32mnot\u001b[0m \u001b[0;32mNone\u001b[0m\u001b[0;34m\u001b[0m\u001b[0;34m\u001b[0m\u001b[0m\n\u001b[1;32m   1087\u001b[0m \u001b[0;34m\u001b[0m\u001b[0m\n\u001b[0;32m-> 1088\u001b[0;31m             \u001b[0;32mwhile\u001b[0m \u001b[0mself\u001b[0m\u001b[0;34m.\u001b[0m\u001b[0mdispatch_one_batch\u001b[0m\u001b[0;34m(\u001b[0m\u001b[0miterator\u001b[0m\u001b[0;34m)\u001b[0m\u001b[0;34m:\u001b[0m\u001b[0;34m\u001b[0m\u001b[0;34m\u001b[0m\u001b[0m\n\u001b[0m\u001b[1;32m   1089\u001b[0m                 \u001b[0;32mpass\u001b[0m\u001b[0;34m\u001b[0m\u001b[0;34m\u001b[0m\u001b[0m\n\u001b[1;32m   1090\u001b[0m \u001b[0;34m\u001b[0m\u001b[0m\n",
            "\u001b[0;32m/usr/local/lib/python3.8/dist-packages/joblib/parallel.py\u001b[0m in \u001b[0;36mdispatch_one_batch\u001b[0;34m(self, iterator)\u001b[0m\n\u001b[1;32m    899\u001b[0m                 \u001b[0;32mreturn\u001b[0m \u001b[0;32mFalse\u001b[0m\u001b[0;34m\u001b[0m\u001b[0;34m\u001b[0m\u001b[0m\n\u001b[1;32m    900\u001b[0m             \u001b[0;32melse\u001b[0m\u001b[0;34m:\u001b[0m\u001b[0;34m\u001b[0m\u001b[0;34m\u001b[0m\u001b[0m\n\u001b[0;32m--> 901\u001b[0;31m                 \u001b[0mself\u001b[0m\u001b[0;34m.\u001b[0m\u001b[0m_dispatch\u001b[0m\u001b[0;34m(\u001b[0m\u001b[0mtasks\u001b[0m\u001b[0;34m)\u001b[0m\u001b[0;34m\u001b[0m\u001b[0;34m\u001b[0m\u001b[0m\n\u001b[0m\u001b[1;32m    902\u001b[0m                 \u001b[0;32mreturn\u001b[0m \u001b[0;32mTrue\u001b[0m\u001b[0;34m\u001b[0m\u001b[0;34m\u001b[0m\u001b[0m\n\u001b[1;32m    903\u001b[0m \u001b[0;34m\u001b[0m\u001b[0m\n",
            "\u001b[0;32m/usr/local/lib/python3.8/dist-packages/joblib/parallel.py\u001b[0m in \u001b[0;36m_dispatch\u001b[0;34m(self, batch)\u001b[0m\n\u001b[1;32m    817\u001b[0m         \u001b[0;32mwith\u001b[0m \u001b[0mself\u001b[0m\u001b[0;34m.\u001b[0m\u001b[0m_lock\u001b[0m\u001b[0;34m:\u001b[0m\u001b[0;34m\u001b[0m\u001b[0;34m\u001b[0m\u001b[0m\n\u001b[1;32m    818\u001b[0m             \u001b[0mjob_idx\u001b[0m \u001b[0;34m=\u001b[0m \u001b[0mlen\u001b[0m\u001b[0;34m(\u001b[0m\u001b[0mself\u001b[0m\u001b[0;34m.\u001b[0m\u001b[0m_jobs\u001b[0m\u001b[0;34m)\u001b[0m\u001b[0;34m\u001b[0m\u001b[0;34m\u001b[0m\u001b[0m\n\u001b[0;32m--> 819\u001b[0;31m             \u001b[0mjob\u001b[0m \u001b[0;34m=\u001b[0m \u001b[0mself\u001b[0m\u001b[0;34m.\u001b[0m\u001b[0m_backend\u001b[0m\u001b[0;34m.\u001b[0m\u001b[0mapply_async\u001b[0m\u001b[0;34m(\u001b[0m\u001b[0mbatch\u001b[0m\u001b[0;34m,\u001b[0m \u001b[0mcallback\u001b[0m\u001b[0;34m=\u001b[0m\u001b[0mcb\u001b[0m\u001b[0;34m)\u001b[0m\u001b[0;34m\u001b[0m\u001b[0;34m\u001b[0m\u001b[0m\n\u001b[0m\u001b[1;32m    820\u001b[0m             \u001b[0;31m# A job can complete so quickly than its callback is\u001b[0m\u001b[0;34m\u001b[0m\u001b[0;34m\u001b[0m\u001b[0;34m\u001b[0m\u001b[0m\n\u001b[1;32m    821\u001b[0m             \u001b[0;31m# called before we get here, causing self._jobs to\u001b[0m\u001b[0;34m\u001b[0m\u001b[0;34m\u001b[0m\u001b[0;34m\u001b[0m\u001b[0m\n",
            "\u001b[0;32m/usr/local/lib/python3.8/dist-packages/joblib/_parallel_backends.py\u001b[0m in \u001b[0;36mapply_async\u001b[0;34m(self, func, callback)\u001b[0m\n\u001b[1;32m    206\u001b[0m     \u001b[0;32mdef\u001b[0m \u001b[0mapply_async\u001b[0m\u001b[0;34m(\u001b[0m\u001b[0mself\u001b[0m\u001b[0;34m,\u001b[0m \u001b[0mfunc\u001b[0m\u001b[0;34m,\u001b[0m \u001b[0mcallback\u001b[0m\u001b[0;34m=\u001b[0m\u001b[0;32mNone\u001b[0m\u001b[0;34m)\u001b[0m\u001b[0;34m:\u001b[0m\u001b[0;34m\u001b[0m\u001b[0;34m\u001b[0m\u001b[0m\n\u001b[1;32m    207\u001b[0m         \u001b[0;34m\"\"\"Schedule a func to be run\"\"\"\u001b[0m\u001b[0;34m\u001b[0m\u001b[0;34m\u001b[0m\u001b[0m\n\u001b[0;32m--> 208\u001b[0;31m         \u001b[0mresult\u001b[0m \u001b[0;34m=\u001b[0m \u001b[0mImmediateResult\u001b[0m\u001b[0;34m(\u001b[0m\u001b[0mfunc\u001b[0m\u001b[0;34m)\u001b[0m\u001b[0;34m\u001b[0m\u001b[0;34m\u001b[0m\u001b[0m\n\u001b[0m\u001b[1;32m    209\u001b[0m         \u001b[0;32mif\u001b[0m \u001b[0mcallback\u001b[0m\u001b[0;34m:\u001b[0m\u001b[0;34m\u001b[0m\u001b[0;34m\u001b[0m\u001b[0m\n\u001b[1;32m    210\u001b[0m             \u001b[0mcallback\u001b[0m\u001b[0;34m(\u001b[0m\u001b[0mresult\u001b[0m\u001b[0;34m)\u001b[0m\u001b[0;34m\u001b[0m\u001b[0;34m\u001b[0m\u001b[0m\n",
            "\u001b[0;32m/usr/local/lib/python3.8/dist-packages/joblib/_parallel_backends.py\u001b[0m in \u001b[0;36m__init__\u001b[0;34m(self, batch)\u001b[0m\n\u001b[1;32m    595\u001b[0m         \u001b[0;31m# Don't delay the application, to avoid keeping the input\u001b[0m\u001b[0;34m\u001b[0m\u001b[0;34m\u001b[0m\u001b[0;34m\u001b[0m\u001b[0m\n\u001b[1;32m    596\u001b[0m         \u001b[0;31m# arguments in memory\u001b[0m\u001b[0;34m\u001b[0m\u001b[0;34m\u001b[0m\u001b[0;34m\u001b[0m\u001b[0m\n\u001b[0;32m--> 597\u001b[0;31m         \u001b[0mself\u001b[0m\u001b[0;34m.\u001b[0m\u001b[0mresults\u001b[0m \u001b[0;34m=\u001b[0m \u001b[0mbatch\u001b[0m\u001b[0;34m(\u001b[0m\u001b[0;34m)\u001b[0m\u001b[0;34m\u001b[0m\u001b[0;34m\u001b[0m\u001b[0m\n\u001b[0m\u001b[1;32m    598\u001b[0m \u001b[0;34m\u001b[0m\u001b[0m\n\u001b[1;32m    599\u001b[0m     \u001b[0;32mdef\u001b[0m \u001b[0mget\u001b[0m\u001b[0;34m(\u001b[0m\u001b[0mself\u001b[0m\u001b[0;34m)\u001b[0m\u001b[0;34m:\u001b[0m\u001b[0;34m\u001b[0m\u001b[0;34m\u001b[0m\u001b[0m\n",
            "\u001b[0;32m/usr/local/lib/python3.8/dist-packages/joblib/parallel.py\u001b[0m in \u001b[0;36m__call__\u001b[0;34m(self)\u001b[0m\n\u001b[1;32m    286\u001b[0m         \u001b[0;31m# change the default number of processes to -1\u001b[0m\u001b[0;34m\u001b[0m\u001b[0;34m\u001b[0m\u001b[0;34m\u001b[0m\u001b[0m\n\u001b[1;32m    287\u001b[0m         \u001b[0;32mwith\u001b[0m \u001b[0mparallel_backend\u001b[0m\u001b[0;34m(\u001b[0m\u001b[0mself\u001b[0m\u001b[0;34m.\u001b[0m\u001b[0m_backend\u001b[0m\u001b[0;34m,\u001b[0m \u001b[0mn_jobs\u001b[0m\u001b[0;34m=\u001b[0m\u001b[0mself\u001b[0m\u001b[0;34m.\u001b[0m\u001b[0m_n_jobs\u001b[0m\u001b[0;34m)\u001b[0m\u001b[0;34m:\u001b[0m\u001b[0;34m\u001b[0m\u001b[0;34m\u001b[0m\u001b[0m\n\u001b[0;32m--> 288\u001b[0;31m             return [func(*args, **kwargs)\n\u001b[0m\u001b[1;32m    289\u001b[0m                     for func, args, kwargs in self.items]\n\u001b[1;32m    290\u001b[0m \u001b[0;34m\u001b[0m\u001b[0m\n",
            "\u001b[0;32m/usr/local/lib/python3.8/dist-packages/joblib/parallel.py\u001b[0m in \u001b[0;36m<listcomp>\u001b[0;34m(.0)\u001b[0m\n\u001b[1;32m    286\u001b[0m         \u001b[0;31m# change the default number of processes to -1\u001b[0m\u001b[0;34m\u001b[0m\u001b[0;34m\u001b[0m\u001b[0;34m\u001b[0m\u001b[0m\n\u001b[1;32m    287\u001b[0m         \u001b[0;32mwith\u001b[0m \u001b[0mparallel_backend\u001b[0m\u001b[0;34m(\u001b[0m\u001b[0mself\u001b[0m\u001b[0;34m.\u001b[0m\u001b[0m_backend\u001b[0m\u001b[0;34m,\u001b[0m \u001b[0mn_jobs\u001b[0m\u001b[0;34m=\u001b[0m\u001b[0mself\u001b[0m\u001b[0;34m.\u001b[0m\u001b[0m_n_jobs\u001b[0m\u001b[0;34m)\u001b[0m\u001b[0;34m:\u001b[0m\u001b[0;34m\u001b[0m\u001b[0;34m\u001b[0m\u001b[0m\n\u001b[0;32m--> 288\u001b[0;31m             return [func(*args, **kwargs)\n\u001b[0m\u001b[1;32m    289\u001b[0m                     for func, args, kwargs in self.items]\n\u001b[1;32m    290\u001b[0m \u001b[0;34m\u001b[0m\u001b[0m\n",
            "\u001b[0;32m/usr/local/lib/python3.8/dist-packages/sklearn/utils/fixes.py\u001b[0m in \u001b[0;36m__call__\u001b[0;34m(self, *args, **kwargs)\u001b[0m\n\u001b[1;32m    214\u001b[0m     \u001b[0;32mdef\u001b[0m \u001b[0m__call__\u001b[0m\u001b[0;34m(\u001b[0m\u001b[0mself\u001b[0m\u001b[0;34m,\u001b[0m \u001b[0;34m*\u001b[0m\u001b[0margs\u001b[0m\u001b[0;34m,\u001b[0m \u001b[0;34m**\u001b[0m\u001b[0mkwargs\u001b[0m\u001b[0;34m)\u001b[0m\u001b[0;34m:\u001b[0m\u001b[0;34m\u001b[0m\u001b[0;34m\u001b[0m\u001b[0m\n\u001b[1;32m    215\u001b[0m         \u001b[0;32mwith\u001b[0m \u001b[0mconfig_context\u001b[0m\u001b[0;34m(\u001b[0m\u001b[0;34m**\u001b[0m\u001b[0mself\u001b[0m\u001b[0;34m.\u001b[0m\u001b[0mconfig\u001b[0m\u001b[0;34m)\u001b[0m\u001b[0;34m:\u001b[0m\u001b[0;34m\u001b[0m\u001b[0;34m\u001b[0m\u001b[0m\n\u001b[0;32m--> 216\u001b[0;31m             \u001b[0;32mreturn\u001b[0m \u001b[0mself\u001b[0m\u001b[0;34m.\u001b[0m\u001b[0mfunction\u001b[0m\u001b[0;34m(\u001b[0m\u001b[0;34m*\u001b[0m\u001b[0margs\u001b[0m\u001b[0;34m,\u001b[0m \u001b[0;34m**\u001b[0m\u001b[0mkwargs\u001b[0m\u001b[0;34m)\u001b[0m\u001b[0;34m\u001b[0m\u001b[0;34m\u001b[0m\u001b[0m\n\u001b[0m\u001b[1;32m    217\u001b[0m \u001b[0;34m\u001b[0m\u001b[0m\n\u001b[1;32m    218\u001b[0m \u001b[0;34m\u001b[0m\u001b[0m\n",
            "\u001b[0;32m/usr/local/lib/python3.8/dist-packages/sklearn/ensemble/_forest.py\u001b[0m in \u001b[0;36m_parallel_build_trees\u001b[0;34m(tree, forest, X, y, sample_weight, tree_idx, n_trees, verbose, class_weight, n_samples_bootstrap)\u001b[0m\n\u001b[1;32m    183\u001b[0m             \u001b[0mcurr_sample_weight\u001b[0m \u001b[0;34m*=\u001b[0m \u001b[0mcompute_sample_weight\u001b[0m\u001b[0;34m(\u001b[0m\u001b[0;34m\"balanced\"\u001b[0m\u001b[0;34m,\u001b[0m \u001b[0my\u001b[0m\u001b[0;34m,\u001b[0m \u001b[0mindices\u001b[0m\u001b[0;34m=\u001b[0m\u001b[0mindices\u001b[0m\u001b[0;34m)\u001b[0m\u001b[0;34m\u001b[0m\u001b[0;34m\u001b[0m\u001b[0m\n\u001b[1;32m    184\u001b[0m \u001b[0;34m\u001b[0m\u001b[0m\n\u001b[0;32m--> 185\u001b[0;31m         \u001b[0mtree\u001b[0m\u001b[0;34m.\u001b[0m\u001b[0mfit\u001b[0m\u001b[0;34m(\u001b[0m\u001b[0mX\u001b[0m\u001b[0;34m,\u001b[0m \u001b[0my\u001b[0m\u001b[0;34m,\u001b[0m \u001b[0msample_weight\u001b[0m\u001b[0;34m=\u001b[0m\u001b[0mcurr_sample_weight\u001b[0m\u001b[0;34m,\u001b[0m \u001b[0mcheck_input\u001b[0m\u001b[0;34m=\u001b[0m\u001b[0;32mFalse\u001b[0m\u001b[0;34m)\u001b[0m\u001b[0;34m\u001b[0m\u001b[0;34m\u001b[0m\u001b[0m\n\u001b[0m\u001b[1;32m    186\u001b[0m     \u001b[0;32melse\u001b[0m\u001b[0;34m:\u001b[0m\u001b[0;34m\u001b[0m\u001b[0;34m\u001b[0m\u001b[0m\n\u001b[1;32m    187\u001b[0m         \u001b[0mtree\u001b[0m\u001b[0;34m.\u001b[0m\u001b[0mfit\u001b[0m\u001b[0;34m(\u001b[0m\u001b[0mX\u001b[0m\u001b[0;34m,\u001b[0m \u001b[0my\u001b[0m\u001b[0;34m,\u001b[0m \u001b[0msample_weight\u001b[0m\u001b[0;34m=\u001b[0m\u001b[0msample_weight\u001b[0m\u001b[0;34m,\u001b[0m \u001b[0mcheck_input\u001b[0m\u001b[0;34m=\u001b[0m\u001b[0;32mFalse\u001b[0m\u001b[0;34m)\u001b[0m\u001b[0;34m\u001b[0m\u001b[0;34m\u001b[0m\u001b[0m\n",
            "\u001b[0;32m/usr/local/lib/python3.8/dist-packages/sklearn/tree/_classes.py\u001b[0m in \u001b[0;36mfit\u001b[0;34m(self, X, y, sample_weight, check_input, X_idx_sorted)\u001b[0m\n\u001b[1;32m    935\u001b[0m         \"\"\"\n\u001b[1;32m    936\u001b[0m \u001b[0;34m\u001b[0m\u001b[0m\n\u001b[0;32m--> 937\u001b[0;31m         super().fit(\n\u001b[0m\u001b[1;32m    938\u001b[0m             \u001b[0mX\u001b[0m\u001b[0;34m,\u001b[0m\u001b[0;34m\u001b[0m\u001b[0;34m\u001b[0m\u001b[0m\n\u001b[1;32m    939\u001b[0m             \u001b[0my\u001b[0m\u001b[0;34m,\u001b[0m\u001b[0;34m\u001b[0m\u001b[0;34m\u001b[0m\u001b[0m\n",
            "\u001b[0;32m/usr/local/lib/python3.8/dist-packages/sklearn/tree/_classes.py\u001b[0m in \u001b[0;36mfit\u001b[0;34m(self, X, y, sample_weight, check_input, X_idx_sorted)\u001b[0m\n\u001b[1;32m    418\u001b[0m             )\n\u001b[1;32m    419\u001b[0m \u001b[0;34m\u001b[0m\u001b[0m\n\u001b[0;32m--> 420\u001b[0;31m         \u001b[0mbuilder\u001b[0m\u001b[0;34m.\u001b[0m\u001b[0mbuild\u001b[0m\u001b[0;34m(\u001b[0m\u001b[0mself\u001b[0m\u001b[0;34m.\u001b[0m\u001b[0mtree_\u001b[0m\u001b[0;34m,\u001b[0m \u001b[0mX\u001b[0m\u001b[0;34m,\u001b[0m \u001b[0my\u001b[0m\u001b[0;34m,\u001b[0m \u001b[0msample_weight\u001b[0m\u001b[0;34m)\u001b[0m\u001b[0;34m\u001b[0m\u001b[0;34m\u001b[0m\u001b[0m\n\u001b[0m\u001b[1;32m    421\u001b[0m \u001b[0;34m\u001b[0m\u001b[0m\n\u001b[1;32m    422\u001b[0m         \u001b[0;32mif\u001b[0m \u001b[0mself\u001b[0m\u001b[0;34m.\u001b[0m\u001b[0mn_outputs_\u001b[0m \u001b[0;34m==\u001b[0m \u001b[0;36m1\u001b[0m \u001b[0;32mand\u001b[0m \u001b[0mis_classifier\u001b[0m\u001b[0;34m(\u001b[0m\u001b[0mself\u001b[0m\u001b[0;34m)\u001b[0m\u001b[0;34m:\u001b[0m\u001b[0;34m\u001b[0m\u001b[0;34m\u001b[0m\u001b[0m\n",
            "\u001b[0;31mKeyboardInterrupt\u001b[0m: "
          ]
        }
      ]
    },
    {
      "cell_type": "code",
      "source": [
        "X_train, X_test, y_train, y_test = train_test_split(X_smote.drop([\"CODE_GENDER_M\", \"CODE_GENDER_F\"], axis =1),\n",
        "                                                    y_smote,\n",
        "                                                    stratify = y_smote,\n",
        "                                                    random_state = 2022,\n",
        "                                                    test_size = 0.5)"
      ],
      "metadata": {
        "id": "Ca8aswnHO9CY"
      },
      "execution_count": null,
      "outputs": []
    },
    {
      "cell_type": "code",
      "source": [
        "# max_depth = 16, split = 0.5\n",
        "\n",
        "f_beta = make_scorer(fbeta_score, beta=0.75)\n",
        "RF = RandomForestClassifier(random_state = 2022, max_depth = 16)\n",
        "grid_param = {\"max_leaf_nodes\": list(range(10, 20, 1))}\n",
        "gs2 = GridSearchCV(RF, grid_param, cv=5, scoring = f_beta)\n",
        "gs2.fit(X_train, y_train)\n",
        "\n",
        "print(f\"max_depth 최적 파라미터: {gs2.best_params_}\")\n",
        "print(f\"최적 max_depth일 때의 F-beta값: {gs2.best_score_}\")"
      ],
      "metadata": {
        "id": "w8jjiBVeI1wO",
        "colab": {
          "base_uri": "https://localhost:8080/"
        },
        "outputId": "f1d27da0-8cd2-427c-e201-23ce24b63fbe"
      },
      "execution_count": null,
      "outputs": [
        {
          "output_type": "stream",
          "name": "stdout",
          "text": [
            "max_depth 최적 파라미터: {'max_leaf_nodes': 19}\n",
            "최적 max_depth일 때의 F-beta값: 0.8992027995716245\n"
          ]
        }
      ]
    },
    {
      "cell_type": "markdown",
      "source": [
        "#### 4-2) Light GBM\n",
        "* 파라미터 튜닝 : https://lightgbm.readthedocs.io/en/latest/Parameters-Tuning.html\n",
        "\n",
        "  https://smecsm.tistory.com/133\n",
        "\n",
        "* 과적합 조정\n",
        "  * learning_rate(boosting을 반복할 때 업데이트되는 학습률 값)는 작게, n_estimators는 크게 하는 것이 바람직하다.\n",
        "  * max_depth 줄이기\n",
        "  * num_leaves 조정\n",
        "      ![image.png](data:image/png;base64,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)"
      ],
      "metadata": {
        "id": "oR50XZ82_Z9y"
      }
    },
    {
      "cell_type": "code",
      "source": [
        "# LightGBM 성능평가 함수\n",
        "\n",
        "def lgbm(split_ratio: float, leaves: float, min_leaf: float, app: str, boost: str):\n",
        "  X_train, X_test, y_train, y_test = train_test_split(X_smote,\n",
        "                                                      y_smote,\n",
        "                                                      stratify = y_smote,\n",
        "                                                      test_size = split_ratio,\n",
        "                                                      random_state = 2022)\n",
        "\n",
        "  LGBM = LGBMClassifier(max_depth = 21,\n",
        "                        num_leaves = leaves,\n",
        "                          # [전체 트리의 leave 수 ; default 31]\n",
        "                          # [보통 2^(max_depth) = 2097152 보다 작아야 오버피팅을 막을 수 있다]\n",
        "                        min_data_in_leaf = min_leaf,\n",
        "                          # [Leaf가 가지고 있는 최소한의 레코드 수 ; default 20]\n",
        "                          # [In practice, setting it to hundreds or thousands is enough for a large dataset.]\n",
        "                        application = app,\n",
        "                          # ['regression', 'binary', 'muliclass' ; defalut 'regression']\n",
        "                        boosting = boost\n",
        "                          # [boosting type : 'gbdt'(Gradient Boosting Decision Tree), 'dart'(Dropouts meet Multiple Additive Regression Trees), 'rf'(Random Forest) ; default gbdt]\n",
        "                        )\n",
        "  LGBM.fit(X_train, y_train)\n",
        "  y_pred = LGBM.predict(X_test)\n",
        "  y_pred = np.array(y_pred)\n",
        "  y_test = np.array(y_test)\n",
        "\n",
        "  TP = 0\n",
        "  FN = 0\n",
        "  FP = 0\n",
        "  TN = 0\n",
        "\n",
        "  for i in range(len(y_pred)):\n",
        "    if y_test[i] == y_pred[i] == 1 :\n",
        "      TP += 1\n",
        "    if y_test[i] == 1 and y_pred[i] == 0 :\n",
        "      FN += 1\n",
        "    if y_test[i] == 0 and y_pred[i] == 1 :\n",
        "      FP += 1\n",
        "    if y_test[i] == y_pred[i] == 0 :\n",
        "      TN += 1\n",
        "\n",
        "  confusionMatrix = np.array([[TP, FN], [FP, TN]]).reshape(2,2)\n",
        "  print(confusionMatrix)\n",
        "  Precision = TP / (TP + FP)\n",
        "  Recall = TP / (TP + FN)\n",
        "  print(\"정확도 :\", (TP + TN) / (TP + FN + FP + TN))\n",
        "  print(\"정밀도 :\", Precision)\n",
        "  print(\"재현율 :\", Recall)\n",
        "  print(\"F-Beta 점수 :\", ((1+(0.75**2))*Precision*Recall) / ((0.75**2)*Precision + Recall))\n",
        "\n",
        "  # 특징 중요도\n",
        "  plot_importance(LGBM, max_num_features = 10)\n",
        "  plt.show\n",
        "\n",
        "  # 분류 가중치 테이블\n",
        "  DBCapital = [2735, 23872]\n",
        "  DBInsurance = [6981, 488399]\n",
        "  DBCapital = pd.Series(DBCapital)\n",
        "  DBInsurance = pd.Series(DBInsurance)\n",
        "  DBWeights = pd.DataFrame({\n",
        "      \"Capital\" : DBCapital,\n",
        "      \"Insurance\" : DBInsurance\n",
        "  }).T\n",
        "  DBWeights.columns = [\"FN\", \"FP\"]\n",
        "  DBWeights\n",
        "\n",
        "  # 분류 가중치 단위 조정 : 자연로그 변환\n",
        "  DBWeights_loge = np.log(DBWeights)\n",
        "  classifyWeights = round(DBWeights_loge, 0)\n",
        "  classifyWeights = -(classifyWeights)\n",
        "    # [FN, FP 음수로 치환]\n",
        "  classifyWeights.at[2,:] = confusionMatrix[[0,1], [1,0]]\n",
        "    # [confusionMatrix[[0,1], [1,0]] = Prediction(FN, FP의 개수)\n",
        "  classifyWeights.index = [\"Capital\", \"Insurance\", \"Prediction\"]\n",
        "  print(classifyWeights)\n",
        "\n",
        "  classifyWeights = classifyWeights.transpose()\n",
        "  print(classifyWeights)\n",
        "\n",
        "  classifyWeights[\"CapitalExpectedLoss\"] = classifyWeights[\"Capital\"] * classifyWeights[\"Prediction\"]\n",
        "  classifyWeights[\"InsuranceExpectedLoss\"] = classifyWeights[\"Insurance\"] * classifyWeights[\"Prediction\"]\n",
        "  print(classifyWeights)\n",
        "\n",
        "  print(sum(classifyWeights[\"CapitalExpectedLoss\"]))\n",
        "  print(sum(classifyWeights[\"InsuranceExpectedLoss\"]))\n",
        "\n",
        "  decisionTreeProb = LGBM.predict_proba(X_test)\n",
        "  print(pd.DataFrame(decisionTreeProb).describe())\n",
        "    # [분류 확률의 분포 출력]"
      ],
      "metadata": {
        "id": "1VDG0e7z9eh8"
      },
      "execution_count": null,
      "outputs": []
    },
    {
      "cell_type": "code",
      "source": [
        "lgbm(split_ratio = 0.2, leaves = 10, min_leaf = 20, app = 'regression', boost = 'gbdt')"
      ],
      "metadata": {
        "colab": {
          "base_uri": "https://localhost:8080/",
          "height": 800
        },
        "id": "uaIhIsyt-2bT",
        "outputId": "ac4b430c-c98e-4c8a-a0d7-2664f3ede52c"
      },
      "execution_count": null,
      "outputs": [
        {
          "output_type": "stream",
          "name": "stdout",
          "text": [
            "[[50582  6975]\n",
            " [  189 57368]]\n",
            "정확도 : 0.9377660406206022\n",
            "정밀도 : 0.9962774024541569\n",
            "재현율 : 0.8788157826154942\n",
            "F-Beta 점수 : 0.9505400462585382\n",
            "                FN     FP\n",
            "Capital       -8.0  -10.0\n",
            "Insurance     -9.0  -13.0\n",
            "Prediction  6975.0  189.0\n",
            "    Capital  Insurance  Prediction\n",
            "FN     -8.0       -9.0      6975.0\n",
            "FP    -10.0      -13.0       189.0\n",
            "    Capital  Insurance  Prediction  CapitalExpectedLoss  InsuranceExpectedLoss\n",
            "FN     -8.0       -9.0      6975.0             -55800.0               -62775.0\n",
            "FP    -10.0      -13.0       189.0              -1890.0                -2457.0\n",
            "-57690.0\n",
            "-65232.0\n",
            "                   0              1\n",
            "count  115114.000000  115114.000000\n",
            "mean        0.499698       0.500302\n",
            "std         0.416454       0.416454\n",
            "min         0.000377       0.022102\n",
            "25%         0.011958       0.106901\n",
            "50%         0.755975       0.244025\n",
            "75%         0.893099       0.988042\n",
            "max         0.977898       0.999623\n"
          ]
        },
        {
          "output_type": "display_data",
          "data": {
            "text/plain": [
              "<Figure size 432x288 with 1 Axes>"
            ],
            "image/png": "[encoded data removed]"
          },
          "metadata": {
            "needs_background": "light"
          }
        }
      ]
    },
    {
      "cell_type": "code",
      "source": [
        "for g in range(10, 31, 5):\n",
        "  print(f\"num_leaves: {g}\")\n",
        "  print(lgbm(split_ratio = 0.2, leaves = g, min_leaf = 20, app='regression', boost = 'gbdt'))"
      ],
      "metadata": {
        "colab": {
          "base_uri": "https://localhost:8080/"
        },
        "id": "XFsXRVoJbFzV",
        "outputId": "7e885529-1345-4890-9aee-2c803fb306f2"
      },
      "execution_count": null,
      "outputs": [
        {
          "output_type": "stream",
          "name": "stdout",
          "text": [
            "num_leaves: 10\n",
            "[[50582  6975]\n",
            " [  189 57368]]\n",
            "정확도 : 0.9377660406206022\n",
            "정밀도 : 0.9962774024541569\n",
            "재현율 : 0.8788157826154942\n",
            "F-Beta 점수 : 0.9505400462585382\n",
            "                FN     FP\n",
            "Capital       -8.0  -10.0\n",
            "Insurance     -9.0  -13.0\n",
            "Prediction  6975.0  189.0\n",
            "    Capital  Insurance  Prediction\n",
            "FN     -8.0       -9.0      6975.0\n",
            "FP    -10.0      -13.0       189.0\n",
            "    Capital  Insurance  Prediction  CapitalExpectedLoss  InsuranceExpectedLoss\n",
            "FN     -8.0       -9.0      6975.0             -55800.0               -62775.0\n",
            "FP    -10.0      -13.0       189.0              -1890.0                -2457.0\n",
            "-57690.0\n",
            "-65232.0\n",
            "                   0              1\n",
            "count  115114.000000  115114.000000\n",
            "mean        0.499698       0.500302\n",
            "std         0.416454       0.416454\n",
            "min         0.000377       0.022102\n",
            "25%         0.011958       0.106901\n",
            "50%         0.755975       0.244025\n",
            "75%         0.893099       0.988042\n",
            "max         0.977898       0.999623\n",
            "None\n",
            "num_leaves: 15\n",
            "[[50976  6581]\n",
            " [   87 57470]]\n",
            "정확도 : 0.9420748127942735\n",
            "정밀도 : 0.9982962223136126\n",
            "재현율 : 0.885661170665601\n",
            "F-Beta 점수 : 0.9545917255234186\n",
            "                FN    FP\n",
            "Capital       -8.0 -10.0\n",
            "Insurance     -9.0 -13.0\n",
            "Prediction  6581.0  87.0\n",
            "    Capital  Insurance  Prediction\n",
            "FN     -8.0       -9.0      6581.0\n",
            "FP    -10.0      -13.0        87.0\n",
            "    Capital  Insurance  Prediction  CapitalExpectedLoss  InsuranceExpectedLoss\n",
            "FN     -8.0       -9.0      6581.0             -52648.0               -59229.0\n",
            "FP    -10.0      -13.0        87.0               -870.0                -1131.0\n",
            "-53518.0\n",
            "-60360.0\n",
            "                   0              1\n",
            "count  115114.000000  115114.000000\n",
            "mean        0.499758       0.500242\n",
            "std         0.429482       0.429482\n",
            "min         0.000165       0.018143\n",
            "25%         0.004884       0.093507\n",
            "50%         0.780087       0.219913\n",
            "75%         0.906493       0.995116\n",
            "max         0.981857       0.999835\n",
            "None\n",
            "num_leaves: 20\n",
            "[[51185  6372]\n",
            " [   46 57511]]\n",
            "정확도 : 0.9442465729624546\n",
            "정밀도 : 0.9991021061466691\n",
            "재현율 : 0.8892923536667998\n",
            "F-Beta 점수 : 0.9565794952414913\n",
            "                FN    FP\n",
            "Capital       -8.0 -10.0\n",
            "Insurance     -9.0 -13.0\n",
            "Prediction  6372.0  46.0\n",
            "    Capital  Insurance  Prediction\n",
            "FN     -8.0       -9.0      6372.0\n",
            "FP    -10.0      -13.0        46.0\n",
            "    Capital  Insurance  Prediction  CapitalExpectedLoss  InsuranceExpectedLoss\n",
            "FN     -8.0       -9.0      6372.0             -50976.0               -57348.0\n",
            "FP    -10.0      -13.0        46.0               -460.0                 -598.0\n",
            "-51436.0\n",
            "-57946.0\n",
            "                   0              1\n",
            "count  115114.000000  115114.000000\n",
            "mean        0.499812       0.500188\n",
            "std         0.435562       0.435562\n",
            "min         0.000066       0.014721\n",
            "25%         0.002388       0.087808\n",
            "50%         0.790000       0.210000\n",
            "75%         0.912192       0.997612\n",
            "max         0.985279       0.999934\n",
            "None\n",
            "num_leaves: 25\n",
            "[[51336  6221]\n",
            " [   49 57508]]\n",
            "정확도 : 0.9455322549820179\n",
            "정밀도 : 0.999046414323246\n",
            "재현율 : 0.8919158399499626\n",
            "F-Beta 점수 : 0.9576375587330889\n",
            "                FN    FP\n",
            "Capital       -8.0 -10.0\n",
            "Insurance     -9.0 -13.0\n",
            "Prediction  6221.0  49.0\n",
            "    Capital  Insurance  Prediction\n",
            "FN     -8.0       -9.0      6221.0\n",
            "FP    -10.0      -13.0        49.0\n",
            "    Capital  Insurance  Prediction  CapitalExpectedLoss  InsuranceExpectedLoss\n",
            "FN     -8.0       -9.0      6221.0             -49768.0               -55989.0\n",
            "FP    -10.0      -13.0        49.0               -490.0                 -637.0\n",
            "-50258.0\n",
            "-56626.0\n",
            "                   0              1\n",
            "count  115114.000000  115114.000000\n",
            "mean        0.499869       0.500131\n",
            "std         0.438731       0.438731\n",
            "min         0.000034       0.012670\n",
            "25%         0.001453       0.084665\n",
            "50%         0.798043       0.201957\n",
            "75%         0.915335       0.998547\n",
            "max         0.987330       0.999966\n",
            "None\n"
          ]
        }
      ]
    },
    {
      "cell_type": "code",
      "source": [
        "g = 0\n",
        "for g in range(10, 15, 1):\n",
        "  print(f\"num_leaves: {g}\")\n",
        "  print(lgbm(split_ratio = 0.2, leaves = g, min_leaf=20, app='regression', boost = 'gbdt'))"
      ],
      "metadata": {
        "colab": {
          "base_uri": "https://localhost:8080/"
        },
        "id": "Br4DA5SGbu4b",
        "outputId": "79376c73-b40d-4628-fb64-a4cc86053b96"
      },
      "execution_count": null,
      "outputs": [
        {
          "output_type": "stream",
          "name": "stdout",
          "text": [
            "num_leaves: 10\n",
            "[[50582  6975]\n",
            " [  189 57368]]\n",
            "정확도 : 0.9377660406206022\n",
            "정밀도 : 0.9962774024541569\n",
            "재현율 : 0.8788157826154942\n",
            "F-Beta 점수 : 0.9505400462585382\n",
            "                FN     FP\n",
            "Capital       -8.0  -10.0\n",
            "Insurance     -9.0  -13.0\n",
            "Prediction  6975.0  189.0\n",
            "    Capital  Insurance  Prediction\n",
            "FN     -8.0       -9.0      6975.0\n",
            "FP    -10.0      -13.0       189.0\n",
            "    Capital  Insurance  Prediction  CapitalExpectedLoss  InsuranceExpectedLoss\n",
            "FN     -8.0       -9.0      6975.0             -55800.0               -62775.0\n",
            "FP    -10.0      -13.0       189.0              -1890.0                -2457.0\n",
            "-57690.0\n",
            "-65232.0\n",
            "                   0              1\n",
            "count  115114.000000  115114.000000\n",
            "mean        0.499698       0.500302\n",
            "std         0.416454       0.416454\n",
            "min         0.000377       0.022102\n",
            "25%         0.011958       0.106901\n",
            "50%         0.755975       0.244025\n",
            "75%         0.893099       0.988042\n",
            "max         0.977898       0.999623\n",
            "None\n",
            "num_leaves: 11\n",
            "[[50726  6831]\n",
            " [  136 57421]]\n",
            "정확도 : 0.9394773876331289\n",
            "정밀도 : 0.9973260980692855\n",
            "재현율 : 0.8813176503292388\n",
            "F-Beta 점수 : 0.9522039637934984\n",
            "                FN     FP\n",
            "Capital       -8.0  -10.0\n",
            "Insurance     -9.0  -13.0\n",
            "Prediction  6831.0  136.0\n",
            "    Capital  Insurance  Prediction\n",
            "FN     -8.0       -9.0      6831.0\n",
            "FP    -10.0      -13.0       136.0\n",
            "    Capital  Insurance  Prediction  CapitalExpectedLoss  InsuranceExpectedLoss\n",
            "FN     -8.0       -9.0      6831.0             -54648.0               -61479.0\n",
            "FP    -10.0      -13.0       136.0              -1360.0                -1768.0\n",
            "-56008.0\n",
            "-63247.0\n",
            "                   0              1\n",
            "count  115114.000000  115114.000000\n",
            "mean        0.499786       0.500214\n",
            "std         0.420463       0.420463\n",
            "min         0.000328       0.022761\n",
            "25%         0.009785       0.102093\n",
            "50%         0.764785       0.235215\n",
            "75%         0.897907       0.990215\n",
            "max         0.977239       0.999672\n",
            "None\n",
            "num_leaves: 12\n",
            "[[50791  6766]\n",
            " [  138 57419]]\n",
            "정확도 : 0.9400246711955106\n",
            "정밀도 : 0.9972903453827878\n",
            "재현율 : 0.882446965616693\n",
            "F-Beta 점수 : 0.9526572969598844\n",
            "                FN     FP\n",
            "Capital       -8.0  -10.0\n",
            "Insurance     -9.0  -13.0\n",
            "Prediction  6766.0  138.0\n",
            "    Capital  Insurance  Prediction\n",
            "FN     -8.0       -9.0      6766.0\n",
            "FP    -10.0      -13.0       138.0\n",
            "    Capital  Insurance  Prediction  CapitalExpectedLoss  InsuranceExpectedLoss\n",
            "FN     -8.0       -9.0      6766.0             -54128.0               -60894.0\n",
            "FP    -10.0      -13.0       138.0              -1380.0                -1794.0\n",
            "-55508.0\n",
            "-62688.0\n",
            "                   0              1\n",
            "count  115114.000000  115114.000000\n",
            "mean        0.499753       0.500247\n",
            "std         0.423389       0.423389\n",
            "min         0.000251       0.020676\n",
            "25%         0.007441       0.098959\n",
            "50%         0.766618       0.233382\n",
            "75%         0.901041       0.992559\n",
            "max         0.979324       0.999749\n",
            "None\n",
            "num_leaves: 13\n",
            "[[50861  6696]\n",
            " [   93 57464]]\n",
            "정확도 : 0.9410236808728738\n",
            "정밀도 : 0.9981748243513757\n",
            "재현율 : 0.8836631513108745\n",
            "F-Beta 점수 : 0.9536840431508232\n",
            "                FN    FP\n",
            "Capital       -8.0 -10.0\n",
            "Insurance     -9.0 -13.0\n",
            "Prediction  6696.0  93.0\n",
            "    Capital  Insurance  Prediction\n",
            "FN     -8.0       -9.0      6696.0\n",
            "FP    -10.0      -13.0        93.0\n",
            "    Capital  Insurance  Prediction  CapitalExpectedLoss  InsuranceExpectedLoss\n",
            "FN     -8.0       -9.0      6696.0             -53568.0               -60264.0\n",
            "FP    -10.0      -13.0        93.0               -930.0                -1209.0\n",
            "-54498.0\n",
            "-61473.0\n",
            "                   0              1\n",
            "count  115114.000000  115114.000000\n",
            "mean        0.499755       0.500245\n",
            "std         0.425923       0.425923\n",
            "min         0.000243       0.018918\n",
            "25%         0.006284       0.097814\n",
            "50%         0.774234       0.225766\n",
            "75%         0.902186       0.993716\n",
            "max         0.981082       0.999757\n",
            "None\n",
            "num_leaves: 14\n",
            "[[50935  6622]\n",
            " [   80 57477]]\n",
            "정확도 : 0.9417794534114009\n",
            "정밀도 : 0.99843183377438\n",
            "재현율 : 0.8849488333304376\n",
            "F-Beta 점수 : 0.9543729712430853\n",
            "                FN    FP\n",
            "Capital       -8.0 -10.0\n",
            "Insurance     -9.0 -13.0\n",
            "Prediction  6622.0  80.0\n",
            "    Capital  Insurance  Prediction\n",
            "FN     -8.0       -9.0      6622.0\n",
            "FP    -10.0      -13.0        80.0\n",
            "    Capital  Insurance  Prediction  CapitalExpectedLoss  InsuranceExpectedLoss\n",
            "FN     -8.0       -9.0      6622.0             -52976.0               -59598.0\n",
            "FP    -10.0      -13.0        80.0               -800.0                -1040.0\n",
            "-53776.0\n",
            "-60638.0\n",
            "                   0              1\n",
            "count  115114.000000  115114.000000\n",
            "mean        0.499786       0.500214\n",
            "std         0.427484       0.427484\n",
            "min         0.000262       0.018875\n",
            "25%         0.005751       0.095049\n",
            "50%         0.774634       0.225366\n",
            "75%         0.904951       0.994249\n",
            "max         0.981125       0.999738\n",
            "None\n"
          ]
        }
      ]
    },
    {
      "cell_type": "code",
      "source": [
        "# 과적합 확인\n",
        "# train model : train pred\n",
        "\n",
        "def lgbm2(split_ratio: float, leaves: float, app: str, boost: str):\n",
        "  X_train, X_test, y_train, y_test = train_test_split(X_smote,\n",
        "                                                      y_smote,\n",
        "                                                      stratify = y_smote,\n",
        "                                                      test_size = split_ratio,\n",
        "                                                      random_state = 2022)\n",
        "\n",
        "  LGBM = LGBMClassifier(max_depth = 21,\n",
        "                        num_leaves = leaves,\n",
        "                          # [전체 트리의 leave 수 ; default 31]\n",
        "                        application = app,\n",
        "                          # ['regression', 'binary', 'muliclass' ; defalut regression]\n",
        "                        boosting = boost,\n",
        "                          # [boosting type : 'gbdt'(Gradient Boosting Decision Tree), 'dart'(Dropouts meet Multiple Additive Regression Trees), 'rf'(Random Forest) ; default gbdt]\n",
        "                        n_estimator = 1000)\n",
        "  LGBM.fit(X_train, y_train)\n",
        "  y_pred = LGBM.predict(X_train)\n",
        "  y_pred = np.array(y_pred)\n",
        "  y_test = np.array(y_train)\n",
        "\n",
        "  TP = 0\n",
        "  FN = 0\n",
        "  FP = 0\n",
        "  TN = 0\n",
        "\n",
        "  for i in range(len(y_pred)):\n",
        "    if y_test[i] == y_pred[i] == 1 :\n",
        "      TP += 1\n",
        "    if y_test[i] == 1 and y_pred[i] == 0 :\n",
        "      FN += 1\n",
        "    if y_test[i] == 0 and y_pred[i] == 1 :\n",
        "      FP += 1\n",
        "    if y_test[i] == y_pred[i] == 0 :\n",
        "      TN += 1\n",
        "\n",
        "  confusionMatrix = np.array([[TP, FN], [FP, TN]]).reshape(2,2)\n",
        "  print(confusionMatrix)\n",
        "  Precision = TP / (TP + FP)\n",
        "  Recall = TP / (TP + FN)\n",
        "  print(\"정확도 :\", (TP + TN) / (TP + FN + FP + TN))\n",
        "  print(\"정밀도 :\", Precision)\n",
        "  print(\"재현율 :\", Recall)\n",
        "  print(\"F-Beta 점수 :\", ((1+(0.75**2))*Precision*Recall) / ((0.75**2)*Precision + Recall))\n",
        "\n",
        "  # 분류 가중치 테이블\n",
        "  DBCapital = [2735, 23872]\n",
        "  DBInsurance = [6981, 488399]\n",
        "  DBCapital = pd.Series(DBCapital)\n",
        "  DBInsurance = pd.Series(DBInsurance)\n",
        "  DBWeights = pd.DataFrame({\n",
        "      \"Capital\" : DBCapital,\n",
        "      \"Insurance\" : DBInsurance\n",
        "  }).T\n",
        "  DBWeights.columns = [\"FN\", \"FP\"]\n",
        "  DBWeights\n",
        "\n",
        "  # 분류 가중치 단위 조정 : 자연로그 변환\n",
        "  DBWeights_loge = np.log(DBWeights)\n",
        "  classifyWeights = round(DBWeights_loge, 0)\n",
        "  classifyWeights = -(classifyWeights)\n",
        "    # [FN, FP 음수로 치환]\n",
        "  classifyWeights.at[2,:] = confusionMatrix[[0,1], [1,0]]\n",
        "    # [confusionMatrix[[0,1], [1,0]] = Prediction(FN, FP의 개수)\n",
        "  classifyWeights.index = [\"Capital\", \"Insurance\", \"Prediction\"]\n",
        "  print(classifyWeights)\n",
        "\n",
        "  classifyWeights = classifyWeights.transpose()\n",
        "  print(classifyWeights)\n",
        "\n",
        "  classifyWeights[\"CapitalExpectedLoss\"] = classifyWeights[\"Capital\"] * classifyWeights[\"Prediction\"]\n",
        "  classifyWeights[\"InsuranceExpectedLoss\"] = classifyWeights[\"Insurance\"] * classifyWeights[\"Prediction\"]\n",
        "  print(classifyWeights)\n",
        "\n",
        "  print(sum(classifyWeights[\"CapitalExpectedLoss\"]))\n",
        "  print(sum(classifyWeights[\"InsuranceExpectedLoss\"]))\n",
        "\n",
        "  decisionTreeProb = LGBM.predict_proba(X_train)\n",
        "  print(pd.DataFrame(decisionTreeProb).describe())\n",
        "    # [분류 확률의 분포 출력]"
      ],
      "metadata": {
        "id": "kVLA0ypFEvv-"
      },
      "execution_count": null,
      "outputs": []
    },
    {
      "cell_type": "code",
      "source": [
        "lgbm2(split_ratio = 0.2, leaves = 10, app = 'regression', boost = 'gbdt')"
      ],
      "metadata": {
        "colab": {
          "base_uri": "https://localhost:8080/"
        },
        "id": "pNiq97DCE4vM",
        "outputId": "b54fef0c-2264-4d09-f6e1-e6128733423a"
      },
      "execution_count": null,
      "outputs": [
        {
          "output_type": "stream",
          "name": "stdout",
          "text": [
            "[[202264  27962]\n",
            " [   744 229482]]\n",
            "정확도 : 0.9376569110352436\n",
            "정밀도 : 0.9963351197982345\n",
            "재현율 : 0.8785454292738439\n",
            "F-Beta 점수 : 0.9504597792322866\n",
            "                 FN     FP\n",
            "Capital        -8.0  -10.0\n",
            "Insurance      -9.0  -13.0\n",
            "Prediction  27962.0  744.0\n",
            "    Capital  Insurance  Prediction\n",
            "FN     -8.0       -9.0     27962.0\n",
            "FP    -10.0      -13.0       744.0\n",
            "    Capital  Insurance  Prediction  CapitalExpectedLoss  InsuranceExpectedLoss\n",
            "FN     -8.0       -9.0     27962.0            -223696.0              -251658.0\n",
            "FP    -10.0      -13.0       744.0              -7440.0                -9672.0\n",
            "-231136.0\n",
            "-261330.0\n",
            "                   0              1\n",
            "count  460452.000000  460452.000000\n",
            "mean        0.499961       0.500039\n",
            "std         0.416338       0.416338\n",
            "min         0.000377       0.022334\n",
            "25%         0.011951       0.106710\n",
            "50%         0.755526       0.244474\n",
            "75%         0.893290       0.988049\n",
            "max         0.977666       0.999623\n"
          ]
        }
      ]
    },
    {
      "cell_type": "markdown",
      "source": [
        "#### 3) 나이브 베이지안 분류기 : 가우시안, 베르누이, 범주형"
      ],
      "metadata": {
        "id": "zpkuBTAOAy9H"
      }
    },
    {
      "cell_type": "code",
      "source": [
        "def BinaryNaiveBayes(X: pd.DataFrame, y: pd.Series, split_ratio: float, smoothing: int, weights: float):\n",
        "  np.random.seed(2023)\n",
        "  X_train, X_test, y_train, y_test = train_test_split(X,\n",
        "                                                      y,\n",
        "                                                      stratify = y,\n",
        "                                                      test_size = split_ratio,\n",
        "                                                      random_state = 2023)\n",
        "  binaryNB = BernoulliNB(\n",
        "      binarize = 0,\n",
        "      alpha = smoothing,\n",
        "      fit_prior = True,\n",
        "      class_prior = None)\n",
        "        # [binarize] 특성변수 표본을 이진분류하는 임계값으로 X 독립변수는 더미인코딩하여 0(defalut) 설정\n",
        "        # [alpha] 평활화(스무딩) 여부\n",
        "        # [fit_prior] 사전확률을 균일분포(0,1)을 따르도록 할 것인지 설정\n",
        "        # [class_prior] 종속변수의 각 클래스별 사전확률 구체화하지 않고 데이터 분포를 따르도록 설정\n",
        "\n",
        "  target_wt = [weights if target == 1 else 1 for target in y_train]\n",
        "      # [sample_weight] 클래스 불균형을 4:1로 완화하기 위해 소수클래스에 가중치 3배 부여\n",
        "      # [Error] is_scalar(key) and isna(key) and not self.hasnans: KeyError: 0\n",
        "      # [The sample_weight and class_weight are two different things.]\n",
        "      # [sample_weight] array-like of shape (n_samples,), default = None\n",
        "\n",
        "  binaryNB.fit(X_train, y_train, sample_weight = target_wt)\n",
        "  y_pred_test = binaryNB.predict(X_test)\n",
        "  y_pred_train = binaryNB.predict(X_train)\n",
        "\n",
        "  print(dt_eval(y_test, y_pred_test))\n",
        "  print(dt_eval(y_train, y_pred_train))"
      ],
      "metadata": {
        "id": "TZeziD7xA9Xr"
      },
      "execution_count": null,
      "outputs": []
    },
    {
      "cell_type": "code",
      "source": [
        "BinaryNaiveBayes(X = X_binsDiscretize, y = y, split_ratio = 0.2, smoothing = 1, weights = 3)"
      ],
      "metadata": {
        "colab": {
          "base_uri": "https://localhost:8080/"
        },
        "id": "j5YGD2ImRiZz",
        "outputId": "ff82773b-f794-4e15-8f6c-8f87bef4c16c"
      },
      "execution_count": null,
      "outputs": [
        {
          "output_type": "stream",
          "name": "stdout",
          "text": [
            "혼동 행렬\n",
            "[[ 1312  3835]\n",
            " [ 7911 49646]]\n",
            "정확도: 0.8126754274049502\n",
            "정밀도: 0.1422530629946872\n",
            "재현율: 0.2549057703516612\n",
            "F1: 0.18260264439805152\n",
            "F-0.75: 0.16916721250599565\n",
            "None\n",
            "혼동 행렬\n",
            "[[  5219  15370]\n",
            " [ 31616 198610]]\n",
            "정확도: 0.8126667065366904\n",
            "정밀도: 0.14168589656576625\n",
            "재현율: 0.25348487056195057\n",
            "F1: 0.18177068821398717\n",
            "F-0.75: 0.16842851260099578\n",
            "None\n"
          ]
        }
      ]
    },
    {
      "cell_type": "code",
      "source": [
        "BinaryNaiveBayes(X = X_smote, y = y_smote, split_ratio = 0.2, smoothing = 1, weights = 3)"
      ],
      "metadata": {
        "colab": {
          "base_uri": "https://localhost:8080/"
        },
        "id": "SV_pGKjLW8ox",
        "outputId": "15b7840a-bce7-44d6-a98e-9fd2f159e879"
      },
      "execution_count": null,
      "outputs": [
        {
          "output_type": "stream",
          "name": "stdout",
          "text": [
            "혼동 행렬\n",
            "[[50959  6598]\n",
            " [ 6935 50622]]\n",
            "정확도: 0.8824382785760203\n",
            "정밀도: 0.8802121117905137\n",
            "재현율: 0.8853658112827284\n",
            "F1: 0.882781439745\n",
            "F-0.75: 0.8820605171856317\n",
            "None\n",
            "혼동 행렬\n",
            "[[203750  26476]\n",
            " [ 27781 202445]]\n",
            "정확도: 0.8821657849243787\n",
            "정밀도: 0.8800117478868921\n",
            "재현율: 0.8849999565644193\n",
            "F1: 0.8824988034832173\n",
            "F-0.75: 0.881801012026251\n",
            "None\n"
          ]
        }
      ]
    },
    {
      "cell_type": "code",
      "source": [
        "def CategoricalNaiveBayes(X: pd.DataFrame, split_ratio: float, smoothing: int, weights: float):\n",
        "  np.random.seed(2023)\n",
        "  X_train, X_test, y_train, y_test = train_test_split(X,\n",
        "                                                      y,\n",
        "                                                      stratify = y,\n",
        "                                                      test_size = split_ratio,\n",
        "                                                      random_state = 2023)\n",
        "  binaryNB = CategoricalNB(\n",
        "      binarize = 0,\n",
        "      alpha = smoothing,\n",
        "      fit_prior = True,\n",
        "      class_prior = None)\n",
        "        # [binarize] 특성변수 표본을 이진분류하는 임계값으로 X 독립변수는 더미 인코딩하여 0(defalut) 설정\n",
        "        # [alpha] 평활화(스무딩) 여부\n",
        "        # [fit_prior] 사전확률을 균일분포(0,1)을 따르도록 할 것인지 설정\n",
        "        # [class_prior] 종속변수의 각 클래스별 사전확률 구체화하지 않고 데이터 분포를 따르도록 설정\n",
        "\n",
        "  target_wt = [weights if target == 1 else 1 for target in y_train]\n",
        "\n",
        "  binaryNB.fit(X_train, y_train, sample_weight = target_wt)\n",
        "  y_pred_test = binaryNB.predict(X_test)\n",
        "  y_pred_train = binaryNB.predict(X_train)\n",
        "\n",
        "  print(dt_eval(y_test, y_pred_test))\n",
        "  print(dt_eval(y_train, y_pred_train))"
      ],
      "metadata": {
        "id": "umek1koxUUxR"
      },
      "execution_count": null,
      "outputs": []
    },
    {
      "cell_type": "code",
      "source": [
        "CategoricalNaiveBayes(X = X_reduction, split_ratio = 0.2, smoothing = 1, weights = 3)"
      ],
      "metadata": {
        "colab": {
          "base_uri": "https://localhost:8080/"
        },
        "id": "A7Wd4AWMUoVq",
        "outputId": "04d7b0a9-3112-40e5-f7f8-7de112f16fca"
      },
      "execution_count": null,
      "outputs": [
        {
          "output_type": "stream",
          "name": "stdout",
          "text": [
            "혼동 행렬\n",
            "[[  924  4223]\n",
            " [ 4393 53164]]\n",
            "정확도: 0.8625924980862465\n",
            "정밀도: 0.17378220801203687\n",
            "재현율: 0.17952205168059063\n",
            "F1: 0.17660550458715596\n",
            "F-0.75: 0.17580577647551274\n",
            "None\n",
            "혼동 행렬\n",
            "[[  3616  16973]\n",
            " [ 17564 212662]]\n",
            "정확도: 0.862300899069035\n",
            "정밀도: 0.17072710103871577\n",
            "재현율: 0.17562776239739666\n",
            "F1: 0.1731427613780555\n",
            "F-0.75: 0.17245951303080428\n",
            "None\n"
          ]
        }
      ]
    },
    {
      "cell_type": "markdown",
      "source": [
        "#### 4) 이항 로지스틱 회귀분석"
      ],
      "metadata": {
        "id": "QcA8zrvR_KFO"
      }
    },
    {
      "cell_type": "code",
      "source": [
        "def BinaryLogisticRegression(X: pd.DataFrame, y: pd.Series, split_ratio: float):\n",
        "  np.random.seed(2023)\n",
        "  X_train, X_test, y_train, y_test = train_test_split(X,\n",
        "                                                      y,\n",
        "                                                      stratify = y,\n",
        "                                                      test_size = split_ratio,\n",
        "                                                      random_state = 2023)\n",
        "\n",
        "  glm = LogisticRegression()\n",
        "  glm.fit(X_train, y_train)\n",
        "  y_pred_test = glm.predict(X_test)\n",
        "  y_pred_train = glm.predict(X_train)\n",
        "\n",
        "  print(dt_eval(y_test, y_pred_test))\n",
        "  print(dt_eval(y_train, y_pred_train))\n",
        "\n",
        "  sns.boxplot(glm.predict_proba(X_test))\n",
        "\n",
        "BinaryLogisticRegression(X = X_smote.drop([\"CODE_GENDER_F\", \"CODE_GENDER_M\"], axis = 1), y = y_smote, split_ratio = 0.2)"
      ],
      "metadata": {
        "id": "TbCDJCND_JbP"
      },
      "execution_count": null,
      "outputs": []
    },
    {
      "cell_type": "markdown",
      "metadata": {
        "id": "2_PxEzi4bDxb"
      },
      "source": [
        "#### 5) 서포트 벡터 머신"
      ]
    },
    {
      "cell_type": "code",
      "execution_count": null,
      "metadata": {
        "id": "9bGmKiG86Tg3"
      },
      "outputs": [],
      "source": []
    },
    {
      "cell_type": "code",
      "source": [],
      "metadata": {
        "id": "ElaHptMwVSxm"
      },
      "execution_count": null,
      "outputs": []
    }
  ]
}